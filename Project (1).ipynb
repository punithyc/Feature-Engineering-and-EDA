{
 "cells": [
  {
   "cell_type": "markdown",
   "id": "69c4fa57",
   "metadata": {},
   "source": [
    "#### Importing libraries"
   ]
  },
  {
   "cell_type": "code",
   "execution_count": 1,
   "id": "f6482e21",
   "metadata": {},
   "outputs": [],
   "source": [
    "import pandas as pd\n",
    "import numpy as np\n",
    "import matplotlib.pyplot as plt\n",
    "import seaborn as sns\n"
   ]
  },
  {
   "cell_type": "markdown",
   "id": "18ee24b6",
   "metadata": {},
   "source": [
    "#### loading data"
   ]
  },
  {
   "cell_type": "code",
   "execution_count": 2,
   "id": "fde9bada",
   "metadata": {},
   "outputs": [],
   "source": [
    "data=pd.read_csv(\"C:\\\\Users\\\\punith yc\\\\Downloads\\\\Fraud.csv\")"
   ]
  },
  {
   "cell_type": "markdown",
   "id": "b61bf7ea",
   "metadata": {},
   "source": [
    "#### first 5 rows of a dataset"
   ]
  },
  {
   "cell_type": "code",
   "execution_count": 3,
   "id": "a02a7d0d",
   "metadata": {},
   "outputs": [
    {
     "data": {
      "text/html": [
       "<div>\n",
       "<style scoped>\n",
       "    .dataframe tbody tr th:only-of-type {\n",
       "        vertical-align: middle;\n",
       "    }\n",
       "\n",
       "    .dataframe tbody tr th {\n",
       "        vertical-align: top;\n",
       "    }\n",
       "\n",
       "    .dataframe thead th {\n",
       "        text-align: right;\n",
       "    }\n",
       "</style>\n",
       "<table border=\"1\" class=\"dataframe\">\n",
       "  <thead>\n",
       "    <tr style=\"text-align: right;\">\n",
       "      <th></th>\n",
       "      <th>step</th>\n",
       "      <th>type</th>\n",
       "      <th>amount</th>\n",
       "      <th>nameOrig</th>\n",
       "      <th>oldbalanceOrg</th>\n",
       "      <th>newbalanceOrig</th>\n",
       "      <th>nameDest</th>\n",
       "      <th>oldbalanceDest</th>\n",
       "      <th>newbalanceDest</th>\n",
       "      <th>isFraud</th>\n",
       "      <th>isFlaggedFraud</th>\n",
       "    </tr>\n",
       "  </thead>\n",
       "  <tbody>\n",
       "    <tr>\n",
       "      <th>0</th>\n",
       "      <td>1</td>\n",
       "      <td>PAYMENT</td>\n",
       "      <td>9839.64</td>\n",
       "      <td>C1231006815</td>\n",
       "      <td>170136.0</td>\n",
       "      <td>160296.36</td>\n",
       "      <td>M1979787155</td>\n",
       "      <td>0.0</td>\n",
       "      <td>0.0</td>\n",
       "      <td>0</td>\n",
       "      <td>0</td>\n",
       "    </tr>\n",
       "    <tr>\n",
       "      <th>1</th>\n",
       "      <td>1</td>\n",
       "      <td>PAYMENT</td>\n",
       "      <td>1864.28</td>\n",
       "      <td>C1666544295</td>\n",
       "      <td>21249.0</td>\n",
       "      <td>19384.72</td>\n",
       "      <td>M2044282225</td>\n",
       "      <td>0.0</td>\n",
       "      <td>0.0</td>\n",
       "      <td>0</td>\n",
       "      <td>0</td>\n",
       "    </tr>\n",
       "    <tr>\n",
       "      <th>2</th>\n",
       "      <td>1</td>\n",
       "      <td>TRANSFER</td>\n",
       "      <td>181.00</td>\n",
       "      <td>C1305486145</td>\n",
       "      <td>181.0</td>\n",
       "      <td>0.00</td>\n",
       "      <td>C553264065</td>\n",
       "      <td>0.0</td>\n",
       "      <td>0.0</td>\n",
       "      <td>1</td>\n",
       "      <td>0</td>\n",
       "    </tr>\n",
       "    <tr>\n",
       "      <th>3</th>\n",
       "      <td>1</td>\n",
       "      <td>CASH_OUT</td>\n",
       "      <td>181.00</td>\n",
       "      <td>C840083671</td>\n",
       "      <td>181.0</td>\n",
       "      <td>0.00</td>\n",
       "      <td>C38997010</td>\n",
       "      <td>21182.0</td>\n",
       "      <td>0.0</td>\n",
       "      <td>1</td>\n",
       "      <td>0</td>\n",
       "    </tr>\n",
       "    <tr>\n",
       "      <th>4</th>\n",
       "      <td>1</td>\n",
       "      <td>PAYMENT</td>\n",
       "      <td>11668.14</td>\n",
       "      <td>C2048537720</td>\n",
       "      <td>41554.0</td>\n",
       "      <td>29885.86</td>\n",
       "      <td>M1230701703</td>\n",
       "      <td>0.0</td>\n",
       "      <td>0.0</td>\n",
       "      <td>0</td>\n",
       "      <td>0</td>\n",
       "    </tr>\n",
       "  </tbody>\n",
       "</table>\n",
       "</div>"
      ],
      "text/plain": [
       "   step      type    amount     nameOrig  oldbalanceOrg  newbalanceOrig  \\\n",
       "0     1   PAYMENT   9839.64  C1231006815       170136.0       160296.36   \n",
       "1     1   PAYMENT   1864.28  C1666544295        21249.0        19384.72   \n",
       "2     1  TRANSFER    181.00  C1305486145          181.0            0.00   \n",
       "3     1  CASH_OUT    181.00   C840083671          181.0            0.00   \n",
       "4     1   PAYMENT  11668.14  C2048537720        41554.0        29885.86   \n",
       "\n",
       "      nameDest  oldbalanceDest  newbalanceDest  isFraud  isFlaggedFraud  \n",
       "0  M1979787155             0.0             0.0        0               0  \n",
       "1  M2044282225             0.0             0.0        0               0  \n",
       "2   C553264065             0.0             0.0        1               0  \n",
       "3    C38997010         21182.0             0.0        1               0  \n",
       "4  M1230701703             0.0             0.0        0               0  "
      ]
     },
     "execution_count": 3,
     "metadata": {},
     "output_type": "execute_result"
    }
   ],
   "source": [
    "data.head()"
   ]
  },
  {
   "cell_type": "markdown",
   "id": "a7a6a973",
   "metadata": {},
   "source": [
    "#### last 5 rows of a datset"
   ]
  },
  {
   "cell_type": "code",
   "execution_count": 4,
   "id": "9542e111",
   "metadata": {},
   "outputs": [
    {
     "data": {
      "text/html": [
       "<div>\n",
       "<style scoped>\n",
       "    .dataframe tbody tr th:only-of-type {\n",
       "        vertical-align: middle;\n",
       "    }\n",
       "\n",
       "    .dataframe tbody tr th {\n",
       "        vertical-align: top;\n",
       "    }\n",
       "\n",
       "    .dataframe thead th {\n",
       "        text-align: right;\n",
       "    }\n",
       "</style>\n",
       "<table border=\"1\" class=\"dataframe\">\n",
       "  <thead>\n",
       "    <tr style=\"text-align: right;\">\n",
       "      <th></th>\n",
       "      <th>step</th>\n",
       "      <th>type</th>\n",
       "      <th>amount</th>\n",
       "      <th>nameOrig</th>\n",
       "      <th>oldbalanceOrg</th>\n",
       "      <th>newbalanceOrig</th>\n",
       "      <th>nameDest</th>\n",
       "      <th>oldbalanceDest</th>\n",
       "      <th>newbalanceDest</th>\n",
       "      <th>isFraud</th>\n",
       "      <th>isFlaggedFraud</th>\n",
       "    </tr>\n",
       "  </thead>\n",
       "  <tbody>\n",
       "    <tr>\n",
       "      <th>6362615</th>\n",
       "      <td>743</td>\n",
       "      <td>CASH_OUT</td>\n",
       "      <td>339682.13</td>\n",
       "      <td>C786484425</td>\n",
       "      <td>339682.13</td>\n",
       "      <td>0.0</td>\n",
       "      <td>C776919290</td>\n",
       "      <td>0.00</td>\n",
       "      <td>339682.13</td>\n",
       "      <td>1</td>\n",
       "      <td>0</td>\n",
       "    </tr>\n",
       "    <tr>\n",
       "      <th>6362616</th>\n",
       "      <td>743</td>\n",
       "      <td>TRANSFER</td>\n",
       "      <td>6311409.28</td>\n",
       "      <td>C1529008245</td>\n",
       "      <td>6311409.28</td>\n",
       "      <td>0.0</td>\n",
       "      <td>C1881841831</td>\n",
       "      <td>0.00</td>\n",
       "      <td>0.00</td>\n",
       "      <td>1</td>\n",
       "      <td>0</td>\n",
       "    </tr>\n",
       "    <tr>\n",
       "      <th>6362617</th>\n",
       "      <td>743</td>\n",
       "      <td>CASH_OUT</td>\n",
       "      <td>6311409.28</td>\n",
       "      <td>C1162922333</td>\n",
       "      <td>6311409.28</td>\n",
       "      <td>0.0</td>\n",
       "      <td>C1365125890</td>\n",
       "      <td>68488.84</td>\n",
       "      <td>6379898.11</td>\n",
       "      <td>1</td>\n",
       "      <td>0</td>\n",
       "    </tr>\n",
       "    <tr>\n",
       "      <th>6362618</th>\n",
       "      <td>743</td>\n",
       "      <td>TRANSFER</td>\n",
       "      <td>850002.52</td>\n",
       "      <td>C1685995037</td>\n",
       "      <td>850002.52</td>\n",
       "      <td>0.0</td>\n",
       "      <td>C2080388513</td>\n",
       "      <td>0.00</td>\n",
       "      <td>0.00</td>\n",
       "      <td>1</td>\n",
       "      <td>0</td>\n",
       "    </tr>\n",
       "    <tr>\n",
       "      <th>6362619</th>\n",
       "      <td>743</td>\n",
       "      <td>CASH_OUT</td>\n",
       "      <td>850002.52</td>\n",
       "      <td>C1280323807</td>\n",
       "      <td>850002.52</td>\n",
       "      <td>0.0</td>\n",
       "      <td>C873221189</td>\n",
       "      <td>6510099.11</td>\n",
       "      <td>7360101.63</td>\n",
       "      <td>1</td>\n",
       "      <td>0</td>\n",
       "    </tr>\n",
       "  </tbody>\n",
       "</table>\n",
       "</div>"
      ],
      "text/plain": [
       "         step      type      amount     nameOrig  oldbalanceOrg  \\\n",
       "6362615   743  CASH_OUT   339682.13   C786484425      339682.13   \n",
       "6362616   743  TRANSFER  6311409.28  C1529008245     6311409.28   \n",
       "6362617   743  CASH_OUT  6311409.28  C1162922333     6311409.28   \n",
       "6362618   743  TRANSFER   850002.52  C1685995037      850002.52   \n",
       "6362619   743  CASH_OUT   850002.52  C1280323807      850002.52   \n",
       "\n",
       "         newbalanceOrig     nameDest  oldbalanceDest  newbalanceDest  isFraud  \\\n",
       "6362615             0.0   C776919290            0.00       339682.13        1   \n",
       "6362616             0.0  C1881841831            0.00            0.00        1   \n",
       "6362617             0.0  C1365125890        68488.84      6379898.11        1   \n",
       "6362618             0.0  C2080388513            0.00            0.00        1   \n",
       "6362619             0.0   C873221189      6510099.11      7360101.63        1   \n",
       "\n",
       "         isFlaggedFraud  \n",
       "6362615               0  \n",
       "6362616               0  \n",
       "6362617               0  \n",
       "6362618               0  \n",
       "6362619               0  "
      ]
     },
     "execution_count": 4,
     "metadata": {},
     "output_type": "execute_result"
    }
   ],
   "source": [
    "data.tail()"
   ]
  },
  {
   "cell_type": "code",
   "execution_count": 5,
   "id": "f8466022",
   "metadata": {},
   "outputs": [
    {
     "data": {
      "text/plain": [
       "(6362620, 11)"
      ]
     },
     "execution_count": 5,
     "metadata": {},
     "output_type": "execute_result"
    }
   ],
   "source": [
    "data.shape"
   ]
  },
  {
   "cell_type": "markdown",
   "id": "a30b3c75",
   "metadata": {},
   "source": [
    "#### dataset informations"
   ]
  },
  {
   "cell_type": "code",
   "execution_count": 6,
   "id": "ea7ddb85",
   "metadata": {},
   "outputs": [
    {
     "name": "stdout",
     "output_type": "stream",
     "text": [
      "<class 'pandas.core.frame.DataFrame'>\n",
      "RangeIndex: 6362620 entries, 0 to 6362619\n",
      "Data columns (total 11 columns):\n",
      " #   Column          Dtype  \n",
      "---  ------          -----  \n",
      " 0   step            int64  \n",
      " 1   type            object \n",
      " 2   amount          float64\n",
      " 3   nameOrig        object \n",
      " 4   oldbalanceOrg   float64\n",
      " 5   newbalanceOrig  float64\n",
      " 6   nameDest        object \n",
      " 7   oldbalanceDest  float64\n",
      " 8   newbalanceDest  float64\n",
      " 9   isFraud         int64  \n",
      " 10  isFlaggedFraud  int64  \n",
      "dtypes: float64(5), int64(3), object(3)\n",
      "memory usage: 534.0+ MB\n"
     ]
    }
   ],
   "source": [
    "data.info()"
   ]
  },
  {
   "cell_type": "markdown",
   "id": "e527b75a",
   "metadata": {},
   "source": [
    "#### checking the number of missing values in a column"
   ]
  },
  {
   "cell_type": "code",
   "execution_count": 7,
   "id": "f19ade79",
   "metadata": {
    "scrolled": true
   },
   "outputs": [
    {
     "data": {
      "text/plain": [
       "step              0\n",
       "type              0\n",
       "amount            0\n",
       "nameOrig          0\n",
       "oldbalanceOrg     0\n",
       "newbalanceOrig    0\n",
       "nameDest          0\n",
       "oldbalanceDest    0\n",
       "newbalanceDest    0\n",
       "isFraud           0\n",
       "isFlaggedFraud    0\n",
       "dtype: int64"
      ]
     },
     "execution_count": 7,
     "metadata": {},
     "output_type": "execute_result"
    }
   ],
   "source": [
    "data.isnull().sum()"
   ]
  },
  {
   "cell_type": "markdown",
   "id": "2b4db78f",
   "metadata": {},
   "source": [
    "#### checking for the duplicates"
   ]
  },
  {
   "cell_type": "code",
   "execution_count": 8,
   "id": "60513eb1",
   "metadata": {},
   "outputs": [
    {
     "data": {
      "text/plain": [
       "0"
      ]
     },
     "execution_count": 8,
     "metadata": {},
     "output_type": "execute_result"
    }
   ],
   "source": [
    "data.duplicated().sum()"
   ]
  },
  {
   "cell_type": "code",
   "execution_count": 9,
   "id": "347dade2",
   "metadata": {},
   "outputs": [
    {
     "data": {
      "text/html": [
       "<div>\n",
       "<style scoped>\n",
       "    .dataframe tbody tr th:only-of-type {\n",
       "        vertical-align: middle;\n",
       "    }\n",
       "\n",
       "    .dataframe tbody tr th {\n",
       "        vertical-align: top;\n",
       "    }\n",
       "\n",
       "    .dataframe thead th {\n",
       "        text-align: right;\n",
       "    }\n",
       "</style>\n",
       "<table border=\"1\" class=\"dataframe\">\n",
       "  <thead>\n",
       "    <tr style=\"text-align: right;\">\n",
       "      <th></th>\n",
       "      <th>step</th>\n",
       "      <th>amount</th>\n",
       "      <th>oldbalanceOrg</th>\n",
       "      <th>newbalanceOrig</th>\n",
       "      <th>oldbalanceDest</th>\n",
       "      <th>newbalanceDest</th>\n",
       "      <th>isFraud</th>\n",
       "      <th>isFlaggedFraud</th>\n",
       "    </tr>\n",
       "  </thead>\n",
       "  <tbody>\n",
       "    <tr>\n",
       "      <th>step</th>\n",
       "      <td>1.000000</td>\n",
       "      <td>0.022373</td>\n",
       "      <td>-0.010058</td>\n",
       "      <td>-0.010299</td>\n",
       "      <td>0.027665</td>\n",
       "      <td>0.025888</td>\n",
       "      <td>0.031578</td>\n",
       "      <td>0.003277</td>\n",
       "    </tr>\n",
       "    <tr>\n",
       "      <th>amount</th>\n",
       "      <td>0.022373</td>\n",
       "      <td>1.000000</td>\n",
       "      <td>-0.002762</td>\n",
       "      <td>-0.007861</td>\n",
       "      <td>0.294137</td>\n",
       "      <td>0.459304</td>\n",
       "      <td>0.076688</td>\n",
       "      <td>0.012295</td>\n",
       "    </tr>\n",
       "    <tr>\n",
       "      <th>oldbalanceOrg</th>\n",
       "      <td>-0.010058</td>\n",
       "      <td>-0.002762</td>\n",
       "      <td>1.000000</td>\n",
       "      <td>0.998803</td>\n",
       "      <td>0.066243</td>\n",
       "      <td>0.042029</td>\n",
       "      <td>0.010154</td>\n",
       "      <td>0.003835</td>\n",
       "    </tr>\n",
       "    <tr>\n",
       "      <th>newbalanceOrig</th>\n",
       "      <td>-0.010299</td>\n",
       "      <td>-0.007861</td>\n",
       "      <td>0.998803</td>\n",
       "      <td>1.000000</td>\n",
       "      <td>0.067812</td>\n",
       "      <td>0.041837</td>\n",
       "      <td>-0.008148</td>\n",
       "      <td>0.003776</td>\n",
       "    </tr>\n",
       "    <tr>\n",
       "      <th>oldbalanceDest</th>\n",
       "      <td>0.027665</td>\n",
       "      <td>0.294137</td>\n",
       "      <td>0.066243</td>\n",
       "      <td>0.067812</td>\n",
       "      <td>1.000000</td>\n",
       "      <td>0.976569</td>\n",
       "      <td>-0.005885</td>\n",
       "      <td>-0.000513</td>\n",
       "    </tr>\n",
       "    <tr>\n",
       "      <th>newbalanceDest</th>\n",
       "      <td>0.025888</td>\n",
       "      <td>0.459304</td>\n",
       "      <td>0.042029</td>\n",
       "      <td>0.041837</td>\n",
       "      <td>0.976569</td>\n",
       "      <td>1.000000</td>\n",
       "      <td>0.000535</td>\n",
       "      <td>-0.000529</td>\n",
       "    </tr>\n",
       "    <tr>\n",
       "      <th>isFraud</th>\n",
       "      <td>0.031578</td>\n",
       "      <td>0.076688</td>\n",
       "      <td>0.010154</td>\n",
       "      <td>-0.008148</td>\n",
       "      <td>-0.005885</td>\n",
       "      <td>0.000535</td>\n",
       "      <td>1.000000</td>\n",
       "      <td>0.044109</td>\n",
       "    </tr>\n",
       "    <tr>\n",
       "      <th>isFlaggedFraud</th>\n",
       "      <td>0.003277</td>\n",
       "      <td>0.012295</td>\n",
       "      <td>0.003835</td>\n",
       "      <td>0.003776</td>\n",
       "      <td>-0.000513</td>\n",
       "      <td>-0.000529</td>\n",
       "      <td>0.044109</td>\n",
       "      <td>1.000000</td>\n",
       "    </tr>\n",
       "  </tbody>\n",
       "</table>\n",
       "</div>"
      ],
      "text/plain": [
       "                    step    amount  oldbalanceOrg  newbalanceOrig  \\\n",
       "step            1.000000  0.022373      -0.010058       -0.010299   \n",
       "amount          0.022373  1.000000      -0.002762       -0.007861   \n",
       "oldbalanceOrg  -0.010058 -0.002762       1.000000        0.998803   \n",
       "newbalanceOrig -0.010299 -0.007861       0.998803        1.000000   \n",
       "oldbalanceDest  0.027665  0.294137       0.066243        0.067812   \n",
       "newbalanceDest  0.025888  0.459304       0.042029        0.041837   \n",
       "isFraud         0.031578  0.076688       0.010154       -0.008148   \n",
       "isFlaggedFraud  0.003277  0.012295       0.003835        0.003776   \n",
       "\n",
       "                oldbalanceDest  newbalanceDest   isFraud  isFlaggedFraud  \n",
       "step                  0.027665        0.025888  0.031578        0.003277  \n",
       "amount                0.294137        0.459304  0.076688        0.012295  \n",
       "oldbalanceOrg         0.066243        0.042029  0.010154        0.003835  \n",
       "newbalanceOrig        0.067812        0.041837 -0.008148        0.003776  \n",
       "oldbalanceDest        1.000000        0.976569 -0.005885       -0.000513  \n",
       "newbalanceDest        0.976569        1.000000  0.000535       -0.000529  \n",
       "isFraud              -0.005885        0.000535  1.000000        0.044109  \n",
       "isFlaggedFraud       -0.000513       -0.000529  0.044109        1.000000  "
      ]
     },
     "execution_count": 9,
     "metadata": {},
     "output_type": "execute_result"
    }
   ],
   "source": [
    "data.corr(numeric_only=True)"
   ]
  },
  {
   "cell_type": "code",
   "execution_count": 10,
   "id": "3cd133fe",
   "metadata": {},
   "outputs": [
    {
     "data": {
      "text/html": [
       "<div>\n",
       "<style scoped>\n",
       "    .dataframe tbody tr th:only-of-type {\n",
       "        vertical-align: middle;\n",
       "    }\n",
       "\n",
       "    .dataframe tbody tr th {\n",
       "        vertical-align: top;\n",
       "    }\n",
       "\n",
       "    .dataframe thead th {\n",
       "        text-align: right;\n",
       "    }\n",
       "</style>\n",
       "<table border=\"1\" class=\"dataframe\">\n",
       "  <thead>\n",
       "    <tr style=\"text-align: right;\">\n",
       "      <th></th>\n",
       "      <th>step</th>\n",
       "      <th>amount</th>\n",
       "      <th>oldbalanceOrg</th>\n",
       "      <th>newbalanceOrig</th>\n",
       "      <th>oldbalanceDest</th>\n",
       "      <th>newbalanceDest</th>\n",
       "      <th>isFraud</th>\n",
       "      <th>isFlaggedFraud</th>\n",
       "    </tr>\n",
       "  </thead>\n",
       "  <tbody>\n",
       "    <tr>\n",
       "      <th>count</th>\n",
       "      <td>6.362620e+06</td>\n",
       "      <td>6.362620e+06</td>\n",
       "      <td>6.362620e+06</td>\n",
       "      <td>6.362620e+06</td>\n",
       "      <td>6.362620e+06</td>\n",
       "      <td>6.362620e+06</td>\n",
       "      <td>6.362620e+06</td>\n",
       "      <td>6.362620e+06</td>\n",
       "    </tr>\n",
       "    <tr>\n",
       "      <th>mean</th>\n",
       "      <td>2.433972e+02</td>\n",
       "      <td>1.798619e+05</td>\n",
       "      <td>8.338831e+05</td>\n",
       "      <td>8.551137e+05</td>\n",
       "      <td>1.100702e+06</td>\n",
       "      <td>1.224996e+06</td>\n",
       "      <td>1.290820e-03</td>\n",
       "      <td>2.514687e-06</td>\n",
       "    </tr>\n",
       "    <tr>\n",
       "      <th>std</th>\n",
       "      <td>1.423320e+02</td>\n",
       "      <td>6.038582e+05</td>\n",
       "      <td>2.888243e+06</td>\n",
       "      <td>2.924049e+06</td>\n",
       "      <td>3.399180e+06</td>\n",
       "      <td>3.674129e+06</td>\n",
       "      <td>3.590480e-02</td>\n",
       "      <td>1.585775e-03</td>\n",
       "    </tr>\n",
       "    <tr>\n",
       "      <th>min</th>\n",
       "      <td>1.000000e+00</td>\n",
       "      <td>0.000000e+00</td>\n",
       "      <td>0.000000e+00</td>\n",
       "      <td>0.000000e+00</td>\n",
       "      <td>0.000000e+00</td>\n",
       "      <td>0.000000e+00</td>\n",
       "      <td>0.000000e+00</td>\n",
       "      <td>0.000000e+00</td>\n",
       "    </tr>\n",
       "    <tr>\n",
       "      <th>25%</th>\n",
       "      <td>1.560000e+02</td>\n",
       "      <td>1.338957e+04</td>\n",
       "      <td>0.000000e+00</td>\n",
       "      <td>0.000000e+00</td>\n",
       "      <td>0.000000e+00</td>\n",
       "      <td>0.000000e+00</td>\n",
       "      <td>0.000000e+00</td>\n",
       "      <td>0.000000e+00</td>\n",
       "    </tr>\n",
       "    <tr>\n",
       "      <th>50%</th>\n",
       "      <td>2.390000e+02</td>\n",
       "      <td>7.487194e+04</td>\n",
       "      <td>1.420800e+04</td>\n",
       "      <td>0.000000e+00</td>\n",
       "      <td>1.327057e+05</td>\n",
       "      <td>2.146614e+05</td>\n",
       "      <td>0.000000e+00</td>\n",
       "      <td>0.000000e+00</td>\n",
       "    </tr>\n",
       "    <tr>\n",
       "      <th>75%</th>\n",
       "      <td>3.350000e+02</td>\n",
       "      <td>2.087215e+05</td>\n",
       "      <td>1.073152e+05</td>\n",
       "      <td>1.442584e+05</td>\n",
       "      <td>9.430367e+05</td>\n",
       "      <td>1.111909e+06</td>\n",
       "      <td>0.000000e+00</td>\n",
       "      <td>0.000000e+00</td>\n",
       "    </tr>\n",
       "    <tr>\n",
       "      <th>max</th>\n",
       "      <td>7.430000e+02</td>\n",
       "      <td>9.244552e+07</td>\n",
       "      <td>5.958504e+07</td>\n",
       "      <td>4.958504e+07</td>\n",
       "      <td>3.560159e+08</td>\n",
       "      <td>3.561793e+08</td>\n",
       "      <td>1.000000e+00</td>\n",
       "      <td>1.000000e+00</td>\n",
       "    </tr>\n",
       "  </tbody>\n",
       "</table>\n",
       "</div>"
      ],
      "text/plain": [
       "               step        amount  oldbalanceOrg  newbalanceOrig  \\\n",
       "count  6.362620e+06  6.362620e+06   6.362620e+06    6.362620e+06   \n",
       "mean   2.433972e+02  1.798619e+05   8.338831e+05    8.551137e+05   \n",
       "std    1.423320e+02  6.038582e+05   2.888243e+06    2.924049e+06   \n",
       "min    1.000000e+00  0.000000e+00   0.000000e+00    0.000000e+00   \n",
       "25%    1.560000e+02  1.338957e+04   0.000000e+00    0.000000e+00   \n",
       "50%    2.390000e+02  7.487194e+04   1.420800e+04    0.000000e+00   \n",
       "75%    3.350000e+02  2.087215e+05   1.073152e+05    1.442584e+05   \n",
       "max    7.430000e+02  9.244552e+07   5.958504e+07    4.958504e+07   \n",
       "\n",
       "       oldbalanceDest  newbalanceDest       isFraud  isFlaggedFraud  \n",
       "count    6.362620e+06    6.362620e+06  6.362620e+06    6.362620e+06  \n",
       "mean     1.100702e+06    1.224996e+06  1.290820e-03    2.514687e-06  \n",
       "std      3.399180e+06    3.674129e+06  3.590480e-02    1.585775e-03  \n",
       "min      0.000000e+00    0.000000e+00  0.000000e+00    0.000000e+00  \n",
       "25%      0.000000e+00    0.000000e+00  0.000000e+00    0.000000e+00  \n",
       "50%      1.327057e+05    2.146614e+05  0.000000e+00    0.000000e+00  \n",
       "75%      9.430367e+05    1.111909e+06  0.000000e+00    0.000000e+00  \n",
       "max      3.560159e+08    3.561793e+08  1.000000e+00    1.000000e+00  "
      ]
     },
     "execution_count": 10,
     "metadata": {},
     "output_type": "execute_result"
    }
   ],
   "source": [
    "data.describe()"
   ]
  },
  {
   "cell_type": "code",
   "execution_count": 11,
   "id": "007f1b85",
   "metadata": {},
   "outputs": [
    {
     "data": {
      "text/plain": [
       "<Axes: >"
      ]
     },
     "execution_count": 11,
     "metadata": {},
     "output_type": "execute_result"
    },
    {
     "data": {
      "image/png": "[encoded data removed]",
      "text/plain": [
       "<Figure size 640x480 with 1 Axes>"
      ]
     },
     "metadata": {},
     "output_type": "display_data"
    }
   ],
   "source": [
    "sns.boxplot(data['amount'])"
   ]
  },
  {
   "cell_type": "code",
   "execution_count": 12,
   "id": "26e15064",
   "metadata": {},
   "outputs": [
    {
     "data": {
      "text/plain": [
       "<Axes: >"
      ]
     },
     "execution_count": 12,
     "metadata": {},
     "output_type": "execute_result"
    },
    {
     "data": {
      "image/png": "[encoded data removed]",
      "text/plain": [
       "<Figure size 640x480 with 1 Axes>"
      ]
     },
     "metadata": {},
     "output_type": "display_data"
    }
   ],
   "source": [
    "sns.boxplot(data['newbalanceDest'])"
   ]
  },
  {
   "cell_type": "code",
   "execution_count": 13,
   "id": "5e3d9d24",
   "metadata": {},
   "outputs": [
    {
     "data": {
      "text/plain": [
       "<Axes: >"
      ]
     },
     "execution_count": 13,
     "metadata": {},
     "output_type": "execute_result"
    },
    {
     "data": {
      "image/png": "[encoded data removed]",
      "text/plain": [
       "<Figure size 640x480 with 1 Axes>"
      ]
     },
     "metadata": {},
     "output_type": "display_data"
    }
   ],
   "source": [
    "sns.boxplot(data['newbalanceOrig'])"
   ]
  },
  {
   "cell_type": "code",
   "execution_count": 14,
   "id": "4d58bf89",
   "metadata": {},
   "outputs": [
    {
     "data": {
      "text/plain": [
       "<Axes: >"
      ]
     },
     "execution_count": 14,
     "metadata": {},
     "output_type": "execute_result"
    },
    {
     "data": {
      "image/png": "[encoded data removed]",
      "text/plain": [
       "<Figure size 640x480 with 1 Axes>"
      ]
     },
     "metadata": {},
     "output_type": "display_data"
    }
   ],
   "source": [
    "sns.boxplot(data['oldbalanceOrg'])"
   ]
  },
  {
   "cell_type": "code",
   "execution_count": 15,
   "id": "4ce94ed2",
   "metadata": {},
   "outputs": [
    {
     "data": {
      "text/plain": [
       "<Axes: >"
      ]
     },
     "execution_count": 15,
     "metadata": {},
     "output_type": "execute_result"
    },
    {
     "data": {
      "image/png": "[encoded data removed]",
      "text/plain": [
       "<Figure size 640x480 with 1 Axes>"
      ]
     },
     "metadata": {},
     "output_type": "display_data"
    }
   ],
   "source": [
    "sns.boxplot(data['oldbalanceDest'])"
   ]
  },
  {
   "cell_type": "markdown",
   "id": "34557861",
   "metadata": {},
   "source": [
    "#### handling outliers"
   ]
  },
  {
   "cell_type": "code",
   "execution_count": 16,
   "id": "59dea4fa",
   "metadata": {},
   "outputs": [],
   "source": [
    "def outliers(a):\n",
    "    sorted(a)\n",
    "    q1=np.percentile(a,25)\n",
    "    q3=np.percentile(a,75)\n",
    "    iqr=q3-q1\n",
    "    max_limit=q3+(1.5*iqr)\n",
    "    min_limit=(q1-1.5*iqr)\n",
    "    a=np.where(a<min_limit,q1,a)\n",
    "    a=np.where(a>max_limit,q3,a)\n",
    "    return a"
   ]
  },
  {
   "cell_type": "code",
   "execution_count": 17,
   "id": "03867e45",
   "metadata": {},
   "outputs": [],
   "source": [
    "data['amount']=outliers(data['amount'])\n",
    "data['newbalanceDest']=outliers(data['newbalanceDest'])\n",
    "data['newbalanceOrig']=outliers(data['newbalanceOrig'])\n",
    "data['oldbalanceDest']=outliers(data['oldbalanceDest'])\n",
    "data['oldbalanceOrg']=outliers(data['oldbalanceOrg'])"
   ]
  },
  {
   "cell_type": "markdown",
   "id": "17968b06",
   "metadata": {},
   "source": [
    "#### dropping Features that do not contain useful information for predicting the target variable  model"
   ]
  },
  {
   "cell_type": "code",
   "execution_count": 18,
   "id": "abbc2b48",
   "metadata": {},
   "outputs": [],
   "source": [
    "data.drop(['nameOrig','nameDest'],axis=1,inplace=True)"
   ]
  },
  {
   "cell_type": "code",
   "execution_count": 19,
   "id": "a876faf4",
   "metadata": {},
   "outputs": [
    {
     "data": {
      "text/plain": [
       "isFraud\n",
       "0    6354407\n",
       "1       8213\n",
       "Name: count, dtype: int64"
      ]
     },
     "execution_count": 19,
     "metadata": {},
     "output_type": "execute_result"
    }
   ],
   "source": [
    "data['isFraud'].value_counts()"
   ]
  },
  {
   "cell_type": "markdown",
   "id": "fd83d68e",
   "metadata": {},
   "source": [
    "#### encoding categorical varibles to continious variables"
   ]
  },
  {
   "cell_type": "code",
   "execution_count": 20,
   "id": "ca642d27",
   "metadata": {},
   "outputs": [],
   "source": [
    "from sklearn.preprocessing import LabelEncoder\n",
    "LE_obj=LabelEncoder()\n",
    "data['type']=LE_obj.fit_transform(data['type'])"
   ]
  },
  {
   "cell_type": "markdown",
   "id": "2ea97d83",
   "metadata": {},
   "source": [
    "#### splitting data into train and test "
   ]
  },
  {
   "cell_type": "code",
   "execution_count": 53,
   "id": "635e4c63",
   "metadata": {},
   "outputs": [],
   "source": [
    "from sklearn.model_selection import train_test_split\n",
    "train,test=train_test_split(data,train_size=0.8)"
   ]
  },
  {
   "cell_type": "code",
   "execution_count": 54,
   "id": "9585663e",
   "metadata": {},
   "outputs": [],
   "source": [
    "x_train=train.drop('isFraud',axis=1)\n",
    "y_train=train['isFraud']\n",
    "x_test=test.drop('isFraud',axis=1)\n",
    "y_test=test['isFraud']"
   ]
  },
  {
   "cell_type": "code",
   "execution_count": 23,
   "id": "da1fc782",
   "metadata": {},
   "outputs": [
    {
     "name": "stdout",
     "output_type": "stream",
     "text": [
      "5090096\n",
      "5090096\n",
      "1272524\n",
      "1272524\n"
     ]
    }
   ],
   "source": [
    "print(len(x_train))\n",
    "print(len(y_train))\n",
    "print(len(x_test))\n",
    "print(len(y_test))"
   ]
  },
  {
   "cell_type": "markdown",
   "id": "5d4a0a2d",
   "metadata": {},
   "source": [
    "#### model training"
   ]
  },
  {
   "cell_type": "code",
   "execution_count": 24,
   "id": "7815ae6e",
   "metadata": {},
   "outputs": [],
   "source": [
    "from sklearn.linear_model import LogisticRegression\n",
    "\n",
    "log_obj=LogisticRegression()\n",
    "log_obj.fit(x_train,y_train)\n",
    "train_predict=log_obj.predict(x_train)\n"
   ]
  },
  {
   "cell_type": "code",
   "execution_count": 25,
   "id": "019591d0",
   "metadata": {},
   "outputs": [
    {
     "name": "stdout",
     "output_type": "stream",
     "text": [
      "train accuracy score is 0.9984613256803015\n"
     ]
    }
   ],
   "source": [
    "from sklearn.metrics import accuracy_score,precision_score,recall_score,confusion_matrix\n",
    "accuracy=accuracy_score(train_predict,y_train)\n",
    "print(f\"train accuracy score is {accuracy}\")\n"
   ]
  },
  {
   "cell_type": "markdown",
   "id": "146d5563",
   "metadata": {},
   "source": [
    "#### model evaluation"
   ]
  },
  {
   "cell_type": "code",
   "execution_count": 26,
   "id": "7865eeba",
   "metadata": {},
   "outputs": [],
   "source": [
    "log_obj.fit(x_test,y_test)\n",
    "test_predict=log_obj.predict(x_test)"
   ]
  },
  {
   "cell_type": "code",
   "execution_count": 27,
   "id": "5aa1c237",
   "metadata": {},
   "outputs": [
    {
     "name": "stdout",
     "output_type": "stream",
     "text": [
      "[[1270581    1604]\n",
      " [    317      22]]\n",
      "test accuracy score is 0.9984904017527371\n",
      "precision is 0.013530135301353014\n",
      "recall is 0.06489675516224189\n"
     ]
    }
   ],
   "source": [
    "test_accuracy=accuracy_score(test_predict,y_test)\n",
    "print(confusion_matrix(test_predict,y_test))\n",
    "print(f\"test accuracy score is {test_accuracy}\")\n",
    "print(f\"precision is {precision_score(test_predict,y_test)}\")\n",
    "print(f\"recall is {recall_score(test_predict,y_test)}\")"
   ]
  },
  {
   "cell_type": "markdown",
   "id": "ab9b846f",
   "metadata": {},
   "source": [
    "#### from the above model we can see that the accuracy is 99 for both train and test data which is not good this is due to the dataset is having 2 classes one is fraud and another one is normal transaction and out of the total data points more than 98% of data points are normal transactions so if we train our machine learning model with this type if dataset it can't recognise the fradulent transactions and when we test for the new data point  it will predict all the transactions as normal transcations which is not the correct prediction and in this type of dataset we mostly focuses on precision and recall so if we get a good precision and recall score then the model is predicting correct"
   ]
  },
  {
   "cell_type": "markdown",
   "id": "333bc59b",
   "metadata": {},
   "source": [
    "#### using random forest classifier"
   ]
  },
  {
   "cell_type": "code",
   "execution_count": 55,
   "id": "a91ce116",
   "metadata": {},
   "outputs": [],
   "source": [
    "from sklearn.ensemble import RandomForestClassifier\n",
    "class_obj=RandomForestClassifier()\n",
    "class_obj.fit(x_train,y_train)\n",
    "train_predict=class_obj.predict(x_train)"
   ]
  },
  {
   "cell_type": "code",
   "execution_count": 56,
   "id": "54ee5fd6",
   "metadata": {},
   "outputs": [
    {
     "name": "stdout",
     "output_type": "stream",
     "text": [
      "[[5083526      25]\n",
      " [      6    6539]]\n",
      "test accuracy score is 0.9999939097415844\n",
      "precision is 0.9961913467397928\n",
      "recall is 0.999083269671505\n"
     ]
    }
   ],
   "source": [
    "train_accuracy=accuracy_score(train_predict,y_train)\n",
    "print(confusion_matrix(train_predict,y_train))\n",
    "print(f\"test accuracy score is {train_accuracy}\")\n",
    "print(f\"precision is {precision_score(train_predict,y_train)}\")\n",
    "print(f\"recall is {recall_score(train_predict,y_train)}\")"
   ]
  },
  {
   "cell_type": "markdown",
   "id": "bf4e2a84",
   "metadata": {},
   "source": [
    "#### when compared to logistic regression the random forest is good for this imbalnaced data with a good precision and recall and here we can see that false positives and false negatives are reduced and which may be a good model for this type of dataset"
   ]
  },
  {
   "cell_type": "code",
   "execution_count": 28,
   "id": "35dfeeb2",
   "metadata": {},
   "outputs": [
    {
     "data": {
      "text/plain": [
       "isFraud\n",
       "0    6354407\n",
       "1       8213\n",
       "Name: count, dtype: int64"
      ]
     },
     "execution_count": 28,
     "metadata": {},
     "output_type": "execute_result"
    }
   ],
   "source": [
    "data['isFraud'].value_counts()"
   ]
  },
  {
   "cell_type": "markdown",
   "id": "15060cb4",
   "metadata": {},
   "source": [
    "#### To handle this imbalanced data we use under sampling to build a sample dataset containing similar distribution of normal and fraud transactions"
   ]
  },
  {
   "cell_type": "markdown",
   "id": "b986f8c6",
   "metadata": {},
   "source": [
    "#### under sampling"
   ]
  },
  {
   "cell_type": "code",
   "execution_count": 29,
   "id": "44d4b2ea",
   "metadata": {},
   "outputs": [],
   "source": [
    "normal=data[data.isFraud==0]\n",
    "fraud=data[data['isFraud']==1]"
   ]
  },
  {
   "cell_type": "code",
   "execution_count": 30,
   "id": "a5c105d2",
   "metadata": {},
   "outputs": [
    {
     "name": "stdout",
     "output_type": "stream",
     "text": [
      "(6354407, 9)\n",
      "(8213, 9)\n"
     ]
    }
   ],
   "source": [
    "print(normal.shape)\n",
    "print(fraud.shape)"
   ]
  },
  {
   "cell_type": "code",
   "execution_count": 31,
   "id": "2048b7d2",
   "metadata": {},
   "outputs": [],
   "source": [
    "normal_sample=normal.sample(n=8213,replace=False)"
   ]
  },
  {
   "cell_type": "code",
   "execution_count": 32,
   "id": "7e152e69",
   "metadata": {},
   "outputs": [
    {
     "name": "stdout",
     "output_type": "stream",
     "text": [
      "(8213, 9)\n",
      "(8213, 9)\n"
     ]
    }
   ],
   "source": [
    "print(normal_sample.shape)\n",
    "print(fraud.shape)"
   ]
  },
  {
   "cell_type": "markdown",
   "id": "12bab05e",
   "metadata": {},
   "source": [
    "#### concatenating the 2 samples by index(row-wise)"
   ]
  },
  {
   "cell_type": "code",
   "execution_count": 33,
   "id": "bb9bf911",
   "metadata": {},
   "outputs": [],
   "source": [
    "new_data=pd.concat([normal_sample,fraud],axis=0)"
   ]
  },
  {
   "cell_type": "code",
   "execution_count": 34,
   "id": "f724995c",
   "metadata": {},
   "outputs": [
    {
     "data": {
      "text/html": [
       "<div>\n",
       "<style scoped>\n",
       "    .dataframe tbody tr th:only-of-type {\n",
       "        vertical-align: middle;\n",
       "    }\n",
       "\n",
       "    .dataframe tbody tr th {\n",
       "        vertical-align: top;\n",
       "    }\n",
       "\n",
       "    .dataframe thead th {\n",
       "        text-align: right;\n",
       "    }\n",
       "</style>\n",
       "<table border=\"1\" class=\"dataframe\">\n",
       "  <thead>\n",
       "    <tr style=\"text-align: right;\">\n",
       "      <th></th>\n",
       "      <th>step</th>\n",
       "      <th>type</th>\n",
       "      <th>amount</th>\n",
       "      <th>oldbalanceOrg</th>\n",
       "      <th>newbalanceOrig</th>\n",
       "      <th>oldbalanceDest</th>\n",
       "      <th>newbalanceDest</th>\n",
       "      <th>isFraud</th>\n",
       "      <th>isFlaggedFraud</th>\n",
       "    </tr>\n",
       "  </thead>\n",
       "  <tbody>\n",
       "    <tr>\n",
       "      <th>6058742</th>\n",
       "      <td>500</td>\n",
       "      <td>0</td>\n",
       "      <td>248142.78</td>\n",
       "      <td>107315.175</td>\n",
       "      <td>144258.41</td>\n",
       "      <td>400741.12</td>\n",
       "      <td>152598.35</td>\n",
       "      <td>0</td>\n",
       "      <td>0</td>\n",
       "    </tr>\n",
       "    <tr>\n",
       "      <th>4734419</th>\n",
       "      <td>332</td>\n",
       "      <td>3</td>\n",
       "      <td>8210.39</td>\n",
       "      <td>10135.000</td>\n",
       "      <td>1924.61</td>\n",
       "      <td>0.00</td>\n",
       "      <td>0.00</td>\n",
       "      <td>0</td>\n",
       "      <td>0</td>\n",
       "    </tr>\n",
       "    <tr>\n",
       "      <th>4243568</th>\n",
       "      <td>306</td>\n",
       "      <td>3</td>\n",
       "      <td>41295.51</td>\n",
       "      <td>0.000</td>\n",
       "      <td>0.00</td>\n",
       "      <td>0.00</td>\n",
       "      <td>0.00</td>\n",
       "      <td>0</td>\n",
       "      <td>0</td>\n",
       "    </tr>\n",
       "    <tr>\n",
       "      <th>1396637</th>\n",
       "      <td>139</td>\n",
       "      <td>1</td>\n",
       "      <td>104063.62</td>\n",
       "      <td>10042.000</td>\n",
       "      <td>0.00</td>\n",
       "      <td>721916.65</td>\n",
       "      <td>825980.27</td>\n",
       "      <td>0</td>\n",
       "      <td>0</td>\n",
       "    </tr>\n",
       "    <tr>\n",
       "      <th>3093306</th>\n",
       "      <td>235</td>\n",
       "      <td>3</td>\n",
       "      <td>13553.45</td>\n",
       "      <td>45520.000</td>\n",
       "      <td>31966.55</td>\n",
       "      <td>0.00</td>\n",
       "      <td>0.00</td>\n",
       "      <td>0</td>\n",
       "      <td>0</td>\n",
       "    </tr>\n",
       "  </tbody>\n",
       "</table>\n",
       "</div>"
      ],
      "text/plain": [
       "         step  type     amount  oldbalanceOrg  newbalanceOrig  oldbalanceDest  \\\n",
       "6058742   500     0  248142.78     107315.175       144258.41       400741.12   \n",
       "4734419   332     3    8210.39      10135.000         1924.61            0.00   \n",
       "4243568   306     3   41295.51          0.000            0.00            0.00   \n",
       "1396637   139     1  104063.62      10042.000            0.00       721916.65   \n",
       "3093306   235     3   13553.45      45520.000        31966.55            0.00   \n",
       "\n",
       "         newbalanceDest  isFraud  isFlaggedFraud  \n",
       "6058742       152598.35        0               0  \n",
       "4734419            0.00        0               0  \n",
       "4243568            0.00        0               0  \n",
       "1396637       825980.27        0               0  \n",
       "3093306            0.00        0               0  "
      ]
     },
     "execution_count": 34,
     "metadata": {},
     "output_type": "execute_result"
    }
   ],
   "source": [
    "new_data.head()"
   ]
  },
  {
   "cell_type": "code",
   "execution_count": 35,
   "id": "c92cf58d",
   "metadata": {},
   "outputs": [
    {
     "data": {
      "text/plain": [
       "isFraud\n",
       "0    8213\n",
       "1    8213\n",
       "Name: count, dtype: int64"
      ]
     },
     "execution_count": 35,
     "metadata": {},
     "output_type": "execute_result"
    }
   ],
   "source": [
    "new_data['isFraud'].value_counts()"
   ]
  },
  {
   "cell_type": "code",
   "execution_count": 36,
   "id": "fc86379f",
   "metadata": {},
   "outputs": [
    {
     "data": {
      "text/html": [
       "<div>\n",
       "<style scoped>\n",
       "    .dataframe tbody tr th:only-of-type {\n",
       "        vertical-align: middle;\n",
       "    }\n",
       "\n",
       "    .dataframe tbody tr th {\n",
       "        vertical-align: top;\n",
       "    }\n",
       "\n",
       "    .dataframe thead th {\n",
       "        text-align: right;\n",
       "    }\n",
       "</style>\n",
       "<table border=\"1\" class=\"dataframe\">\n",
       "  <thead>\n",
       "    <tr style=\"text-align: right;\">\n",
       "      <th></th>\n",
       "      <th>step</th>\n",
       "      <th>type</th>\n",
       "      <th>amount</th>\n",
       "      <th>oldbalanceOrg</th>\n",
       "      <th>newbalanceOrig</th>\n",
       "      <th>oldbalanceDest</th>\n",
       "      <th>newbalanceDest</th>\n",
       "      <th>isFraud</th>\n",
       "      <th>isFlaggedFraud</th>\n",
       "    </tr>\n",
       "  </thead>\n",
       "  <tbody>\n",
       "    <tr>\n",
       "      <th>6058742</th>\n",
       "      <td>500</td>\n",
       "      <td>0</td>\n",
       "      <td>248142.78</td>\n",
       "      <td>107315.175</td>\n",
       "      <td>144258.41</td>\n",
       "      <td>400741.12</td>\n",
       "      <td>152598.35</td>\n",
       "      <td>0</td>\n",
       "      <td>0</td>\n",
       "    </tr>\n",
       "    <tr>\n",
       "      <th>4734419</th>\n",
       "      <td>332</td>\n",
       "      <td>3</td>\n",
       "      <td>8210.39</td>\n",
       "      <td>10135.000</td>\n",
       "      <td>1924.61</td>\n",
       "      <td>0.00</td>\n",
       "      <td>0.00</td>\n",
       "      <td>0</td>\n",
       "      <td>0</td>\n",
       "    </tr>\n",
       "    <tr>\n",
       "      <th>4243568</th>\n",
       "      <td>306</td>\n",
       "      <td>3</td>\n",
       "      <td>41295.51</td>\n",
       "      <td>0.000</td>\n",
       "      <td>0.00</td>\n",
       "      <td>0.00</td>\n",
       "      <td>0.00</td>\n",
       "      <td>0</td>\n",
       "      <td>0</td>\n",
       "    </tr>\n",
       "    <tr>\n",
       "      <th>1396637</th>\n",
       "      <td>139</td>\n",
       "      <td>1</td>\n",
       "      <td>104063.62</td>\n",
       "      <td>10042.000</td>\n",
       "      <td>0.00</td>\n",
       "      <td>721916.65</td>\n",
       "      <td>825980.27</td>\n",
       "      <td>0</td>\n",
       "      <td>0</td>\n",
       "    </tr>\n",
       "    <tr>\n",
       "      <th>3093306</th>\n",
       "      <td>235</td>\n",
       "      <td>3</td>\n",
       "      <td>13553.45</td>\n",
       "      <td>45520.000</td>\n",
       "      <td>31966.55</td>\n",
       "      <td>0.00</td>\n",
       "      <td>0.00</td>\n",
       "      <td>0</td>\n",
       "      <td>0</td>\n",
       "    </tr>\n",
       "  </tbody>\n",
       "</table>\n",
       "</div>"
      ],
      "text/plain": [
       "         step  type     amount  oldbalanceOrg  newbalanceOrig  oldbalanceDest  \\\n",
       "6058742   500     0  248142.78     107315.175       144258.41       400741.12   \n",
       "4734419   332     3    8210.39      10135.000         1924.61            0.00   \n",
       "4243568   306     3   41295.51          0.000            0.00            0.00   \n",
       "1396637   139     1  104063.62      10042.000            0.00       721916.65   \n",
       "3093306   235     3   13553.45      45520.000        31966.55            0.00   \n",
       "\n",
       "         newbalanceDest  isFraud  isFlaggedFraud  \n",
       "6058742       152598.35        0               0  \n",
       "4734419            0.00        0               0  \n",
       "4243568            0.00        0               0  \n",
       "1396637       825980.27        0               0  \n",
       "3093306            0.00        0               0  "
      ]
     },
     "execution_count": 36,
     "metadata": {},
     "output_type": "execute_result"
    }
   ],
   "source": [
    "new_data.head()"
   ]
  },
  {
   "cell_type": "code",
   "execution_count": 37,
   "id": "b20ab5c9",
   "metadata": {},
   "outputs": [],
   "source": [
    "train,test=train_test_split(new_data,train_size=0.8)"
   ]
  },
  {
   "cell_type": "code",
   "execution_count": 38,
   "id": "f7b71424",
   "metadata": {},
   "outputs": [
    {
     "name": "stdout",
     "output_type": "stream",
     "text": [
      "13140\n",
      "3286\n"
     ]
    }
   ],
   "source": [
    "print(len(train))\n",
    "print(len(test))"
   ]
  },
  {
   "cell_type": "code",
   "execution_count": 39,
   "id": "e0035d5b",
   "metadata": {},
   "outputs": [],
   "source": [
    "x_train=train.drop('isFraud',axis=1)\n",
    "y_train=train['isFraud']\n",
    "x_test=test.drop('isFraud',axis=1)\n",
    "y_test=test['isFraud']"
   ]
  },
  {
   "cell_type": "markdown",
   "id": "a895a31d",
   "metadata": {},
   "source": [
    "#### using logistic regression"
   ]
  },
  {
   "cell_type": "code",
   "execution_count": 40,
   "id": "eb4455fe",
   "metadata": {},
   "outputs": [],
   "source": [
    "from sklearn.linear_model import LogisticRegression\n",
    "log_obj=LogisticRegression()\n",
    "log_obj.fit(x_train,y_train)\n",
    "train_predict=log_obj.predict(x_train)\n"
   ]
  },
  {
   "cell_type": "code",
   "execution_count": 41,
   "id": "53fb63e8",
   "metadata": {},
   "outputs": [
    {
     "name": "stdout",
     "output_type": "stream",
     "text": [
      "[[5764  472]\n",
      " [ 772 6132]]\n",
      "train accuracy score is 0.9053272450532724\n",
      "precision is 0.9285281647486372\n",
      "recall is 0.8881807647740441\n"
     ]
    }
   ],
   "source": [
    "train_accuracy=accuracy_score(train_predict,y_train)\n",
    "print(confusion_matrix(train_predict,y_train))\n",
    "print(f\"train accuracy score is {train_accuracy}\")\n",
    "print(f\"precision is {precision_score(train_predict,y_train)}\")\n",
    "print(f\"recall is {recall_score(train_predict,y_train)}\")"
   ]
  },
  {
   "cell_type": "code",
   "execution_count": 42,
   "id": "accd1db3",
   "metadata": {},
   "outputs": [],
   "source": [
    "log_obj.fit(x_test,y_test)\n",
    "test_predict=log_obj.predict(x_test)"
   ]
  },
  {
   "cell_type": "code",
   "execution_count": 43,
   "id": "ce5d1070",
   "metadata": {},
   "outputs": [
    {
     "name": "stdout",
     "output_type": "stream",
     "text": [
      "[[1470  116]\n",
      " [ 207 1493]]\n",
      "test accuracy score is 0.9017041996348144\n",
      "precision is 0.927905531385954\n",
      "recall is 0.8782352941176471\n"
     ]
    }
   ],
   "source": [
    "test_accuracy=accuracy_score(test_predict,y_test)\n",
    "print(confusion_matrix(test_predict,y_test))\n",
    "print(f\"test accuracy score is {test_accuracy}\")\n",
    "print(f\"precision is {precision_score(test_predict,y_test)}\")\n",
    "print(f\"recall is {recall_score(test_predict,y_test)}\")"
   ]
  },
  {
   "cell_type": "markdown",
   "id": "aa36c9b2",
   "metadata": {},
   "source": [
    "#### using random forest classifier"
   ]
  },
  {
   "cell_type": "code",
   "execution_count": 44,
   "id": "4e0488e3",
   "metadata": {},
   "outputs": [],
   "source": [
    "from sklearn.ensemble import RandomForestClassifier\n",
    "class_obj=RandomForestClassifier()\n",
    "class_obj.fit(x_train,y_train)\n",
    "train_predict=class_obj.predict(x_train)"
   ]
  },
  {
   "cell_type": "code",
   "execution_count": 45,
   "id": "667fb33c",
   "metadata": {},
   "outputs": [
    {
     "name": "stdout",
     "output_type": "stream",
     "text": [
      "[[6535    0]\n",
      " [   1 6604]]\n",
      "test accuracy score is 0.999923896499239\n",
      "precision is 1.0\n",
      "recall is 0.9998485995457986\n"
     ]
    }
   ],
   "source": [
    "train_accuracy=accuracy_score(train_predict,y_train)\n",
    "print(confusion_matrix(train_predict,y_train))\n",
    "print(f\"test accuracy score is {train_accuracy}\")\n",
    "print(f\"precision is {precision_score(train_predict,y_train)}\")\n",
    "print(f\"recall is {recall_score(train_predict,y_train)}\")"
   ]
  },
  {
   "cell_type": "code",
   "execution_count": 46,
   "id": "58b0c185",
   "metadata": {},
   "outputs": [],
   "source": [
    "class_obj.fit(x_test,y_test)\n",
    "test_predict=class_obj.predict(x_test)"
   ]
  },
  {
   "cell_type": "code",
   "execution_count": 47,
   "id": "19fbac3a",
   "metadata": {},
   "outputs": [
    {
     "name": "stdout",
     "output_type": "stream",
     "text": [
      "[[1677    0]\n",
      " [   0 1609]]\n",
      "test accuracy score is 1.0\n",
      "precision is 1.0\n",
      "recall is 1.0\n"
     ]
    }
   ],
   "source": [
    "test_accuracy=accuracy_score(test_predict,y_test)\n",
    "print(confusion_matrix(test_predict,y_test))\n",
    "print(f\"test accuracy score is {test_accuracy}\")\n",
    "print(f\"precision is {precision_score(test_predict,y_test)}\")\n",
    "print(f\"recall is {recall_score(test_predict,y_test)}\")"
   ]
  },
  {
   "cell_type": "markdown",
   "id": "8b876d2e",
   "metadata": {},
   "source": [
    "#### from the above models the accuracy is good for the imbalanced data but random under sampling is not agood approach for this type of dataset while sampling there may be significant loss in the data "
   ]
  },
  {
   "cell_type": "code",
   "execution_count": null,
   "id": "c4a74d20",
   "metadata": {},
   "outputs": [],
   "source": [
    "# 1. Data cleaning including missing values, outliers and multi-collinearity.\n",
    "\n",
    "# first we need to calculate the percentage the null values and this can be handled in 3 scenarios\n",
    "# i.if the percentage the null values in the dataset is high then we can ignore or delete the column\n",
    "# ii.if the percentage of null values is intermediate then we imputation method and the imputation can be done by mean\n",
    "#    or median for the continious data. if there is no outliers then we will replace it with mean and if there is outliers then\n",
    "#    we will replace with median and mode for the categorical data.\n",
    "# iii.if the percentage of null values is low then we will remove the rows which are having nulls \n",
    "\n",
    "# outliers:\n",
    "# Before handling outliers, visualized the data using box plots, \n",
    "# outliers are handled by using IQR (Interquartile Range) Method:\n",
    "# Identified outliers based on the interquartile range. Values outside a specified range (commonly 1.5 times the IQR) are treated as outliers."
   ]
  },
  {
   "cell_type": "code",
   "execution_count": 57,
   "id": "873a982c",
   "metadata": {},
   "outputs": [],
   "source": [
    "# 2. Describe your fraud detection model in elaboration. \n",
    "\n",
    "# objective: the objective of this fraud detection model,is to identify whether the transaction is legit or fraudulent transactions\n",
    "# the data used for training and testing the model. This data includes transaction data,type of transaction and whether its fraud or not\n",
    "# while building this model i applied a some of preprocessing steps such as handling missing values,encoding categorical variables,and handling outliers.\n",
    "# this model is build by using classification model such as logistic regression and random forest with the help of ensemble techniques \n",
    "# as this dataset is highly imbalnced i performed random under sampling and applied a classification algorithims on top of that\n",
    "# and used classification metrics such as accuracy,precision and recall score to evaluate the performance of the model to identify whether the model is good or not\n"
   ]
  },
  {
   "cell_type": "code",
   "execution_count": null,
   "id": "923e35d3",
   "metadata": {},
   "outputs": [],
   "source": [
    "# 3.How did you select variables to be included in the model\n",
    "\n",
    "#here the main of the model is to predict whether the transaction is fraud or not and to idenify the variables i conducted some of \n",
    "#the exploratory data analysis to gain konwledge of the data and some of the summary statistics and performedd correlation to identify the \n",
    "#relationship between the variables and this helped in finding there is mutlicollinearity or not with the target variable and dropped some \n",
    "#of the variables which are not used in training the model\n",
    "#used scikit-learn machine learning library which is used for implentinging a machine learning model"
   ]
  },
  {
   "cell_type": "code",
   "execution_count": null,
   "id": "66c10f67",
   "metadata": {},
   "outputs": [],
   "source": [
    "# 4.Demonstrate the performance of the model by using best set of tools. \n",
    "\n",
    "#Used Jupyter Notebook to show the code and analysis.and it also helps presenting the steps involved in building, training,\n",
    "#and evaluating the fraud detection model.Used python libraries such as numpy and pandas for manipulating and array operations\n",
    "#and matplotlib and seaborn for visualizing the data"
   ]
  },
  {
   "cell_type": "code",
   "execution_count": null,
   "id": "1a9d4098",
   "metadata": {},
   "outputs": [],
   "source": [
    "# 5.What are the key factors that predict fraudulent customer? \n",
    "# more number of transactions within a short period of time might with different type of payment methods can leads to a fradulent behaviour\n",
    "# transactions conducted at late nights or non business times can lead to a fradulent behaviours\n",
    "# multiple failed attempts such as entering wrong password or pins etc..."
   ]
  },
  {
   "cell_type": "code",
   "execution_count": null,
   "id": "06a64272",
   "metadata": {},
   "outputs": [],
   "source": [
    "# 6. What kind of prevention should be adopted while company update its infrastructure?\n",
    "# implementing multi factor authentication for users and using encryption techniques to protect sensitive data\n",
    "# provoding awareness regularly how to handle this situations etc.."
   ]
  },
  {
   "cell_type": "code",
   "execution_count": null,
   "id": "419c52d1",
   "metadata": {},
   "outputs": [],
   "source": [
    "# 7."
   ]
  }
 ],
 "metadata": {
  "kernelspec": {
   "display_name": "Python 3 (ipykernel)",
   "language": "python",
   "name": "python3"
  },
  "language_info": {
   "codemirror_mode": {
    "name": "ipython",
    "version": 3
   },
   "file_extension": ".py",
   "mimetype": "text/x-python",
   "name": "python",
   "nbconvert_exporter": "python",
   "pygments_lexer": "ipython3",
   "version": "3.11.5"
  }
 },
 "nbformat": 4,
 "nbformat_minor": 5
}
