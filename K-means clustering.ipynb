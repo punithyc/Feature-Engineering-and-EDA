{
 "cells": [
  {
   "cell_type": "code",
   "execution_count": 12,
   "id": "db8e317f",
   "metadata": {},
   "outputs": [],
   "source": [
    "import numpy as np\n",
    "import pandas as pd\n",
    "import matplotlib.pyplot as plt"
   ]
  },
  {
   "cell_type": "code",
   "execution_count": 8,
   "id": "5d8a8f3a",
   "metadata": {},
   "outputs": [],
   "source": [
    "da={\"cgpa\":[5.13,5.90,8.36,8.27,5.45,6.7,8.9,9.0,6.5,7.6,7.4,7.9,9.0,8.9,7.6,8.4,4.3,6.4,5.6,7.6,6.7,8.0],\n",
    "    \"iq\":[88,113,93,97,110,89,76,78,90,114,109,98,87,89,97,65,93,87,112,114,90,105]}"
   ]
  },
  {
   "cell_type": "code",
   "execution_count": 9,
   "id": "a830331d",
   "metadata": {},
   "outputs": [],
   "source": [
    "data=pd.DataFrame(da)"
   ]
  },
  {
   "cell_type": "code",
   "execution_count": 11,
   "id": "86329930",
   "metadata": {},
   "outputs": [
    {
     "data": {
      "text/html": [
       "<div>\n",
       "<style scoped>\n",
       "    .dataframe tbody tr th:only-of-type {\n",
       "        vertical-align: middle;\n",
       "    }\n",
       "\n",
       "    .dataframe tbody tr th {\n",
       "        vertical-align: top;\n",
       "    }\n",
       "\n",
       "    .dataframe thead th {\n",
       "        text-align: right;\n",
       "    }\n",
       "</style>\n",
       "<table border=\"1\" class=\"dataframe\">\n",
       "  <thead>\n",
       "    <tr style=\"text-align: right;\">\n",
       "      <th></th>\n",
       "      <th>cgpa</th>\n",
       "      <th>iq</th>\n",
       "    </tr>\n",
       "  </thead>\n",
       "  <tbody>\n",
       "    <tr>\n",
       "      <th>0</th>\n",
       "      <td>5.13</td>\n",
       "      <td>88</td>\n",
       "    </tr>\n",
       "    <tr>\n",
       "      <th>1</th>\n",
       "      <td>5.90</td>\n",
       "      <td>113</td>\n",
       "    </tr>\n",
       "    <tr>\n",
       "      <th>2</th>\n",
       "      <td>8.36</td>\n",
       "      <td>93</td>\n",
       "    </tr>\n",
       "    <tr>\n",
       "      <th>3</th>\n",
       "      <td>8.27</td>\n",
       "      <td>97</td>\n",
       "    </tr>\n",
       "    <tr>\n",
       "      <th>4</th>\n",
       "      <td>5.45</td>\n",
       "      <td>110</td>\n",
       "    </tr>\n",
       "  </tbody>\n",
       "</table>\n",
       "</div>"
      ],
      "text/plain": [
       "   cgpa   iq\n",
       "0  5.13   88\n",
       "1  5.90  113\n",
       "2  8.36   93\n",
       "3  8.27   97\n",
       "4  5.45  110"
      ]
     },
     "execution_count": 11,
     "metadata": {},
     "output_type": "execute_result"
    }
   ],
   "source": [
    "data.head()"
   ]
  },
  {
   "cell_type": "code",
   "execution_count": 14,
   "id": "fa7ded9a",
   "metadata": {},
   "outputs": [
    {
     "data": {
      "text/plain": [
       "<matplotlib.collections.PathCollection at 0x26b2f633d10>"
      ]
     },
     "execution_count": 14,
     "metadata": {},
     "output_type": "execute_result"
    },
    {
     "data": {
      "image/png": "[encoded data removed]",
      "text/plain": [
       "<Figure size 640x480 with 1 Axes>"
      ]
     },
     "metadata": {},
     "output_type": "display_data"
    }
   ],
   "source": [
    "plt.scatter(data['cgpa'],data['iq'])"
   ]
  },
  {
   "cell_type": "code",
   "execution_count": 16,
   "id": "997a9247",
   "metadata": {},
   "outputs": [],
   "source": [
    "from sklearn.cluster import KMeans\n"
   ]
  },
  {
   "cell_type": "code",
   "execution_count": 18,
   "id": "c7e3aa39",
   "metadata": {},
   "outputs": [
    {
     "name": "stderr",
     "output_type": "stream",
     "text": [
      "C:\\Users\\punith yc\\anaconda3\\Lib\\site-packages\\sklearn\\cluster\\_kmeans.py:1412: FutureWarning: The default value of `n_init` will change from 10 to 'auto' in 1.4. Set the value of `n_init` explicitly to suppress the warning\n",
      "  super()._check_params_vs_input(X, default_n_init=10)\n",
      "C:\\Users\\punith yc\\anaconda3\\Lib\\site-packages\\sklearn\\cluster\\_kmeans.py:1436: UserWarning: KMeans is known to have a memory leak on Windows with MKL, when there are less chunks than available threads. You can avoid it by setting the environment variable OMP_NUM_THREADS=1.\n",
      "  warnings.warn(\n",
      "C:\\Users\\punith yc\\anaconda3\\Lib\\site-packages\\sklearn\\cluster\\_kmeans.py:1412: FutureWarning: The default value of `n_init` will change from 10 to 'auto' in 1.4. Set the value of `n_init` explicitly to suppress the warning\n",
      "  super()._check_params_vs_input(X, default_n_init=10)\n",
      "C:\\Users\\punith yc\\anaconda3\\Lib\\site-packages\\sklearn\\cluster\\_kmeans.py:1436: UserWarning: KMeans is known to have a memory leak on Windows with MKL, when there are less chunks than available threads. You can avoid it by setting the environment variable OMP_NUM_THREADS=1.\n",
      "  warnings.warn(\n",
      "C:\\Users\\punith yc\\anaconda3\\Lib\\site-packages\\sklearn\\cluster\\_kmeans.py:1412: FutureWarning: The default value of `n_init` will change from 10 to 'auto' in 1.4. Set the value of `n_init` explicitly to suppress the warning\n",
      "  super()._check_params_vs_input(X, default_n_init=10)\n",
      "C:\\Users\\punith yc\\anaconda3\\Lib\\site-packages\\sklearn\\cluster\\_kmeans.py:1436: UserWarning: KMeans is known to have a memory leak on Windows with MKL, when there are less chunks than available threads. You can avoid it by setting the environment variable OMP_NUM_THREADS=1.\n",
      "  warnings.warn(\n",
      "C:\\Users\\punith yc\\anaconda3\\Lib\\site-packages\\sklearn\\cluster\\_kmeans.py:1412: FutureWarning: The default value of `n_init` will change from 10 to 'auto' in 1.4. Set the value of `n_init` explicitly to suppress the warning\n",
      "  super()._check_params_vs_input(X, default_n_init=10)\n",
      "C:\\Users\\punith yc\\anaconda3\\Lib\\site-packages\\sklearn\\cluster\\_kmeans.py:1436: UserWarning: KMeans is known to have a memory leak on Windows with MKL, when there are less chunks than available threads. You can avoid it by setting the environment variable OMP_NUM_THREADS=1.\n",
      "  warnings.warn(\n",
      "C:\\Users\\punith yc\\anaconda3\\Lib\\site-packages\\sklearn\\cluster\\_kmeans.py:1412: FutureWarning: The default value of `n_init` will change from 10 to 'auto' in 1.4. Set the value of `n_init` explicitly to suppress the warning\n",
      "  super()._check_params_vs_input(X, default_n_init=10)\n",
      "C:\\Users\\punith yc\\anaconda3\\Lib\\site-packages\\sklearn\\cluster\\_kmeans.py:1436: UserWarning: KMeans is known to have a memory leak on Windows with MKL, when there are less chunks than available threads. You can avoid it by setting the environment variable OMP_NUM_THREADS=1.\n",
      "  warnings.warn(\n",
      "C:\\Users\\punith yc\\anaconda3\\Lib\\site-packages\\sklearn\\cluster\\_kmeans.py:1412: FutureWarning: The default value of `n_init` will change from 10 to 'auto' in 1.4. Set the value of `n_init` explicitly to suppress the warning\n",
      "  super()._check_params_vs_input(X, default_n_init=10)\n",
      "C:\\Users\\punith yc\\anaconda3\\Lib\\site-packages\\sklearn\\cluster\\_kmeans.py:1436: UserWarning: KMeans is known to have a memory leak on Windows with MKL, when there are less chunks than available threads. You can avoid it by setting the environment variable OMP_NUM_THREADS=1.\n",
      "  warnings.warn(\n",
      "C:\\Users\\punith yc\\anaconda3\\Lib\\site-packages\\sklearn\\cluster\\_kmeans.py:1412: FutureWarning: The default value of `n_init` will change from 10 to 'auto' in 1.4. Set the value of `n_init` explicitly to suppress the warning\n",
      "  super()._check_params_vs_input(X, default_n_init=10)\n",
      "C:\\Users\\punith yc\\anaconda3\\Lib\\site-packages\\sklearn\\cluster\\_kmeans.py:1436: UserWarning: KMeans is known to have a memory leak on Windows with MKL, when there are less chunks than available threads. You can avoid it by setting the environment variable OMP_NUM_THREADS=1.\n",
      "  warnings.warn(\n",
      "C:\\Users\\punith yc\\anaconda3\\Lib\\site-packages\\sklearn\\cluster\\_kmeans.py:1412: FutureWarning: The default value of `n_init` will change from 10 to 'auto' in 1.4. Set the value of `n_init` explicitly to suppress the warning\n",
      "  super()._check_params_vs_input(X, default_n_init=10)\n",
      "C:\\Users\\punith yc\\anaconda3\\Lib\\site-packages\\sklearn\\cluster\\_kmeans.py:1436: UserWarning: KMeans is known to have a memory leak on Windows with MKL, when there are less chunks than available threads. You can avoid it by setting the environment variable OMP_NUM_THREADS=1.\n",
      "  warnings.warn(\n",
      "C:\\Users\\punith yc\\anaconda3\\Lib\\site-packages\\sklearn\\cluster\\_kmeans.py:1412: FutureWarning: The default value of `n_init` will change from 10 to 'auto' in 1.4. Set the value of `n_init` explicitly to suppress the warning\n",
      "  super()._check_params_vs_input(X, default_n_init=10)\n",
      "C:\\Users\\punith yc\\anaconda3\\Lib\\site-packages\\sklearn\\cluster\\_kmeans.py:1436: UserWarning: KMeans is known to have a memory leak on Windows with MKL, when there are less chunks than available threads. You can avoid it by setting the environment variable OMP_NUM_THREADS=1.\n",
      "  warnings.warn(\n",
      "C:\\Users\\punith yc\\anaconda3\\Lib\\site-packages\\sklearn\\cluster\\_kmeans.py:1412: FutureWarning: The default value of `n_init` will change from 10 to 'auto' in 1.4. Set the value of `n_init` explicitly to suppress the warning\n",
      "  super()._check_params_vs_input(X, default_n_init=10)\n",
      "C:\\Users\\punith yc\\anaconda3\\Lib\\site-packages\\sklearn\\cluster\\_kmeans.py:1436: UserWarning: KMeans is known to have a memory leak on Windows with MKL, when there are less chunks than available threads. You can avoid it by setting the environment variable OMP_NUM_THREADS=1.\n",
      "  warnings.warn(\n"
     ]
    }
   ],
   "source": [
    "wcss=[]\n",
    "for i in range(1,11):\n",
    "    km=KMeans(n_clusters=i)\n",
    "    km.fit_predict(data)\n",
    "    wcss.append(km.inertia_)\n",
    "    "
   ]
  },
  {
   "cell_type": "code",
   "execution_count": 19,
   "id": "620a6b38",
   "metadata": {},
   "outputs": [
    {
     "data": {
      "text/plain": [
       "[3768.6840772727273,\n",
       " 1197.6186361904763,\n",
       " 369.92007619047615,\n",
       " 225.6679580952381,\n",
       " 129.46629142857142,\n",
       " 82.36214857142859,\n",
       " 56.782361904761906,\n",
       " 41.3531119047619,\n",
       " 31.29665333333333,\n",
       " 22.058603333333334]"
      ]
     },
     "execution_count": 19,
     "metadata": {},
     "output_type": "execute_result"
    }
   ],
   "source": [
    "wcss"
   ]
  },
  {
   "cell_type": "code",
   "execution_count": 20,
   "id": "8e2c42b1",
   "metadata": {},
   "outputs": [
    {
     "data": {
      "text/plain": [
       "[<matplotlib.lines.Line2D at 0x26b31569a50>]"
      ]
     },
     "execution_count": 20,
     "metadata": {},
     "output_type": "execute_result"
    },
    {
     "data": {
      "image/png": "[encoded data removed]",
      "text/plain": [
       "<Figure size 640x480 with 1 Axes>"
      ]
     },
     "metadata": {},
     "output_type": "display_data"
    }
   ],
   "source": [
    "plt.plot(range(1,11),wcss)"
   ]
  },
  {
   "cell_type": "code",
   "execution_count": 21,
   "id": "5c9444d5",
   "metadata": {
    "scrolled": true
   },
   "outputs": [
    {
     "name": "stderr",
     "output_type": "stream",
     "text": [
      "C:\\Users\\punith yc\\anaconda3\\Lib\\site-packages\\sklearn\\cluster\\_kmeans.py:1412: FutureWarning: The default value of `n_init` will change from 10 to 'auto' in 1.4. Set the value of `n_init` explicitly to suppress the warning\n",
      "  super()._check_params_vs_input(X, default_n_init=10)\n",
      "C:\\Users\\punith yc\\anaconda3\\Lib\\site-packages\\sklearn\\cluster\\_kmeans.py:1436: UserWarning: KMeans is known to have a memory leak on Windows with MKL, when there are less chunks than available threads. You can avoid it by setting the environment variable OMP_NUM_THREADS=1.\n",
      "  warnings.warn(\n"
     ]
    }
   ],
   "source": [
    "km=KMeans(n_clusters=6)\n",
    "y=km.fit_predict(data)"
   ]
  },
  {
   "cell_type": "code",
   "execution_count": 45,
   "id": "d48b69f7",
   "metadata": {
    "scrolled": false
   },
   "outputs": [
    {
     "data": {
      "text/plain": [
       "<matplotlib.collections.PathCollection at 0x26b34ad99d0>"
      ]
     },
     "execution_count": 45,
     "metadata": {},
     "output_type": "execute_result"
    },
    {
     "data": {
      "image/png": "[encoded data removed]",
      "text/plain": [
       "<Figure size 640x480 with 1 Axes>"
      ]
     },
     "metadata": {},
     "output_type": "display_data"
    }
   ],
   "source": [
    "plt.scatter(data[y == 0]['cgpa'],data[y == 0]['iq'],color=\"blue\")\n",
    "plt.scatter(data[y == 1]['cgpa'],data[y == 1]['iq'],color=\"red\")\n",
    "plt.scatter(data[y == 2]['cgpa'],data[y == 2]['iq'],color=\"green\")\n",
    "plt.scatter(data[y == 3]['cgpa'],data[y == 3]['iq'],color=\"black\")\n",
    "plt.scatter(data[y == 4]['cgpa'],data[y == 4]['iq'],color=\"yellow\")\n",
    "plt.scatter(data[y == 5]['cgpa'],data[y == 5]['iq'],color=\"violet\")"
   ]
  },
  {
   "cell_type": "markdown",
   "id": "656008c2",
   "metadata": {},
   "source": [
    "### data on 3d"
   ]
  },
  {
   "cell_type": "code",
   "execution_count": 52,
   "id": "84fe272b",
   "metadata": {},
   "outputs": [],
   "source": [
    "from sklearn.datasets import make_blobs\n",
    "centroids=[(-5,-5,5),(5,5,-5),(3.5,-2.5,4),(-2.5,-2.5,4)]\n",
    "cluster_std=[1,1,1,1]\n",
    "x,y=make_blobs(n_samples=200,cluster_std=cluster_std,centers=centroids,n_features=3,random_state=2)"
   ]
  },
  {
   "cell_type": "code",
   "execution_count": 59,
   "id": "b4bc40fd",
   "metadata": {
    "scrolled": false
   },
   "outputs": [
    {
     "data": {
      "text/plain": [
       "array([ 4.09982043, -1.95061553,  5.38378103])"
      ]
     },
     "execution_count": 59,
     "metadata": {},
     "output_type": "execute_result"
    }
   ],
   "source": [
    "x[0]"
   ]
  },
  {
   "cell_type": "code",
   "execution_count": 60,
   "id": "0b6a90ca",
   "metadata": {},
   "outputs": [
    {
     "data": {
      "application/vnd.plotly.v1+json": {
       "config": {
        "plotlyServerURL": "https://plot.ly"
       },
       "data": [
        {
         "hovertemplate": "x=%{x}<br>y=%{y}<br>z=%{z}<extra></extra>",
         "legendgroup": "",
         "marker": {
          "color": "#636efa",
          "symbol": "circle"
         },
         "mode": "markers",
         "name": "",
         "scene": "scene",
         "showlegend": false,
         "type": "scatter3d",
         "x": [
          4.099820429458222,
          -5.3388219660291965,
          -3.294872444562935,
          -5.928891924523819,
          -5.419316482152689,
          -5.381516481765086,
          -5.416757847405471,
          -4.491603757316568,
          -4.498142793218687,
          -6.060799036330432,
          -4.248035150785119,
          5.756502143052552,
          5.335908395109359,
          3.4796127082279202,
          -3.659806896276608,
          -2.128377838739635,
          -5.38109251751535,
          2.547102847873341,
          5.514370717465448,
          -3.1005204054093216,
          4.159556987508504,
          -4.502059851633179,
          3.8360659516498585,
          -5.596159699806467,
          -5.429013318509845,
          5.058519935280671,
          3.3477997087584193,
          4.278120273890097,
          3.648349243401486,
          5.975509412228565,
          4.531653740441768,
          3.5466356503432115,
          4.64052554085497,
          -5.90900761492685,
          6.117886733450842,
          4.748450298019977,
          -6.133133273676982,
          4.644855376000609,
          5.330946656984628,
          -1.7169799126597618,
          4.212061227425853,
          -3.607438726275637,
          -3.3188992001165687,
          3.925606211093331,
          -3.7821143669437096,
          4.286146069823288,
          4.431887357892312,
          4.428618392116757,
          2.424971436065259,
          -2.51333975135087,
          -3.59330375833863,
          -3.080383038054719,
          -0.7654836555949511,
          -5.251774118369824,
          5.80237828854235,
          -4.304880394953009,
          -2.1967655670912682,
          3.8656815169693814,
          2.7122504596806993,
          4.3483505668983575,
          2.2191048220573295,
          -5.019579296368879,
          4.370840764608209,
          3.661411120131477,
          -2.1847239181601603,
          4.520014888467349,
          2.9355065679384222,
          -4.508784527447412,
          -4.32826633951391,
          6.0858064040220965,
          -5.747870949293862,
          2.976636060992146,
          5.622220414467932,
          -3.5829295571970947,
          3.827067038018737,
          6.660965969545884,
          -3.486496363974641,
          3.053142103229256,
          -4.56650366992343,
          3.368317596748156,
          5.869598197544945,
          -1.313951324313634,
          -4.457647427850971,
          4.655530589628884,
          -1.8152400310510906,
          -5.829135289014779,
          -3.2455964142526197,
          4.131798923784366,
          -2.36507453782906,
          -2.4147051319354507,
          3.6458400731438214,
          4.381624514912321,
          5.7348846677409515,
          5.05725094652111,
          -4.57617529213412,
          -5.335677338523848,
          -4.618133765873303,
          -1.8207328219759935,
          3.8433008294818585,
          4.217805695126226,
          2.503040312925822,
          4.685382564344069,
          -5.156434170384624,
          4.57347752914473,
          3.6499978973344556,
          -1.6152558057986321,
          4.512069455808136,
          -2.5931978663260873,
          2.95611661863017,
          5.601515813667199,
          2.9303877373345495,
          4.665155874542282,
          -4.497118582841957,
          3.9764850152019697,
          2.8688813174149037,
          9.1086926238052,
          -1.7205199456265021,
          4.635520908387342,
          -2.005964129064743,
          -6.021414730522066,
          3.291296370887485,
          -4.958460607001596,
          5.412600678490776,
          -3.129079150798506,
          -3.089808683415577,
          -0.41331727250223116,
          -2.6973309481247267,
          -6.764917728275756,
          3.192012263251741,
          4.552499123807355,
          3.1495960262085236,
          4.951169899781516,
          -3.1340531276364554,
          6.033029065927622,
          -5.269056960216013,
          -5.077218665352957,
          -1.3755171393075258,
          2.8184693555359743,
          3.541957629196993,
          3.0141542262073546,
          5.121105581578329,
          -3.5881615688012674,
          4.066169338583107,
          4.695333415150343,
          -0.9564636608964303,
          -5.677675577328041,
          3.807525526697261,
          6.8044766415797255,
          -0.21746036045228756,
          6.045477987638505,
          4.5980100387581615,
          3.267102998951223,
          -1.9372951128846245,
          -6.868090654563764,
          -4.673996566613019,
          6.335566168340722,
          -6.187612286385284,
          -3.3936092090801044,
          -4.887273495183351,
          3.787208202160081,
          -7.343603190999962,
          -2.0930122508879005,
          -3.9801452706307625,
          -3.703813469444724,
          -5.403892269337939,
          3.184171956827631,
          -2.3488028246830694,
          4.447050560436778,
          -2.3822034502446683,
          -5.719253841426677,
          -2.951361054350651,
          2.9233890697149656,
          -2.8469405317942984,
          -2.220566243455128,
          4.21352444770112,
          -2.2504864502657034,
          3.0070050885454567,
          -4.619528029784999,
          -3.4100656426225537,
          5.665334277922227,
          1.4250776348372316,
          6.825994457134669,
          -3.2983487290498044,
          1.889500741489037,
          -2.16846035189311,
          -3.3597291915950116,
          2.326844378557216,
          -4.264720423934797,
          -5.276179492250738,
          -1.7202545988886007,
          4.860708117231374,
          -5.560234506237797,
          -3.9687757992872816,
          -3.4155129436043237,
          4.320564332230826,
          3.4345903196609244,
          3.5661264168345026,
          4.347068854861721,
          -4.727341292297463,
          3.6824327302459627
         ],
         "y": [
          -1.9506155345408303,
          -5.236184030852601,
          -2.90528626681923,
          -2.44956176412034,
          -5.132328898436743,
          -4.933510990853855,
          -5.056266827226329,
          -4.783883993736318,
          -5.844213703829862,
          -4.408333479272321,
          -5.993760983118591,
          5.241439628841692,
          6.904375909180253,
          -2.9144085975292957,
          -3.157768362448919,
          -2.313478480013987,
          -5.375669423078993,
          -3.5144630635201635,
          5.829458430613394,
          -0.8851267629367416,
          4.687729330341356,
          -4.873495824693494,
          -2.689044051465752,
          -5.019130496521152,
          -4.303802020388569,
          5.376545911034041,
          4.324338210999169,
          6.9331569663490775,
          -3.1535414440345466,
          5.191573646607778,
          3.745279692887145,
          4.661982222643772,
          6.496951789522486,
          -4.448545955453576,
          4.7257579111364745,
          -3.74572655305435,
          -4.566907445343309,
          -2.6521176868008163,
          -1.559824007262271,
          -2.9070630468138123,
          -4.300716040785922,
          -2.6762861412530987,
          -2.8326392648474488,
          -1.8646362422625384,
          -5.46200534815338,
          -2.3058313043417717,
          -1.0316678672803508,
          5.292432067329935,
          -2.837972149364432,
          -3.2683232495933243,
          -6.737959504384568,
          -3.554915674349907,
          -3.1127515576665696,
          -6.546674611264416,
          -0.8789070223268944,
          -7.033466546122614,
          -3.329874844710405,
          4.292579112436213,
          -2.0752463277247086,
          -3.3831255611139026,
          -2.1901537226152485,
          -1.1088375725806185,
          -1.9071932032188754,
          6.1327460759333485,
          -0.6337917947369862,
          3.9803509005240705,
          -4.587807462288724,
          -2.3037371059183402,
          -2.3610442827394347,
          5.90217939544059,
          -4.990974749026675,
          5.267972576478631,
          5.960781944843228,
          -3.456625520064934,
          -3.9553594449782485,
          -2.3900489871792416,
          -3.094722498919069,
          -1.9788905690234362,
          -3.7216207697281316,
          -1.7924071339590608,
          3.9129094251575585,
          -4.403821142942931,
          -5.313508196993409,
          -2.7545304593445046,
          -4.207539050551093,
          -4.912289781591668,
          -2.4787391501905733,
          -2.082407269473736,
          -4.278600641324842,
          -3.164667277135175,
          -2.900106056477158,
          5.378794465706974,
          3.938634256069162,
          5.159088486650219,
          -4.200820004964985,
          -4.388659220426282,
          -4.433724558557544,
          -2.5176606799904495,
          6.234034681364575,
          -3.438998997738875,
          -2.763388077050488,
          4.406244417117393,
          -4.743429547998704,
          4.851852808822699,
          4.301829002417107,
          -2.116795536539935,
          4.826928834774526,
          -2.3643685839439286,
          -2.3156982606016414,
          5.00365949071447,
          5.610144086406658,
          4.71648048363669,
          -6.245288086607232,
          4.5518251766556315,
          -1.7109403514176864,
          5.821120877311912,
          -1.4734020494349551,
          4.124020522334606,
          -0.9537223541323563,
          -4.5676042990203936,
          -2.362382008695039,
          -6.117925445113517,
          -2.545263203132064,
          -0.6879144728714677,
          -3.3625310861266464,
          -2.8446236706818766,
          -1.4231703504698137,
          -5.114421297030121,
          -1.7192456439773234,
          3.7445727816541416,
          5.33048806399892,
          -3.5649278800787134,
          -2.6544099623581143,
          4.670997565299293,
          -2.7686332111133956,
          -4.175296994563018,
          -3.9978398055076187,
          -2.319933315064787,
          -0.8580853625280531,
          5.365053516440841,
          4.153171248058107,
          -3.2578555532194673,
          4.8250031562652405,
          4.840275869878614,
          -3.8102705289478154,
          -6.439439026738619,
          -3.8696386726262686,
          5.1804098069115465,
          -2.9957788482144947,
          6.369016024400969,
          -3.517878050321956,
          -1.389354719685875,
          -3.082070757454222,
          -3.268815334019532,
          -7.040323048728715,
          5.302629336178099,
          -6.421217227304127,
          -1.7480976448296666,
          -4.629555463336766,
          -1.3104718630956669,
          -3.838478509259227,
          -3.3443082406155313,
          -6.482465477822671,
          -3.7474724316113397,
          -6.384518666535865,
          -3.625903780697406,
          -1.7349305190375308,
          5.299526813180158,
          -3.036685308837512,
          -5.583414594579008,
          -1.9811638730885268,
          -2.0839782509322373,
          -2.0885564836616286,
          -4.322231268440837,
          0.029734874213447338,
          -2.24369160842277,
          -3.5865481528840086,
          -5.2171352687448795,
          -1.3235458073168038,
          4.150004497284934,
          -3.3344373905441147,
          3.285932588903967,
          -2.494342202868581,
          -2.0000602360299524,
          -2.6495913526478985,
          -6.793435585194863,
          -1.9373309218706423,
          -5.6532502677920355,
          -5.516883893732587,
          -4.029138679959726,
          5.032565469312491,
          -5.902246068070502,
          -1.3529000575880588,
          -7.659449456383488,
          -2.989157001260625,
          -1.7338840964649047,
          -1.9644416494164303,
          4.3879052498321895,
          -2.2933101026185,
          2.974406408165413
         ],
         "z": [
          5.383781034869402,
          4.362344987515699,
          2.6222420685039047,
          3.5268267522001144,
          4.960429760306394,
          3.9012610530039433,
          2.863803904331546,
          3.1413876138765024,
          5.000009761471596,
          4.816743426220419,
          6.109143281361648,
          -4.502574351075263,
          -4.91463556657735,
          4.067313412352021,
          2.748551593685672,
          3.84157077581156,
          4.925529237106019,
          2.8847360369623782,
          -4.36937803272288,
          4.394953220379653,
          -2.855321910888963,
          3.5811894488514655,
          3.550671399283676,
          6.175001219500291,
          5.6974162722769295,
          -5.135479764303182,
          -6.067067123783323,
          -6.070796325637174,
          5.408833983962475,
          -5.662209011794249,
          -4.8751763536141555,
          -4.640866668206195,
          -6.53111110759244,
          7.292208012814958,
          -3.258187811527766,
          3.83283122564962,
          4.695913561198685,
          4.829789045885108,
          5.018717046893108,
          3.4751083328798025,
          4.747598941779268,
          3.0172443334671284,
          3.413612044523042,
          6.102229267452569,
          5.350888494087746,
          4.586204097720766,
          3.778679057268708,
          -6.194999894924884,
          4.343212732196548,
          4.291234010000645,
          6.040823953390729,
          2.8172427956851784,
          2.6065579829989245,
          2.9173480642550507,
          4.712683273479498,
          4.810530735287619,
          5.288769406861876,
          -6.221429165095769,
          4.819885116534383,
          5.545386826471849,
          5.548290693962678,
          2.670653557495479,
          2.900702690871576,
          -4.62969515725276,
          3.8175023767243212,
          -5.007601138413295,
          3.784949868324952,
          3.1241036299850484,
          4.119450164665053,
          -4.609703550189238,
          4.121892106759658,
          -5.002206445409661,
          -4.241629652833231,
          3.8166232649434684,
          3.628480875644192,
          2.0864767817029146,
          3.685188157288686,
          3.2918056198169987,
          4.365320694820638,
          4.1140538779273585,
          -4.33577858660437,
          2.8018596216829224,
          5.7710117380694115,
          4.518924924162383,
          3.013430335071158,
          6.000365886550695,
          4.910917514864743,
          5.615176268511638,
          3.4992085104845456,
          5.44068987241511,
          4.815206041437376,
          -4.486748555690667,
          -5.108516823918984,
          -7.374402684066254,
          6.26261366332482,
          5.0479705918681885,
          5.204207978914112,
          4.236040922914249,
          -3.9718151008438562,
          4.62877580719965,
          3.322639508256926,
          -3.8504994322820174,
          4.011220951230378,
          -3.498563084743422,
          -4.760048801727113,
          3.5830058511246765,
          -5.395346401166808,
          3.1172911784258175,
          3.6693241565124226,
          -5.228247558194035,
          -4.576503099557128,
          -4.461575737209381,
          3.942047781137661,
          -7.505458132074395,
          2.3783261970186693,
          -3.468239683683044,
          3.1513339988993376,
          -4.603479841313291,
          4.246857508466808,
          4.676419929923476,
          3.8966478316993247,
          5.539058320580789,
          4.576909717806182,
          1.943734259262961,
          2.257127095757482,
          1.9979207668532442,
          4.437410231860793,
          4.501825806078242,
          2.9441603614341867,
          -4.061836328725856,
          -5.315693210302774,
          2.599154545188439,
          2.250711196187719,
          -6.1510029441411485,
          2.565232423478956,
          6.248212920597034,
          5.902017223300536,
          3.9330689560034826,
          4.311697706662221,
          -4.225917966595301,
          -4.939537550997088,
          3.3562550998431866,
          -6.43714343223078,
          -4.451053440177381,
          4.363433971879587,
          5.524296430010349,
          6.670337244799694,
          -4.446835725842188,
          3.8360371676604053,
          -4.274646740642941,
          2.4706086445037823,
          3.6266611870635326,
          3.925997025125914,
          6.467678010573413,
          5.046255523141697,
          -5.454227854716111,
          4.846504804323051,
          5.896932243552257,
          6.359633862672596,
          4.02120154785712,
          5.386078047603594,
          3.440179887072116,
          5.846311891842079,
          3.9224537503714467,
          6.3672354239271245,
          4.4884966659384204,
          2.0833694809908785,
          -4.447336304395801,
          6.487184575331648,
          4.674950371618214,
          4.3644480051463255,
          3.9421527373581,
          6.326390901121183,
          4.4270174575554755,
          4.837615793966021,
          4.767625082505129,
          3.769082502718902,
          6.173531498494953,
          4.299210669622671,
          -5.8523417966884175,
          3.3422815528924654,
          -5.076639563997369,
          3.679065292167612,
          3.1654847926145218,
          3.757559399868296,
          4.158252634343796,
          3.8354849427065445,
          5.84245628157134,
          4.301410050063612,
          6.792592852398284,
          -6.640560224804842,
          4.409027724530555,
          4.095556984511874,
          4.9085473771093415,
          5.424967034052006,
          3.9383649153779503,
          3.3968592078420086,
          -5.351262461092773,
          3.9291236440417685,
          -5.08224537503313
         ]
        }
       ],
       "layout": {
        "legend": {
         "tracegroupgap": 0
        },
        "margin": {
         "t": 60
        },
        "scene": {
         "domain": {
          "x": [
           0,
           1
          ],
          "y": [
           0,
           1
          ]
         },
         "xaxis": {
          "title": {
           "text": "x"
          }
         },
         "yaxis": {
          "title": {
           "text": "y"
          }
         },
         "zaxis": {
          "title": {
           "text": "z"
          }
         }
        },
        "template": {
         "data": {
          "bar": [
           {
            "error_x": {
             "color": "#2a3f5f"
            },
            "error_y": {
             "color": "#2a3f5f"
            },
            "marker": {
             "line": {
              "color": "#E5ECF6",
              "width": 0.5
             },
             "pattern": {
              "fillmode": "overlay",
              "size": 10,
              "solidity": 0.2
             }
            },
            "type": "bar"
           }
          ],
          "barpolar": [
           {
            "marker": {
             "line": {
              "color": "#E5ECF6",
              "width": 0.5
             },
             "pattern": {
              "fillmode": "overlay",
              "size": 10,
              "solidity": 0.2
             }
            },
            "type": "barpolar"
           }
          ],
          "carpet": [
           {
            "aaxis": {
             "endlinecolor": "#2a3f5f",
             "gridcolor": "white",
             "linecolor": "white",
             "minorgridcolor": "white",
             "startlinecolor": "#2a3f5f"
            },
            "baxis": {
             "endlinecolor": "#2a3f5f",
             "gridcolor": "white",
             "linecolor": "white",
             "minorgridcolor": "white",
             "startlinecolor": "#2a3f5f"
            },
            "type": "carpet"
           }
          ],
          "choropleth": [
           {
            "colorbar": {
             "outlinewidth": 0,
             "ticks": ""
            },
            "type": "choropleth"
           }
          ],
          "contour": [
           {
            "colorbar": {
             "outlinewidth": 0,
             "ticks": ""
            },
            "colorscale": [
             [
              0,
              "#0d0887"
             ],
             [
              0.1111111111111111,
              "#46039f"
             ],
             [
              0.2222222222222222,
              "#7201a8"
             ],
             [
              0.3333333333333333,
              "#9c179e"
             ],
             [
              0.4444444444444444,
              "#bd3786"
             ],
             [
              0.5555555555555556,
              "#d8576b"
             ],
             [
              0.6666666666666666,
              "#ed7953"
             ],
             [
              0.7777777777777778,
              "#fb9f3a"
             ],
             [
              0.8888888888888888,
              "#fdca26"
             ],
             [
              1,
              "#f0f921"
             ]
            ],
            "type": "contour"
           }
          ],
          "contourcarpet": [
           {
            "colorbar": {
             "outlinewidth": 0,
             "ticks": ""
            },
            "type": "contourcarpet"
           }
          ],
          "heatmap": [
           {
            "colorbar": {
             "outlinewidth": 0,
             "ticks": ""
            },
            "colorscale": [
             [
              0,
              "#0d0887"
             ],
             [
              0.1111111111111111,
              "#46039f"
             ],
             [
              0.2222222222222222,
              "#7201a8"
             ],
             [
              0.3333333333333333,
              "#9c179e"
             ],
             [
              0.4444444444444444,
              "#bd3786"
             ],
             [
              0.5555555555555556,
              "#d8576b"
             ],
             [
              0.6666666666666666,
              "#ed7953"
             ],
             [
              0.7777777777777778,
              "#fb9f3a"
             ],
             [
              0.8888888888888888,
              "#fdca26"
             ],
             [
              1,
              "#f0f921"
             ]
            ],
            "type": "heatmap"
           }
          ],
          "heatmapgl": [
           {
            "colorbar": {
             "outlinewidth": 0,
             "ticks": ""
            },
            "colorscale": [
             [
              0,
              "#0d0887"
             ],
             [
              0.1111111111111111,
              "#46039f"
             ],
             [
              0.2222222222222222,
              "#7201a8"
             ],
             [
              0.3333333333333333,
              "#9c179e"
             ],
             [
              0.4444444444444444,
              "#bd3786"
             ],
             [
              0.5555555555555556,
              "#d8576b"
             ],
             [
              0.6666666666666666,
              "#ed7953"
             ],
             [
              0.7777777777777778,
              "#fb9f3a"
             ],
             [
              0.8888888888888888,
              "#fdca26"
             ],
             [
              1,
              "#f0f921"
             ]
            ],
            "type": "heatmapgl"
           }
          ],
          "histogram": [
           {
            "marker": {
             "pattern": {
              "fillmode": "overlay",
              "size": 10,
              "solidity": 0.2
             }
            },
            "type": "histogram"
           }
          ],
          "histogram2d": [
           {
            "colorbar": {
             "outlinewidth": 0,
             "ticks": ""
            },
            "colorscale": [
             [
              0,
              "#0d0887"
             ],
             [
              0.1111111111111111,
              "#46039f"
             ],
             [
              0.2222222222222222,
              "#7201a8"
             ],
             [
              0.3333333333333333,
              "#9c179e"
             ],
             [
              0.4444444444444444,
              "#bd3786"
             ],
             [
              0.5555555555555556,
              "#d8576b"
             ],
             [
              0.6666666666666666,
              "#ed7953"
             ],
             [
              0.7777777777777778,
              "#fb9f3a"
             ],
             [
              0.8888888888888888,
              "#fdca26"
             ],
             [
              1,
              "#f0f921"
             ]
            ],
            "type": "histogram2d"
           }
          ],
          "histogram2dcontour": [
           {
            "colorbar": {
             "outlinewidth": 0,
             "ticks": ""
            },
            "colorscale": [
             [
              0,
              "#0d0887"
             ],
             [
              0.1111111111111111,
              "#46039f"
             ],
             [
              0.2222222222222222,
              "#7201a8"
             ],
             [
              0.3333333333333333,
              "#9c179e"
             ],
             [
              0.4444444444444444,
              "#bd3786"
             ],
             [
              0.5555555555555556,
              "#d8576b"
             ],
             [
              0.6666666666666666,
              "#ed7953"
             ],
             [
              0.7777777777777778,
              "#fb9f3a"
             ],
             [
              0.8888888888888888,
              "#fdca26"
             ],
             [
              1,
              "#f0f921"
             ]
            ],
            "type": "histogram2dcontour"
           }
          ],
          "mesh3d": [
           {
            "colorbar": {
             "outlinewidth": 0,
             "ticks": ""
            },
            "type": "mesh3d"
           }
          ],
          "parcoords": [
           {
            "line": {
             "colorbar": {
              "outlinewidth": 0,
              "ticks": ""
             }
            },
            "type": "parcoords"
           }
          ],
          "pie": [
           {
            "automargin": true,
            "type": "pie"
           }
          ],
          "scatter": [
           {
            "fillpattern": {
             "fillmode": "overlay",
             "size": 10,
             "solidity": 0.2
            },
            "type": "scatter"
           }
          ],
          "scatter3d": [
           {
            "line": {
             "colorbar": {
              "outlinewidth": 0,
              "ticks": ""
             }
            },
            "marker": {
             "colorbar": {
              "outlinewidth": 0,
              "ticks": ""
             }
            },
            "type": "scatter3d"
           }
          ],
          "scattercarpet": [
           {
            "marker": {
             "colorbar": {
              "outlinewidth": 0,
              "ticks": ""
             }
            },
            "type": "scattercarpet"
           }
          ],
          "scattergeo": [
           {
            "marker": {
             "colorbar": {
              "outlinewidth": 0,
              "ticks": ""
             }
            },
            "type": "scattergeo"
           }
          ],
          "scattergl": [
           {
            "marker": {
             "colorbar": {
              "outlinewidth": 0,
              "ticks": ""
             }
            },
            "type": "scattergl"
           }
          ],
          "scattermapbox": [
           {
            "marker": {
             "colorbar": {
              "outlinewidth": 0,
              "ticks": ""
             }
            },
            "type": "scattermapbox"
           }
          ],
          "scatterpolar": [
           {
            "marker": {
             "colorbar": {
              "outlinewidth": 0,
              "ticks": ""
             }
            },
            "type": "scatterpolar"
           }
          ],
          "scatterpolargl": [
           {
            "marker": {
             "colorbar": {
              "outlinewidth": 0,
              "ticks": ""
             }
            },
            "type": "scatterpolargl"
           }
          ],
          "scatterternary": [
           {
            "marker": {
             "colorbar": {
              "outlinewidth": 0,
              "ticks": ""
             }
            },
            "type": "scatterternary"
           }
          ],
          "surface": [
           {
            "colorbar": {
             "outlinewidth": 0,
             "ticks": ""
            },
            "colorscale": [
             [
              0,
              "#0d0887"
             ],
             [
              0.1111111111111111,
              "#46039f"
             ],
             [
              0.2222222222222222,
              "#7201a8"
             ],
             [
              0.3333333333333333,
              "#9c179e"
             ],
             [
              0.4444444444444444,
              "#bd3786"
             ],
             [
              0.5555555555555556,
              "#d8576b"
             ],
             [
              0.6666666666666666,
              "#ed7953"
             ],
             [
              0.7777777777777778,
              "#fb9f3a"
             ],
             [
              0.8888888888888888,
              "#fdca26"
             ],
             [
              1,
              "#f0f921"
             ]
            ],
            "type": "surface"
           }
          ],
          "table": [
           {
            "cells": {
             "fill": {
              "color": "#EBF0F8"
             },
             "line": {
              "color": "white"
             }
            },
            "header": {
             "fill": {
              "color": "#C8D4E3"
             },
             "line": {
              "color": "white"
             }
            },
            "type": "table"
           }
          ]
         },
         "layout": {
          "annotationdefaults": {
           "arrowcolor": "#2a3f5f",
           "arrowhead": 0,
           "arrowwidth": 1
          },
          "autotypenumbers": "strict",
          "coloraxis": {
           "colorbar": {
            "outlinewidth": 0,
            "ticks": ""
           }
          },
          "colorscale": {
           "diverging": [
            [
             0,
             "#8e0152"
            ],
            [
             0.1,
             "#c51b7d"
            ],
            [
             0.2,
             "#de77ae"
            ],
            [
             0.3,
             "#f1b6da"
            ],
            [
             0.4,
             "#fde0ef"
            ],
            [
             0.5,
             "#f7f7f7"
            ],
            [
             0.6,
             "#e6f5d0"
            ],
            [
             0.7,
             "#b8e186"
            ],
            [
             0.8,
             "#7fbc41"
            ],
            [
             0.9,
             "#4d9221"
            ],
            [
             1,
             "#276419"
            ]
           ],
           "sequential": [
            [
             0,
             "#0d0887"
            ],
            [
             0.1111111111111111,
             "#46039f"
            ],
            [
             0.2222222222222222,
             "#7201a8"
            ],
            [
             0.3333333333333333,
             "#9c179e"
            ],
            [
             0.4444444444444444,
             "#bd3786"
            ],
            [
             0.5555555555555556,
             "#d8576b"
            ],
            [
             0.6666666666666666,
             "#ed7953"
            ],
            [
             0.7777777777777778,
             "#fb9f3a"
            ],
            [
             0.8888888888888888,
             "#fdca26"
            ],
            [
             1,
             "#f0f921"
            ]
           ],
           "sequentialminus": [
            [
             0,
             "#0d0887"
            ],
            [
             0.1111111111111111,
             "#46039f"
            ],
            [
             0.2222222222222222,
             "#7201a8"
            ],
            [
             0.3333333333333333,
             "#9c179e"
            ],
            [
             0.4444444444444444,
             "#bd3786"
            ],
            [
             0.5555555555555556,
             "#d8576b"
            ],
            [
             0.6666666666666666,
             "#ed7953"
            ],
            [
             0.7777777777777778,
             "#fb9f3a"
            ],
            [
             0.8888888888888888,
             "#fdca26"
            ],
            [
             1,
             "#f0f921"
            ]
           ]
          },
          "colorway": [
           "#636efa",
           "#EF553B",
           "#00cc96",
           "#ab63fa",
           "#FFA15A",
           "#19d3f3",
           "#FF6692",
           "#B6E880",
           "#FF97FF",
           "#FECB52"
          ],
          "font": {
           "color": "#2a3f5f"
          },
          "geo": {
           "bgcolor": "white",
           "lakecolor": "white",
           "landcolor": "#E5ECF6",
           "showlakes": true,
           "showland": true,
           "subunitcolor": "white"
          },
          "hoverlabel": {
           "align": "left"
          },
          "hovermode": "closest",
          "mapbox": {
           "style": "light"
          },
          "paper_bgcolor": "white",
          "plot_bgcolor": "#E5ECF6",
          "polar": {
           "angularaxis": {
            "gridcolor": "white",
            "linecolor": "white",
            "ticks": ""
           },
           "bgcolor": "#E5ECF6",
           "radialaxis": {
            "gridcolor": "white",
            "linecolor": "white",
            "ticks": ""
           }
          },
          "scene": {
           "xaxis": {
            "backgroundcolor": "#E5ECF6",
            "gridcolor": "white",
            "gridwidth": 2,
            "linecolor": "white",
            "showbackground": true,
            "ticks": "",
            "zerolinecolor": "white"
           },
           "yaxis": {
            "backgroundcolor": "#E5ECF6",
            "gridcolor": "white",
            "gridwidth": 2,
            "linecolor": "white",
            "showbackground": true,
            "ticks": "",
            "zerolinecolor": "white"
           },
           "zaxis": {
            "backgroundcolor": "#E5ECF6",
            "gridcolor": "white",
            "gridwidth": 2,
            "linecolor": "white",
            "showbackground": true,
            "ticks": "",
            "zerolinecolor": "white"
           }
          },
          "shapedefaults": {
           "line": {
            "color": "#2a3f5f"
           }
          },
          "ternary": {
           "aaxis": {
            "gridcolor": "white",
            "linecolor": "white",
            "ticks": ""
           },
           "baxis": {
            "gridcolor": "white",
            "linecolor": "white",
            "ticks": ""
           },
           "bgcolor": "#E5ECF6",
           "caxis": {
            "gridcolor": "white",
            "linecolor": "white",
            "ticks": ""
           }
          },
          "title": {
           "x": 0.05
          },
          "xaxis": {
           "automargin": true,
           "gridcolor": "white",
           "linecolor": "white",
           "ticks": "",
           "title": {
            "standoff": 15
           },
           "zerolinecolor": "white",
           "zerolinewidth": 2
          },
          "yaxis": {
           "automargin": true,
           "gridcolor": "white",
           "linecolor": "white",
           "ticks": "",
           "title": {
            "standoff": 15
           },
           "zerolinecolor": "white",
           "zerolinewidth": 2
          }
         }
        }
       }
      },
      "text/html": [
       "<div>                            <div id=\"5c09b703-138b-4d96-8737-f5699f810e3b\" class=\"plotly-graph-div\" style=\"height:525px; width:100%;\"></div>            <script type=\"text/javascript\">                require([\"plotly\"], function(Plotly) {                    window.PLOTLYENV=window.PLOTLYENV || {};                                    if (document.getElementById(\"5c09b703-138b-4d96-8737-f5699f810e3b\")) {                    Plotly.newPlot(                        \"5c09b703-138b-4d96-8737-f5699f810e3b\",                        [{\"hovertemplate\":\"x=%{x}<br>y=%{y}<br>z=%{z}<extra></extra>\",\"legendgroup\":\"\",\"marker\":{\"color\":\"#636efa\",\"symbol\":\"circle\"},\"mode\":\"markers\",\"name\":\"\",\"scene\":\"scene\",\"showlegend\":false,\"x\":[4.099820429458222,-5.3388219660291965,-3.294872444562935,-5.928891924523819,-5.419316482152689,-5.381516481765086,-5.416757847405471,-4.491603757316568,-4.498142793218687,-6.060799036330432,-4.248035150785119,5.756502143052552,5.335908395109359,3.4796127082279202,-3.659806896276608,-2.128377838739635,-5.38109251751535,2.547102847873341,5.514370717465448,-3.1005204054093216,4.159556987508504,-4.502059851633179,3.8360659516498585,-5.596159699806467,-5.429013318509845,5.058519935280671,3.3477997087584193,4.278120273890097,3.648349243401486,5.975509412228565,4.531653740441768,3.5466356503432115,4.64052554085497,-5.90900761492685,6.117886733450842,4.748450298019977,-6.133133273676982,4.644855376000609,5.330946656984628,-1.7169799126597618,4.212061227425853,-3.607438726275637,-3.3188992001165687,3.925606211093331,-3.7821143669437096,4.286146069823288,4.431887357892312,4.428618392116757,2.424971436065259,-2.51333975135087,-3.59330375833863,-3.080383038054719,-0.7654836555949511,-5.251774118369824,5.80237828854235,-4.304880394953009,-2.1967655670912682,3.8656815169693814,2.7122504596806993,4.3483505668983575,2.2191048220573295,-5.019579296368879,4.370840764608209,3.661411120131477,-2.1847239181601603,4.520014888467349,2.9355065679384222,-4.508784527447412,-4.32826633951391,6.0858064040220965,-5.747870949293862,2.976636060992146,5.622220414467932,-3.5829295571970947,3.827067038018737,6.660965969545884,-3.486496363974641,3.053142103229256,-4.56650366992343,3.368317596748156,5.869598197544945,-1.313951324313634,-4.457647427850971,4.655530589628884,-1.8152400310510906,-5.829135289014779,-3.2455964142526197,4.131798923784366,-2.36507453782906,-2.4147051319354507,3.6458400731438214,4.381624514912321,5.7348846677409515,5.05725094652111,-4.57617529213412,-5.335677338523848,-4.618133765873303,-1.8207328219759935,3.8433008294818585,4.217805695126226,2.503040312925822,4.685382564344069,-5.156434170384624,4.57347752914473,3.6499978973344556,-1.6152558057986321,4.512069455808136,-2.5931978663260873,2.95611661863017,5.601515813667199,2.9303877373345495,4.665155874542282,-4.497118582841957,3.9764850152019697,2.8688813174149037,9.1086926238052,-1.7205199456265021,4.635520908387342,-2.005964129064743,-6.021414730522066,3.291296370887485,-4.958460607001596,5.412600678490776,-3.129079150798506,-3.089808683415577,-0.41331727250223116,-2.6973309481247267,-6.764917728275756,3.192012263251741,4.552499123807355,3.1495960262085236,4.951169899781516,-3.1340531276364554,6.033029065927622,-5.269056960216013,-5.077218665352957,-1.3755171393075258,2.8184693555359743,3.541957629196993,3.0141542262073546,5.121105581578329,-3.5881615688012674,4.066169338583107,4.695333415150343,-0.9564636608964303,-5.677675577328041,3.807525526697261,6.8044766415797255,-0.21746036045228756,6.045477987638505,4.5980100387581615,3.267102998951223,-1.9372951128846245,-6.868090654563764,-4.673996566613019,6.335566168340722,-6.187612286385284,-3.3936092090801044,-4.887273495183351,3.787208202160081,-7.343603190999962,-2.0930122508879005,-3.9801452706307625,-3.703813469444724,-5.403892269337939,3.184171956827631,-2.3488028246830694,4.447050560436778,-2.3822034502446683,-5.719253841426677,-2.951361054350651,2.9233890697149656,-2.8469405317942984,-2.220566243455128,4.21352444770112,-2.2504864502657034,3.0070050885454567,-4.619528029784999,-3.4100656426225537,5.665334277922227,1.4250776348372316,6.825994457134669,-3.2983487290498044,1.889500741489037,-2.16846035189311,-3.3597291915950116,2.326844378557216,-4.264720423934797,-5.276179492250738,-1.7202545988886007,4.860708117231374,-5.560234506237797,-3.9687757992872816,-3.4155129436043237,4.320564332230826,3.4345903196609244,3.5661264168345026,4.347068854861721,-4.727341292297463,3.6824327302459627],\"y\":[-1.9506155345408303,-5.236184030852601,-2.90528626681923,-2.44956176412034,-5.132328898436743,-4.933510990853855,-5.056266827226329,-4.783883993736318,-5.844213703829862,-4.408333479272321,-5.993760983118591,5.241439628841692,6.904375909180253,-2.9144085975292957,-3.157768362448919,-2.313478480013987,-5.375669423078993,-3.5144630635201635,5.829458430613394,-0.8851267629367416,4.687729330341356,-4.873495824693494,-2.689044051465752,-5.019130496521152,-4.303802020388569,5.376545911034041,4.324338210999169,6.9331569663490775,-3.1535414440345466,5.191573646607778,3.745279692887145,4.661982222643772,6.496951789522486,-4.448545955453576,4.7257579111364745,-3.74572655305435,-4.566907445343309,-2.6521176868008163,-1.559824007262271,-2.9070630468138123,-4.300716040785922,-2.6762861412530987,-2.8326392648474488,-1.8646362422625384,-5.46200534815338,-2.3058313043417717,-1.0316678672803508,5.292432067329935,-2.837972149364432,-3.2683232495933243,-6.737959504384568,-3.554915674349907,-3.1127515576665696,-6.546674611264416,-0.8789070223268944,-7.033466546122614,-3.329874844710405,4.292579112436213,-2.0752463277247086,-3.3831255611139026,-2.1901537226152485,-1.1088375725806185,-1.9071932032188754,6.1327460759333485,-0.6337917947369862,3.9803509005240705,-4.587807462288724,-2.3037371059183402,-2.3610442827394347,5.90217939544059,-4.990974749026675,5.267972576478631,5.960781944843228,-3.456625520064934,-3.9553594449782485,-2.3900489871792416,-3.094722498919069,-1.9788905690234362,-3.7216207697281316,-1.7924071339590608,3.9129094251575585,-4.403821142942931,-5.313508196993409,-2.7545304593445046,-4.207539050551093,-4.912289781591668,-2.4787391501905733,-2.082407269473736,-4.278600641324842,-3.164667277135175,-2.900106056477158,5.378794465706974,3.938634256069162,5.159088486650219,-4.200820004964985,-4.388659220426282,-4.433724558557544,-2.5176606799904495,6.234034681364575,-3.438998997738875,-2.763388077050488,4.406244417117393,-4.743429547998704,4.851852808822699,4.301829002417107,-2.116795536539935,4.826928834774526,-2.3643685839439286,-2.3156982606016414,5.00365949071447,5.610144086406658,4.71648048363669,-6.245288086607232,4.5518251766556315,-1.7109403514176864,5.821120877311912,-1.4734020494349551,4.124020522334606,-0.9537223541323563,-4.5676042990203936,-2.362382008695039,-6.117925445113517,-2.545263203132064,-0.6879144728714677,-3.3625310861266464,-2.8446236706818766,-1.4231703504698137,-5.114421297030121,-1.7192456439773234,3.7445727816541416,5.33048806399892,-3.5649278800787134,-2.6544099623581143,4.670997565299293,-2.7686332111133956,-4.175296994563018,-3.9978398055076187,-2.319933315064787,-0.8580853625280531,5.365053516440841,4.153171248058107,-3.2578555532194673,4.8250031562652405,4.840275869878614,-3.8102705289478154,-6.439439026738619,-3.8696386726262686,5.1804098069115465,-2.9957788482144947,6.369016024400969,-3.517878050321956,-1.389354719685875,-3.082070757454222,-3.268815334019532,-7.040323048728715,5.302629336178099,-6.421217227304127,-1.7480976448296666,-4.629555463336766,-1.3104718630956669,-3.838478509259227,-3.3443082406155313,-6.482465477822671,-3.7474724316113397,-6.384518666535865,-3.625903780697406,-1.7349305190375308,5.299526813180158,-3.036685308837512,-5.583414594579008,-1.9811638730885268,-2.0839782509322373,-2.0885564836616286,-4.322231268440837,0.029734874213447338,-2.24369160842277,-3.5865481528840086,-5.2171352687448795,-1.3235458073168038,4.150004497284934,-3.3344373905441147,3.285932588903967,-2.494342202868581,-2.0000602360299524,-2.6495913526478985,-6.793435585194863,-1.9373309218706423,-5.6532502677920355,-5.516883893732587,-4.029138679959726,5.032565469312491,-5.902246068070502,-1.3529000575880588,-7.659449456383488,-2.989157001260625,-1.7338840964649047,-1.9644416494164303,4.3879052498321895,-2.2933101026185,2.974406408165413],\"z\":[5.383781034869402,4.362344987515699,2.6222420685039047,3.5268267522001144,4.960429760306394,3.9012610530039433,2.863803904331546,3.1413876138765024,5.000009761471596,4.816743426220419,6.109143281361648,-4.502574351075263,-4.91463556657735,4.067313412352021,2.748551593685672,3.84157077581156,4.925529237106019,2.8847360369623782,-4.36937803272288,4.394953220379653,-2.855321910888963,3.5811894488514655,3.550671399283676,6.175001219500291,5.6974162722769295,-5.135479764303182,-6.067067123783323,-6.070796325637174,5.408833983962475,-5.662209011794249,-4.8751763536141555,-4.640866668206195,-6.53111110759244,7.292208012814958,-3.258187811527766,3.83283122564962,4.695913561198685,4.829789045885108,5.018717046893108,3.4751083328798025,4.747598941779268,3.0172443334671284,3.413612044523042,6.102229267452569,5.350888494087746,4.586204097720766,3.778679057268708,-6.194999894924884,4.343212732196548,4.291234010000645,6.040823953390729,2.8172427956851784,2.6065579829989245,2.9173480642550507,4.712683273479498,4.810530735287619,5.288769406861876,-6.221429165095769,4.819885116534383,5.545386826471849,5.548290693962678,2.670653557495479,2.900702690871576,-4.62969515725276,3.8175023767243212,-5.007601138413295,3.784949868324952,3.1241036299850484,4.119450164665053,-4.609703550189238,4.121892106759658,-5.002206445409661,-4.241629652833231,3.8166232649434684,3.628480875644192,2.0864767817029146,3.685188157288686,3.2918056198169987,4.365320694820638,4.1140538779273585,-4.33577858660437,2.8018596216829224,5.7710117380694115,4.518924924162383,3.013430335071158,6.000365886550695,4.910917514864743,5.615176268511638,3.4992085104845456,5.44068987241511,4.815206041437376,-4.486748555690667,-5.108516823918984,-7.374402684066254,6.26261366332482,5.0479705918681885,5.204207978914112,4.236040922914249,-3.9718151008438562,4.62877580719965,3.322639508256926,-3.8504994322820174,4.011220951230378,-3.498563084743422,-4.760048801727113,3.5830058511246765,-5.395346401166808,3.1172911784258175,3.6693241565124226,-5.228247558194035,-4.576503099557128,-4.461575737209381,3.942047781137661,-7.505458132074395,2.3783261970186693,-3.468239683683044,3.1513339988993376,-4.603479841313291,4.246857508466808,4.676419929923476,3.8966478316993247,5.539058320580789,4.576909717806182,1.943734259262961,2.257127095757482,1.9979207668532442,4.437410231860793,4.501825806078242,2.9441603614341867,-4.061836328725856,-5.315693210302774,2.599154545188439,2.250711196187719,-6.1510029441411485,2.565232423478956,6.248212920597034,5.902017223300536,3.9330689560034826,4.311697706662221,-4.225917966595301,-4.939537550997088,3.3562550998431866,-6.43714343223078,-4.451053440177381,4.363433971879587,5.524296430010349,6.670337244799694,-4.446835725842188,3.8360371676604053,-4.274646740642941,2.4706086445037823,3.6266611870635326,3.925997025125914,6.467678010573413,5.046255523141697,-5.454227854716111,4.846504804323051,5.896932243552257,6.359633862672596,4.02120154785712,5.386078047603594,3.440179887072116,5.846311891842079,3.9224537503714467,6.3672354239271245,4.4884966659384204,2.0833694809908785,-4.447336304395801,6.487184575331648,4.674950371618214,4.3644480051463255,3.9421527373581,6.326390901121183,4.4270174575554755,4.837615793966021,4.767625082505129,3.769082502718902,6.173531498494953,4.299210669622671,-5.8523417966884175,3.3422815528924654,-5.076639563997369,3.679065292167612,3.1654847926145218,3.757559399868296,4.158252634343796,3.8354849427065445,5.84245628157134,4.301410050063612,6.792592852398284,-6.640560224804842,4.409027724530555,4.095556984511874,4.9085473771093415,5.424967034052006,3.9383649153779503,3.3968592078420086,-5.351262461092773,3.9291236440417685,-5.08224537503313],\"type\":\"scatter3d\"}],                        {\"template\":{\"data\":{\"histogram2dcontour\":[{\"type\":\"histogram2dcontour\",\"colorbar\":{\"outlinewidth\":0,\"ticks\":\"\"},\"colorscale\":[[0.0,\"#0d0887\"],[0.1111111111111111,\"#46039f\"],[0.2222222222222222,\"#7201a8\"],[0.3333333333333333,\"#9c179e\"],[0.4444444444444444,\"#bd3786\"],[0.5555555555555556,\"#d8576b\"],[0.6666666666666666,\"#ed7953\"],[0.7777777777777778,\"#fb9f3a\"],[0.8888888888888888,\"#fdca26\"],[1.0,\"#f0f921\"]]}],\"choropleth\":[{\"type\":\"choropleth\",\"colorbar\":{\"outlinewidth\":0,\"ticks\":\"\"}}],\"histogram2d\":[{\"type\":\"histogram2d\",\"colorbar\":{\"outlinewidth\":0,\"ticks\":\"\"},\"colorscale\":[[0.0,\"#0d0887\"],[0.1111111111111111,\"#46039f\"],[0.2222222222222222,\"#7201a8\"],[0.3333333333333333,\"#9c179e\"],[0.4444444444444444,\"#bd3786\"],[0.5555555555555556,\"#d8576b\"],[0.6666666666666666,\"#ed7953\"],[0.7777777777777778,\"#fb9f3a\"],[0.8888888888888888,\"#fdca26\"],[1.0,\"#f0f921\"]]}],\"heatmap\":[{\"type\":\"heatmap\",\"colorbar\":{\"outlinewidth\":0,\"ticks\":\"\"},\"colorscale\":[[0.0,\"#0d0887\"],[0.1111111111111111,\"#46039f\"],[0.2222222222222222,\"#7201a8\"],[0.3333333333333333,\"#9c179e\"],[0.4444444444444444,\"#bd3786\"],[0.5555555555555556,\"#d8576b\"],[0.6666666666666666,\"#ed7953\"],[0.7777777777777778,\"#fb9f3a\"],[0.8888888888888888,\"#fdca26\"],[1.0,\"#f0f921\"]]}],\"heatmapgl\":[{\"type\":\"heatmapgl\",\"colorbar\":{\"outlinewidth\":0,\"ticks\":\"\"},\"colorscale\":[[0.0,\"#0d0887\"],[0.1111111111111111,\"#46039f\"],[0.2222222222222222,\"#7201a8\"],[0.3333333333333333,\"#9c179e\"],[0.4444444444444444,\"#bd3786\"],[0.5555555555555556,\"#d8576b\"],[0.6666666666666666,\"#ed7953\"],[0.7777777777777778,\"#fb9f3a\"],[0.8888888888888888,\"#fdca26\"],[1.0,\"#f0f921\"]]}],\"contourcarpet\":[{\"type\":\"contourcarpet\",\"colorbar\":{\"outlinewidth\":0,\"ticks\":\"\"}}],\"contour\":[{\"type\":\"contour\",\"colorbar\":{\"outlinewidth\":0,\"ticks\":\"\"},\"colorscale\":[[0.0,\"#0d0887\"],[0.1111111111111111,\"#46039f\"],[0.2222222222222222,\"#7201a8\"],[0.3333333333333333,\"#9c179e\"],[0.4444444444444444,\"#bd3786\"],[0.5555555555555556,\"#d8576b\"],[0.6666666666666666,\"#ed7953\"],[0.7777777777777778,\"#fb9f3a\"],[0.8888888888888888,\"#fdca26\"],[1.0,\"#f0f921\"]]}],\"surface\":[{\"type\":\"surface\",\"colorbar\":{\"outlinewidth\":0,\"ticks\":\"\"},\"colorscale\":[[0.0,\"#0d0887\"],[0.1111111111111111,\"#46039f\"],[0.2222222222222222,\"#7201a8\"],[0.3333333333333333,\"#9c179e\"],[0.4444444444444444,\"#bd3786\"],[0.5555555555555556,\"#d8576b\"],[0.6666666666666666,\"#ed7953\"],[0.7777777777777778,\"#fb9f3a\"],[0.8888888888888888,\"#fdca26\"],[1.0,\"#f0f921\"]]}],\"mesh3d\":[{\"type\":\"mesh3d\",\"colorbar\":{\"outlinewidth\":0,\"ticks\":\"\"}}],\"scatter\":[{\"fillpattern\":{\"fillmode\":\"overlay\",\"size\":10,\"solidity\":0.2},\"type\":\"scatter\"}],\"parcoords\":[{\"type\":\"parcoords\",\"line\":{\"colorbar\":{\"outlinewidth\":0,\"ticks\":\"\"}}}],\"scatterpolargl\":[{\"type\":\"scatterpolargl\",\"marker\":{\"colorbar\":{\"outlinewidth\":0,\"ticks\":\"\"}}}],\"bar\":[{\"error_x\":{\"color\":\"#2a3f5f\"},\"error_y\":{\"color\":\"#2a3f5f\"},\"marker\":{\"line\":{\"color\":\"#E5ECF6\",\"width\":0.5},\"pattern\":{\"fillmode\":\"overlay\",\"size\":10,\"solidity\":0.2}},\"type\":\"bar\"}],\"scattergeo\":[{\"type\":\"scattergeo\",\"marker\":{\"colorbar\":{\"outlinewidth\":0,\"ticks\":\"\"}}}],\"scatterpolar\":[{\"type\":\"scatterpolar\",\"marker\":{\"colorbar\":{\"outlinewidth\":0,\"ticks\":\"\"}}}],\"histogram\":[{\"marker\":{\"pattern\":{\"fillmode\":\"overlay\",\"size\":10,\"solidity\":0.2}},\"type\":\"histogram\"}],\"scattergl\":[{\"type\":\"scattergl\",\"marker\":{\"colorbar\":{\"outlinewidth\":0,\"ticks\":\"\"}}}],\"scatter3d\":[{\"type\":\"scatter3d\",\"line\":{\"colorbar\":{\"outlinewidth\":0,\"ticks\":\"\"}},\"marker\":{\"colorbar\":{\"outlinewidth\":0,\"ticks\":\"\"}}}],\"scattermapbox\":[{\"type\":\"scattermapbox\",\"marker\":{\"colorbar\":{\"outlinewidth\":0,\"ticks\":\"\"}}}],\"scatterternary\":[{\"type\":\"scatterternary\",\"marker\":{\"colorbar\":{\"outlinewidth\":0,\"ticks\":\"\"}}}],\"scattercarpet\":[{\"type\":\"scattercarpet\",\"marker\":{\"colorbar\":{\"outlinewidth\":0,\"ticks\":\"\"}}}],\"carpet\":[{\"aaxis\":{\"endlinecolor\":\"#2a3f5f\",\"gridcolor\":\"white\",\"linecolor\":\"white\",\"minorgridcolor\":\"white\",\"startlinecolor\":\"#2a3f5f\"},\"baxis\":{\"endlinecolor\":\"#2a3f5f\",\"gridcolor\":\"white\",\"linecolor\":\"white\",\"minorgridcolor\":\"white\",\"startlinecolor\":\"#2a3f5f\"},\"type\":\"carpet\"}],\"table\":[{\"cells\":{\"fill\":{\"color\":\"#EBF0F8\"},\"line\":{\"color\":\"white\"}},\"header\":{\"fill\":{\"color\":\"#C8D4E3\"},\"line\":{\"color\":\"white\"}},\"type\":\"table\"}],\"barpolar\":[{\"marker\":{\"line\":{\"color\":\"#E5ECF6\",\"width\":0.5},\"pattern\":{\"fillmode\":\"overlay\",\"size\":10,\"solidity\":0.2}},\"type\":\"barpolar\"}],\"pie\":[{\"automargin\":true,\"type\":\"pie\"}]},\"layout\":{\"autotypenumbers\":\"strict\",\"colorway\":[\"#636efa\",\"#EF553B\",\"#00cc96\",\"#ab63fa\",\"#FFA15A\",\"#19d3f3\",\"#FF6692\",\"#B6E880\",\"#FF97FF\",\"#FECB52\"],\"font\":{\"color\":\"#2a3f5f\"},\"hovermode\":\"closest\",\"hoverlabel\":{\"align\":\"left\"},\"paper_bgcolor\":\"white\",\"plot_bgcolor\":\"#E5ECF6\",\"polar\":{\"bgcolor\":\"#E5ECF6\",\"angularaxis\":{\"gridcolor\":\"white\",\"linecolor\":\"white\",\"ticks\":\"\"},\"radialaxis\":{\"gridcolor\":\"white\",\"linecolor\":\"white\",\"ticks\":\"\"}},\"ternary\":{\"bgcolor\":\"#E5ECF6\",\"aaxis\":{\"gridcolor\":\"white\",\"linecolor\":\"white\",\"ticks\":\"\"},\"baxis\":{\"gridcolor\":\"white\",\"linecolor\":\"white\",\"ticks\":\"\"},\"caxis\":{\"gridcolor\":\"white\",\"linecolor\":\"white\",\"ticks\":\"\"}},\"coloraxis\":{\"colorbar\":{\"outlinewidth\":0,\"ticks\":\"\"}},\"colorscale\":{\"sequential\":[[0.0,\"#0d0887\"],[0.1111111111111111,\"#46039f\"],[0.2222222222222222,\"#7201a8\"],[0.3333333333333333,\"#9c179e\"],[0.4444444444444444,\"#bd3786\"],[0.5555555555555556,\"#d8576b\"],[0.6666666666666666,\"#ed7953\"],[0.7777777777777778,\"#fb9f3a\"],[0.8888888888888888,\"#fdca26\"],[1.0,\"#f0f921\"]],\"sequentialminus\":[[0.0,\"#0d0887\"],[0.1111111111111111,\"#46039f\"],[0.2222222222222222,\"#7201a8\"],[0.3333333333333333,\"#9c179e\"],[0.4444444444444444,\"#bd3786\"],[0.5555555555555556,\"#d8576b\"],[0.6666666666666666,\"#ed7953\"],[0.7777777777777778,\"#fb9f3a\"],[0.8888888888888888,\"#fdca26\"],[1.0,\"#f0f921\"]],\"diverging\":[[0,\"#8e0152\"],[0.1,\"#c51b7d\"],[0.2,\"#de77ae\"],[0.3,\"#f1b6da\"],[0.4,\"#fde0ef\"],[0.5,\"#f7f7f7\"],[0.6,\"#e6f5d0\"],[0.7,\"#b8e186\"],[0.8,\"#7fbc41\"],[0.9,\"#4d9221\"],[1,\"#276419\"]]},\"xaxis\":{\"gridcolor\":\"white\",\"linecolor\":\"white\",\"ticks\":\"\",\"title\":{\"standoff\":15},\"zerolinecolor\":\"white\",\"automargin\":true,\"zerolinewidth\":2},\"yaxis\":{\"gridcolor\":\"white\",\"linecolor\":\"white\",\"ticks\":\"\",\"title\":{\"standoff\":15},\"zerolinecolor\":\"white\",\"automargin\":true,\"zerolinewidth\":2},\"scene\":{\"xaxis\":{\"backgroundcolor\":\"#E5ECF6\",\"gridcolor\":\"white\",\"linecolor\":\"white\",\"showbackground\":true,\"ticks\":\"\",\"zerolinecolor\":\"white\",\"gridwidth\":2},\"yaxis\":{\"backgroundcolor\":\"#E5ECF6\",\"gridcolor\":\"white\",\"linecolor\":\"white\",\"showbackground\":true,\"ticks\":\"\",\"zerolinecolor\":\"white\",\"gridwidth\":2},\"zaxis\":{\"backgroundcolor\":\"#E5ECF6\",\"gridcolor\":\"white\",\"linecolor\":\"white\",\"showbackground\":true,\"ticks\":\"\",\"zerolinecolor\":\"white\",\"gridwidth\":2}},\"shapedefaults\":{\"line\":{\"color\":\"#2a3f5f\"}},\"annotationdefaults\":{\"arrowcolor\":\"#2a3f5f\",\"arrowhead\":0,\"arrowwidth\":1},\"geo\":{\"bgcolor\":\"white\",\"landcolor\":\"#E5ECF6\",\"subunitcolor\":\"white\",\"showland\":true,\"showlakes\":true,\"lakecolor\":\"white\"},\"title\":{\"x\":0.05},\"mapbox\":{\"style\":\"light\"}}},\"scene\":{\"domain\":{\"x\":[0.0,1.0],\"y\":[0.0,1.0]},\"xaxis\":{\"title\":{\"text\":\"x\"}},\"yaxis\":{\"title\":{\"text\":\"y\"}},\"zaxis\":{\"title\":{\"text\":\"z\"}}},\"legend\":{\"tracegroupgap\":0},\"margin\":{\"t\":60}},                        {\"responsive\": true}                    ).then(function(){\n",
       "                            \n",
       "var gd = document.getElementById('5c09b703-138b-4d96-8737-f5699f810e3b');\n",
       "var x = new MutationObserver(function (mutations, observer) {{\n",
       "        var display = window.getComputedStyle(gd).display;\n",
       "        if (!display || display === 'none') {{\n",
       "            console.log([gd, 'removed!']);\n",
       "            Plotly.purge(gd);\n",
       "            observer.disconnect();\n",
       "        }}\n",
       "}});\n",
       "\n",
       "// Listen for the removal of the full notebook cells\n",
       "var notebookContainer = gd.closest('#notebook-container');\n",
       "if (notebookContainer) {{\n",
       "    x.observe(notebookContainer, {childList: true});\n",
       "}}\n",
       "\n",
       "// Listen for the clearing of the current output cell\n",
       "var outputEl = gd.closest('.output');\n",
       "if (outputEl) {{\n",
       "    x.observe(outputEl, {childList: true});\n",
       "}}\n",
       "\n",
       "                        })                };                });            </script>        </div>"
      ]
     },
     "metadata": {},
     "output_type": "display_data"
    }
   ],
   "source": [
    "import plotly.express as px\n",
    "fig=px.scatter_3d(x=x[:,0],y=x[:,1],z=x[:,2])\n",
    "fig.show()"
   ]
  },
  {
   "cell_type": "code",
   "execution_count": 62,
   "id": "a921212e",
   "metadata": {},
   "outputs": [
    {
     "name": "stderr",
     "output_type": "stream",
     "text": [
      "C:\\Users\\punith yc\\anaconda3\\Lib\\site-packages\\sklearn\\cluster\\_kmeans.py:1412: FutureWarning:\n",
      "\n",
      "The default value of `n_init` will change from 10 to 'auto' in 1.4. Set the value of `n_init` explicitly to suppress the warning\n",
      "\n",
      "C:\\Users\\punith yc\\anaconda3\\Lib\\site-packages\\sklearn\\cluster\\_kmeans.py:1436: UserWarning:\n",
      "\n",
      "KMeans is known to have a memory leak on Windows with MKL, when there are less chunks than available threads. You can avoid it by setting the environment variable OMP_NUM_THREADS=1.\n",
      "\n",
      "C:\\Users\\punith yc\\anaconda3\\Lib\\site-packages\\sklearn\\cluster\\_kmeans.py:1412: FutureWarning:\n",
      "\n",
      "The default value of `n_init` will change from 10 to 'auto' in 1.4. Set the value of `n_init` explicitly to suppress the warning\n",
      "\n",
      "C:\\Users\\punith yc\\anaconda3\\Lib\\site-packages\\sklearn\\cluster\\_kmeans.py:1436: UserWarning:\n",
      "\n",
      "KMeans is known to have a memory leak on Windows with MKL, when there are less chunks than available threads. You can avoid it by setting the environment variable OMP_NUM_THREADS=1.\n",
      "\n",
      "C:\\Users\\punith yc\\anaconda3\\Lib\\site-packages\\sklearn\\cluster\\_kmeans.py:1412: FutureWarning:\n",
      "\n",
      "The default value of `n_init` will change from 10 to 'auto' in 1.4. Set the value of `n_init` explicitly to suppress the warning\n",
      "\n",
      "C:\\Users\\punith yc\\anaconda3\\Lib\\site-packages\\sklearn\\cluster\\_kmeans.py:1436: UserWarning:\n",
      "\n",
      "KMeans is known to have a memory leak on Windows with MKL, when there are less chunks than available threads. You can avoid it by setting the environment variable OMP_NUM_THREADS=1.\n",
      "\n",
      "C:\\Users\\punith yc\\anaconda3\\Lib\\site-packages\\sklearn\\cluster\\_kmeans.py:1412: FutureWarning:\n",
      "\n",
      "The default value of `n_init` will change from 10 to 'auto' in 1.4. Set the value of `n_init` explicitly to suppress the warning\n",
      "\n",
      "C:\\Users\\punith yc\\anaconda3\\Lib\\site-packages\\sklearn\\cluster\\_kmeans.py:1436: UserWarning:\n",
      "\n",
      "KMeans is known to have a memory leak on Windows with MKL, when there are less chunks than available threads. You can avoid it by setting the environment variable OMP_NUM_THREADS=1.\n",
      "\n",
      "C:\\Users\\punith yc\\anaconda3\\Lib\\site-packages\\sklearn\\cluster\\_kmeans.py:1412: FutureWarning:\n",
      "\n",
      "The default value of `n_init` will change from 10 to 'auto' in 1.4. Set the value of `n_init` explicitly to suppress the warning\n",
      "\n",
      "C:\\Users\\punith yc\\anaconda3\\Lib\\site-packages\\sklearn\\cluster\\_kmeans.py:1436: UserWarning:\n",
      "\n",
      "KMeans is known to have a memory leak on Windows with MKL, when there are less chunks than available threads. You can avoid it by setting the environment variable OMP_NUM_THREADS=1.\n",
      "\n",
      "C:\\Users\\punith yc\\anaconda3\\Lib\\site-packages\\sklearn\\cluster\\_kmeans.py:1412: FutureWarning:\n",
      "\n",
      "The default value of `n_init` will change from 10 to 'auto' in 1.4. Set the value of `n_init` explicitly to suppress the warning\n",
      "\n",
      "C:\\Users\\punith yc\\anaconda3\\Lib\\site-packages\\sklearn\\cluster\\_kmeans.py:1436: UserWarning:\n",
      "\n",
      "KMeans is known to have a memory leak on Windows with MKL, when there are less chunks than available threads. You can avoid it by setting the environment variable OMP_NUM_THREADS=1.\n",
      "\n",
      "C:\\Users\\punith yc\\anaconda3\\Lib\\site-packages\\sklearn\\cluster\\_kmeans.py:1412: FutureWarning:\n",
      "\n",
      "The default value of `n_init` will change from 10 to 'auto' in 1.4. Set the value of `n_init` explicitly to suppress the warning\n",
      "\n",
      "C:\\Users\\punith yc\\anaconda3\\Lib\\site-packages\\sklearn\\cluster\\_kmeans.py:1436: UserWarning:\n",
      "\n",
      "KMeans is known to have a memory leak on Windows with MKL, when there are less chunks than available threads. You can avoid it by setting the environment variable OMP_NUM_THREADS=1.\n",
      "\n",
      "C:\\Users\\punith yc\\anaconda3\\Lib\\site-packages\\sklearn\\cluster\\_kmeans.py:1412: FutureWarning:\n",
      "\n",
      "The default value of `n_init` will change from 10 to 'auto' in 1.4. Set the value of `n_init` explicitly to suppress the warning\n",
      "\n",
      "C:\\Users\\punith yc\\anaconda3\\Lib\\site-packages\\sklearn\\cluster\\_kmeans.py:1436: UserWarning:\n",
      "\n",
      "KMeans is known to have a memory leak on Windows with MKL, when there are less chunks than available threads. You can avoid it by setting the environment variable OMP_NUM_THREADS=1.\n",
      "\n",
      "C:\\Users\\punith yc\\anaconda3\\Lib\\site-packages\\sklearn\\cluster\\_kmeans.py:1412: FutureWarning:\n",
      "\n",
      "The default value of `n_init` will change from 10 to 'auto' in 1.4. Set the value of `n_init` explicitly to suppress the warning\n",
      "\n",
      "C:\\Users\\punith yc\\anaconda3\\Lib\\site-packages\\sklearn\\cluster\\_kmeans.py:1436: UserWarning:\n",
      "\n",
      "KMeans is known to have a memory leak on Windows with MKL, when there are less chunks than available threads. You can avoid it by setting the environment variable OMP_NUM_THREADS=1.\n",
      "\n",
      "C:\\Users\\punith yc\\anaconda3\\Lib\\site-packages\\sklearn\\cluster\\_kmeans.py:1412: FutureWarning:\n",
      "\n",
      "The default value of `n_init` will change from 10 to 'auto' in 1.4. Set the value of `n_init` explicitly to suppress the warning\n",
      "\n",
      "C:\\Users\\punith yc\\anaconda3\\Lib\\site-packages\\sklearn\\cluster\\_kmeans.py:1436: UserWarning:\n",
      "\n",
      "KMeans is known to have a memory leak on Windows with MKL, when there are less chunks than available threads. You can avoid it by setting the environment variable OMP_NUM_THREADS=1.\n",
      "\n",
      "C:\\Users\\punith yc\\anaconda3\\Lib\\site-packages\\sklearn\\cluster\\_kmeans.py:1412: FutureWarning:\n",
      "\n",
      "The default value of `n_init` will change from 10 to 'auto' in 1.4. Set the value of `n_init` explicitly to suppress the warning\n",
      "\n",
      "C:\\Users\\punith yc\\anaconda3\\Lib\\site-packages\\sklearn\\cluster\\_kmeans.py:1436: UserWarning:\n",
      "\n",
      "KMeans is known to have a memory leak on Windows with MKL, when there are less chunks than available threads. You can avoid it by setting the environment variable OMP_NUM_THREADS=1.\n",
      "\n",
      "C:\\Users\\punith yc\\anaconda3\\Lib\\site-packages\\sklearn\\cluster\\_kmeans.py:1412: FutureWarning:\n",
      "\n",
      "The default value of `n_init` will change from 10 to 'auto' in 1.4. Set the value of `n_init` explicitly to suppress the warning\n",
      "\n",
      "C:\\Users\\punith yc\\anaconda3\\Lib\\site-packages\\sklearn\\cluster\\_kmeans.py:1436: UserWarning:\n",
      "\n",
      "KMeans is known to have a memory leak on Windows with MKL, when there are less chunks than available threads. You can avoid it by setting the environment variable OMP_NUM_THREADS=1.\n",
      "\n",
      "C:\\Users\\punith yc\\anaconda3\\Lib\\site-packages\\sklearn\\cluster\\_kmeans.py:1412: FutureWarning:\n",
      "\n",
      "The default value of `n_init` will change from 10 to 'auto' in 1.4. Set the value of `n_init` explicitly to suppress the warning\n",
      "\n",
      "C:\\Users\\punith yc\\anaconda3\\Lib\\site-packages\\sklearn\\cluster\\_kmeans.py:1436: UserWarning:\n",
      "\n",
      "KMeans is known to have a memory leak on Windows with MKL, when there are less chunks than available threads. You can avoid it by setting the environment variable OMP_NUM_THREADS=1.\n",
      "\n",
      "C:\\Users\\punith yc\\anaconda3\\Lib\\site-packages\\sklearn\\cluster\\_kmeans.py:1412: FutureWarning:\n",
      "\n",
      "The default value of `n_init` will change from 10 to 'auto' in 1.4. Set the value of `n_init` explicitly to suppress the warning\n",
      "\n",
      "C:\\Users\\punith yc\\anaconda3\\Lib\\site-packages\\sklearn\\cluster\\_kmeans.py:1436: UserWarning:\n",
      "\n",
      "KMeans is known to have a memory leak on Windows with MKL, when there are less chunks than available threads. You can avoid it by setting the environment variable OMP_NUM_THREADS=1.\n",
      "\n",
      "C:\\Users\\punith yc\\anaconda3\\Lib\\site-packages\\sklearn\\cluster\\_kmeans.py:1412: FutureWarning:\n",
      "\n",
      "The default value of `n_init` will change from 10 to 'auto' in 1.4. Set the value of `n_init` explicitly to suppress the warning\n",
      "\n",
      "C:\\Users\\punith yc\\anaconda3\\Lib\\site-packages\\sklearn\\cluster\\_kmeans.py:1436: UserWarning:\n",
      "\n",
      "KMeans is known to have a memory leak on Windows with MKL, when there are less chunks than available threads. You can avoid it by setting the environment variable OMP_NUM_THREADS=1.\n",
      "\n",
      "C:\\Users\\punith yc\\anaconda3\\Lib\\site-packages\\sklearn\\cluster\\_kmeans.py:1412: FutureWarning:\n",
      "\n",
      "The default value of `n_init` will change from 10 to 'auto' in 1.4. Set the value of `n_init` explicitly to suppress the warning\n",
      "\n",
      "C:\\Users\\punith yc\\anaconda3\\Lib\\site-packages\\sklearn\\cluster\\_kmeans.py:1436: UserWarning:\n",
      "\n",
      "KMeans is known to have a memory leak on Windows with MKL, when there are less chunks than available threads. You can avoid it by setting the environment variable OMP_NUM_THREADS=1.\n",
      "\n",
      "C:\\Users\\punith yc\\anaconda3\\Lib\\site-packages\\sklearn\\cluster\\_kmeans.py:1412: FutureWarning:\n",
      "\n",
      "The default value of `n_init` will change from 10 to 'auto' in 1.4. Set the value of `n_init` explicitly to suppress the warning\n",
      "\n",
      "C:\\Users\\punith yc\\anaconda3\\Lib\\site-packages\\sklearn\\cluster\\_kmeans.py:1436: UserWarning:\n",
      "\n",
      "KMeans is known to have a memory leak on Windows with MKL, when there are less chunks than available threads. You can avoid it by setting the environment variable OMP_NUM_THREADS=1.\n",
      "\n",
      "C:\\Users\\punith yc\\anaconda3\\Lib\\site-packages\\sklearn\\cluster\\_kmeans.py:1412: FutureWarning:\n",
      "\n",
      "The default value of `n_init` will change from 10 to 'auto' in 1.4. Set the value of `n_init` explicitly to suppress the warning\n",
      "\n",
      "C:\\Users\\punith yc\\anaconda3\\Lib\\site-packages\\sklearn\\cluster\\_kmeans.py:1436: UserWarning:\n",
      "\n",
      "KMeans is known to have a memory leak on Windows with MKL, when there are less chunks than available threads. You can avoid it by setting the environment variable OMP_NUM_THREADS=1.\n",
      "\n",
      "C:\\Users\\punith yc\\anaconda3\\Lib\\site-packages\\sklearn\\cluster\\_kmeans.py:1412: FutureWarning:\n",
      "\n",
      "The default value of `n_init` will change from 10 to 'auto' in 1.4. Set the value of `n_init` explicitly to suppress the warning\n",
      "\n",
      "C:\\Users\\punith yc\\anaconda3\\Lib\\site-packages\\sklearn\\cluster\\_kmeans.py:1436: UserWarning:\n",
      "\n",
      "KMeans is known to have a memory leak on Windows with MKL, when there are less chunks than available threads. You can avoid it by setting the environment variable OMP_NUM_THREADS=1.\n",
      "\n",
      "C:\\Users\\punith yc\\anaconda3\\Lib\\site-packages\\sklearn\\cluster\\_kmeans.py:1412: FutureWarning:\n",
      "\n",
      "The default value of `n_init` will change from 10 to 'auto' in 1.4. Set the value of `n_init` explicitly to suppress the warning\n",
      "\n",
      "C:\\Users\\punith yc\\anaconda3\\Lib\\site-packages\\sklearn\\cluster\\_kmeans.py:1436: UserWarning:\n",
      "\n",
      "KMeans is known to have a memory leak on Windows with MKL, when there are less chunks than available threads. You can avoid it by setting the environment variable OMP_NUM_THREADS=1.\n",
      "\n"
     ]
    }
   ],
   "source": [
    "wcss=[]\n",
    "for i in range(1,21):\n",
    "    km=KMeans(n_clusters=i)\n",
    "    km.fit_predict(data)\n",
    "    wcss.append(km.inertia_)"
   ]
  },
  {
   "cell_type": "code",
   "execution_count": 63,
   "id": "f1f0e438",
   "metadata": {},
   "outputs": [
    {
     "data": {
      "text/plain": [
       "[<matplotlib.lines.Line2D at 0x26b37717c90>]"
      ]
     },
     "execution_count": 63,
     "metadata": {},
     "output_type": "execute_result"
    },
    {
     "data": {
      "image/png": "[encoded data removed]",
      "text/plain": [
       "<Figure size 640x480 with 1 Axes>"
      ]
     },
     "metadata": {},
     "output_type": "display_data"
    }
   ],
   "source": [
    "plt.plot(range(1,21),wcss)"
   ]
  },
  {
   "cell_type": "code",
   "execution_count": 64,
   "id": "12c8146f",
   "metadata": {},
   "outputs": [
    {
     "name": "stderr",
     "output_type": "stream",
     "text": [
      "C:\\Users\\punith yc\\anaconda3\\Lib\\site-packages\\sklearn\\cluster\\_kmeans.py:1412: FutureWarning:\n",
      "\n",
      "The default value of `n_init` will change from 10 to 'auto' in 1.4. Set the value of `n_init` explicitly to suppress the warning\n",
      "\n",
      "C:\\Users\\punith yc\\anaconda3\\Lib\\site-packages\\sklearn\\cluster\\_kmeans.py:1436: UserWarning:\n",
      "\n",
      "KMeans is known to have a memory leak on Windows with MKL, when there are less chunks than available threads. You can avoid it by setting the environment variable OMP_NUM_THREADS=1.\n",
      "\n"
     ]
    }
   ],
   "source": [
    "km=KMeans(n_clusters=4)\n",
    "y=km.fit_predict(x)\n"
   ]
  },
  {
   "cell_type": "code",
   "execution_count": 65,
   "id": "ac7d0835",
   "metadata": {},
   "outputs": [
    {
     "data": {
      "text/plain": [
       "array([0, 2, 3, 3, 2, 2, 2, 2, 2, 2, 2, 1, 1, 0, 3, 3, 2, 0, 1, 3, 1, 2,\n",
       "       0, 2, 2, 1, 1, 1, 0, 1, 1, 1, 1, 2, 1, 0, 2, 0, 0, 3, 0, 3, 3, 0,\n",
       "       2, 0, 0, 1, 0, 3, 2, 3, 3, 2, 0, 2, 3, 1, 0, 0, 0, 3, 0, 1, 3, 1,\n",
       "       0, 3, 3, 1, 2, 1, 1, 3, 0, 0, 3, 0, 2, 0, 1, 3, 2, 0, 3, 2, 3, 0,\n",
       "       3, 3, 0, 1, 1, 1, 2, 2, 2, 3, 1, 0, 0, 1, 2, 1, 1, 3, 1, 3, 0, 1,\n",
       "       1, 1, 2, 1, 0, 1, 3, 1, 3, 2, 0, 2, 0, 3, 3, 3, 3, 2, 0, 1, 1, 0,\n",
       "       3, 1, 3, 2, 3, 0, 0, 1, 1, 3, 1, 1, 3, 2, 0, 1, 3, 1, 0, 0, 3, 2,\n",
       "       2, 1, 2, 3, 2, 0, 2, 3, 2, 3, 2, 0, 3, 1, 3, 2, 3, 0, 3, 3, 0, 3,\n",
       "       0, 2, 3, 1, 0, 1, 3, 0, 3, 2, 0, 2, 2, 3, 1, 2, 3, 2, 0, 0, 0, 1,\n",
       "       3, 1])"
      ]
     },
     "execution_count": 65,
     "metadata": {},
     "output_type": "execute_result"
    }
   ],
   "source": [
    "y"
   ]
  },
  {
   "cell_type": "code",
   "execution_count": 67,
   "id": "e249bc26",
   "metadata": {},
   "outputs": [],
   "source": [
    "df=pd.DataFrame()\n",
    "df['col1']=x[:,0]\n",
    "df['col2']=x[:,1]\n",
    "df['col3']=x[:,2]\n",
    "df['label']=y\n"
   ]
  },
  {
   "cell_type": "code",
   "execution_count": 69,
   "id": "c6ac68b5",
   "metadata": {},
   "outputs": [
    {
     "data": {
      "application/vnd.plotly.v1+json": {
       "config": {
        "plotlyServerURL": "https://plot.ly"
       },
       "data": [
        {
         "hovertemplate": "col1=%{x}<br>col2=%{y}<br>col3=%{z}<br>label=%{marker.color}<extra></extra>",
         "legendgroup": "",
         "marker": {
          "color": [
           0,
           2,
           3,
           3,
           2,
           2,
           2,
           2,
           2,
           2,
           2,
           1,
           1,
           0,
           3,
           3,
           2,
           0,
           1,
           3,
           1,
           2,
           0,
           2,
           2,
           1,
           1,
           1,
           0,
           1,
           1,
           1,
           1,
           2,
           1,
           0,
           2,
           0,
           0,
           3,
           0,
           3,
           3,
           0,
           2,
           0,
           0,
           1,
           0,
           3,
           2,
           3,
           3,
           2,
           0,
           2,
           3,
           1,
           0,
           0,
           0,
           3,
           0,
           1,
           3,
           1,
           0,
           3,
           3,
           1,
           2,
           1,
           1,
           3,
           0,
           0,
           3,
           0,
           2,
           0,
           1,
           3,
           2,
           0,
           3,
           2,
           3,
           0,
           3,
           3,
           0,
           1,
           1,
           1,
           2,
           2,
           2,
           3,
           1,
           0,
           0,
           1,
           2,
           1,
           1,
           3,
           1,
           3,
           0,
           1,
           1,
           1,
           2,
           1,
           0,
           1,
           3,
           1,
           3,
           2,
           0,
           2,
           0,
           3,
           3,
           3,
           3,
           2,
           0,
           1,
           1,
           0,
           3,
           1,
           3,
           2,
           3,
           0,
           0,
           1,
           1,
           3,
           1,
           1,
           3,
           2,
           0,
           1,
           3,
           1,
           0,
           0,
           3,
           2,
           2,
           1,
           2,
           3,
           2,
           0,
           2,
           3,
           2,
           3,
           2,
           0,
           3,
           1,
           3,
           2,
           3,
           0,
           3,
           3,
           0,
           3,
           0,
           2,
           3,
           1,
           0,
           1,
           3,
           0,
           3,
           2,
           0,
           2,
           2,
           3,
           1,
           2,
           3,
           2,
           0,
           0,
           0,
           1,
           3,
           1
          ],
          "coloraxis": "coloraxis",
          "symbol": "circle"
         },
         "mode": "markers",
         "name": "",
         "scene": "scene",
         "showlegend": false,
         "type": "scatter3d",
         "x": [
          4.099820429458222,
          -5.3388219660291965,
          -3.294872444562935,
          -5.928891924523819,
          -5.419316482152689,
          -5.381516481765086,
          -5.416757847405471,
          -4.491603757316568,
          -4.498142793218687,
          -6.060799036330432,
          -4.248035150785119,
          5.756502143052552,
          5.335908395109359,
          3.4796127082279202,
          -3.659806896276608,
          -2.128377838739635,
          -5.38109251751535,
          2.547102847873341,
          5.514370717465448,
          -3.1005204054093216,
          4.159556987508504,
          -4.502059851633179,
          3.8360659516498585,
          -5.596159699806467,
          -5.429013318509845,
          5.058519935280671,
          3.3477997087584193,
          4.278120273890097,
          3.648349243401486,
          5.975509412228565,
          4.531653740441768,
          3.5466356503432115,
          4.64052554085497,
          -5.90900761492685,
          6.117886733450842,
          4.748450298019977,
          -6.133133273676982,
          4.644855376000609,
          5.330946656984628,
          -1.7169799126597618,
          4.212061227425853,
          -3.607438726275637,
          -3.3188992001165687,
          3.925606211093331,
          -3.7821143669437096,
          4.286146069823288,
          4.431887357892312,
          4.428618392116757,
          2.424971436065259,
          -2.51333975135087,
          -3.59330375833863,
          -3.080383038054719,
          -0.7654836555949511,
          -5.251774118369824,
          5.80237828854235,
          -4.304880394953009,
          -2.1967655670912682,
          3.8656815169693814,
          2.7122504596806993,
          4.3483505668983575,
          2.2191048220573295,
          -5.019579296368879,
          4.370840764608209,
          3.661411120131477,
          -2.1847239181601603,
          4.520014888467349,
          2.9355065679384222,
          -4.508784527447412,
          -4.32826633951391,
          6.0858064040220965,
          -5.747870949293862,
          2.976636060992146,
          5.622220414467932,
          -3.5829295571970947,
          3.827067038018737,
          6.660965969545884,
          -3.486496363974641,
          3.053142103229256,
          -4.56650366992343,
          3.368317596748156,
          5.869598197544945,
          -1.313951324313634,
          -4.457647427850971,
          4.655530589628884,
          -1.8152400310510906,
          -5.829135289014779,
          -3.2455964142526197,
          4.131798923784366,
          -2.36507453782906,
          -2.4147051319354507,
          3.6458400731438214,
          4.381624514912321,
          5.7348846677409515,
          5.05725094652111,
          -4.57617529213412,
          -5.335677338523848,
          -4.618133765873303,
          -1.8207328219759935,
          3.8433008294818585,
          4.217805695126226,
          2.503040312925822,
          4.685382564344069,
          -5.156434170384624,
          4.57347752914473,
          3.6499978973344556,
          -1.6152558057986321,
          4.512069455808136,
          -2.5931978663260873,
          2.95611661863017,
          5.601515813667199,
          2.9303877373345495,
          4.665155874542282,
          -4.497118582841957,
          3.9764850152019697,
          2.8688813174149037,
          9.1086926238052,
          -1.7205199456265021,
          4.635520908387342,
          -2.005964129064743,
          -6.021414730522066,
          3.291296370887485,
          -4.958460607001596,
          5.412600678490776,
          -3.129079150798506,
          -3.089808683415577,
          -0.41331727250223116,
          -2.6973309481247267,
          -6.764917728275756,
          3.192012263251741,
          4.552499123807355,
          3.1495960262085236,
          4.951169899781516,
          -3.1340531276364554,
          6.033029065927622,
          -5.269056960216013,
          -5.077218665352957,
          -1.3755171393075258,
          2.8184693555359743,
          3.541957629196993,
          3.0141542262073546,
          5.121105581578329,
          -3.5881615688012674,
          4.066169338583107,
          4.695333415150343,
          -0.9564636608964303,
          -5.677675577328041,
          3.807525526697261,
          6.8044766415797255,
          -0.21746036045228756,
          6.045477987638505,
          4.5980100387581615,
          3.267102998951223,
          -1.9372951128846245,
          -6.868090654563764,
          -4.673996566613019,
          6.335566168340722,
          -6.187612286385284,
          -3.3936092090801044,
          -4.887273495183351,
          3.787208202160081,
          -7.343603190999962,
          -2.0930122508879005,
          -3.9801452706307625,
          -3.703813469444724,
          -5.403892269337939,
          3.184171956827631,
          -2.3488028246830694,
          4.447050560436778,
          -2.3822034502446683,
          -5.719253841426677,
          -2.951361054350651,
          2.9233890697149656,
          -2.8469405317942984,
          -2.220566243455128,
          4.21352444770112,
          -2.2504864502657034,
          3.0070050885454567,
          -4.619528029784999,
          -3.4100656426225537,
          5.665334277922227,
          1.4250776348372316,
          6.825994457134669,
          -3.2983487290498044,
          1.889500741489037,
          -2.16846035189311,
          -3.3597291915950116,
          2.326844378557216,
          -4.264720423934797,
          -5.276179492250738,
          -1.7202545988886007,
          4.860708117231374,
          -5.560234506237797,
          -3.9687757992872816,
          -3.4155129436043237,
          4.320564332230826,
          3.4345903196609244,
          3.5661264168345026,
          4.347068854861721,
          -4.727341292297463,
          3.6824327302459627
         ],
         "y": [
          -1.9506155345408303,
          -5.236184030852601,
          -2.90528626681923,
          -2.44956176412034,
          -5.132328898436743,
          -4.933510990853855,
          -5.056266827226329,
          -4.783883993736318,
          -5.844213703829862,
          -4.408333479272321,
          -5.993760983118591,
          5.241439628841692,
          6.904375909180253,
          -2.9144085975292957,
          -3.157768362448919,
          -2.313478480013987,
          -5.375669423078993,
          -3.5144630635201635,
          5.829458430613394,
          -0.8851267629367416,
          4.687729330341356,
          -4.873495824693494,
          -2.689044051465752,
          -5.019130496521152,
          -4.303802020388569,
          5.376545911034041,
          4.324338210999169,
          6.9331569663490775,
          -3.1535414440345466,
          5.191573646607778,
          3.745279692887145,
          4.661982222643772,
          6.496951789522486,
          -4.448545955453576,
          4.7257579111364745,
          -3.74572655305435,
          -4.566907445343309,
          -2.6521176868008163,
          -1.559824007262271,
          -2.9070630468138123,
          -4.300716040785922,
          -2.6762861412530987,
          -2.8326392648474488,
          -1.8646362422625384,
          -5.46200534815338,
          -2.3058313043417717,
          -1.0316678672803508,
          5.292432067329935,
          -2.837972149364432,
          -3.2683232495933243,
          -6.737959504384568,
          -3.554915674349907,
          -3.1127515576665696,
          -6.546674611264416,
          -0.8789070223268944,
          -7.033466546122614,
          -3.329874844710405,
          4.292579112436213,
          -2.0752463277247086,
          -3.3831255611139026,
          -2.1901537226152485,
          -1.1088375725806185,
          -1.9071932032188754,
          6.1327460759333485,
          -0.6337917947369862,
          3.9803509005240705,
          -4.587807462288724,
          -2.3037371059183402,
          -2.3610442827394347,
          5.90217939544059,
          -4.990974749026675,
          5.267972576478631,
          5.960781944843228,
          -3.456625520064934,
          -3.9553594449782485,
          -2.3900489871792416,
          -3.094722498919069,
          -1.9788905690234362,
          -3.7216207697281316,
          -1.7924071339590608,
          3.9129094251575585,
          -4.403821142942931,
          -5.313508196993409,
          -2.7545304593445046,
          -4.207539050551093,
          -4.912289781591668,
          -2.4787391501905733,
          -2.082407269473736,
          -4.278600641324842,
          -3.164667277135175,
          -2.900106056477158,
          5.378794465706974,
          3.938634256069162,
          5.159088486650219,
          -4.200820004964985,
          -4.388659220426282,
          -4.433724558557544,
          -2.5176606799904495,
          6.234034681364575,
          -3.438998997738875,
          -2.763388077050488,
          4.406244417117393,
          -4.743429547998704,
          4.851852808822699,
          4.301829002417107,
          -2.116795536539935,
          4.826928834774526,
          -2.3643685839439286,
          -2.3156982606016414,
          5.00365949071447,
          5.610144086406658,
          4.71648048363669,
          -6.245288086607232,
          4.5518251766556315,
          -1.7109403514176864,
          5.821120877311912,
          -1.4734020494349551,
          4.124020522334606,
          -0.9537223541323563,
          -4.5676042990203936,
          -2.362382008695039,
          -6.117925445113517,
          -2.545263203132064,
          -0.6879144728714677,
          -3.3625310861266464,
          -2.8446236706818766,
          -1.4231703504698137,
          -5.114421297030121,
          -1.7192456439773234,
          3.7445727816541416,
          5.33048806399892,
          -3.5649278800787134,
          -2.6544099623581143,
          4.670997565299293,
          -2.7686332111133956,
          -4.175296994563018,
          -3.9978398055076187,
          -2.319933315064787,
          -0.8580853625280531,
          5.365053516440841,
          4.153171248058107,
          -3.2578555532194673,
          4.8250031562652405,
          4.840275869878614,
          -3.8102705289478154,
          -6.439439026738619,
          -3.8696386726262686,
          5.1804098069115465,
          -2.9957788482144947,
          6.369016024400969,
          -3.517878050321956,
          -1.389354719685875,
          -3.082070757454222,
          -3.268815334019532,
          -7.040323048728715,
          5.302629336178099,
          -6.421217227304127,
          -1.7480976448296666,
          -4.629555463336766,
          -1.3104718630956669,
          -3.838478509259227,
          -3.3443082406155313,
          -6.482465477822671,
          -3.7474724316113397,
          -6.384518666535865,
          -3.625903780697406,
          -1.7349305190375308,
          5.299526813180158,
          -3.036685308837512,
          -5.583414594579008,
          -1.9811638730885268,
          -2.0839782509322373,
          -2.0885564836616286,
          -4.322231268440837,
          0.029734874213447338,
          -2.24369160842277,
          -3.5865481528840086,
          -5.2171352687448795,
          -1.3235458073168038,
          4.150004497284934,
          -3.3344373905441147,
          3.285932588903967,
          -2.494342202868581,
          -2.0000602360299524,
          -2.6495913526478985,
          -6.793435585194863,
          -1.9373309218706423,
          -5.6532502677920355,
          -5.516883893732587,
          -4.029138679959726,
          5.032565469312491,
          -5.902246068070502,
          -1.3529000575880588,
          -7.659449456383488,
          -2.989157001260625,
          -1.7338840964649047,
          -1.9644416494164303,
          4.3879052498321895,
          -2.2933101026185,
          2.974406408165413
         ],
         "z": [
          5.383781034869402,
          4.362344987515699,
          2.6222420685039047,
          3.5268267522001144,
          4.960429760306394,
          3.9012610530039433,
          2.863803904331546,
          3.1413876138765024,
          5.000009761471596,
          4.816743426220419,
          6.109143281361648,
          -4.502574351075263,
          -4.91463556657735,
          4.067313412352021,
          2.748551593685672,
          3.84157077581156,
          4.925529237106019,
          2.8847360369623782,
          -4.36937803272288,
          4.394953220379653,
          -2.855321910888963,
          3.5811894488514655,
          3.550671399283676,
          6.175001219500291,
          5.6974162722769295,
          -5.135479764303182,
          -6.067067123783323,
          -6.070796325637174,
          5.408833983962475,
          -5.662209011794249,
          -4.8751763536141555,
          -4.640866668206195,
          -6.53111110759244,
          7.292208012814958,
          -3.258187811527766,
          3.83283122564962,
          4.695913561198685,
          4.829789045885108,
          5.018717046893108,
          3.4751083328798025,
          4.747598941779268,
          3.0172443334671284,
          3.413612044523042,
          6.102229267452569,
          5.350888494087746,
          4.586204097720766,
          3.778679057268708,
          -6.194999894924884,
          4.343212732196548,
          4.291234010000645,
          6.040823953390729,
          2.8172427956851784,
          2.6065579829989245,
          2.9173480642550507,
          4.712683273479498,
          4.810530735287619,
          5.288769406861876,
          -6.221429165095769,
          4.819885116534383,
          5.545386826471849,
          5.548290693962678,
          2.670653557495479,
          2.900702690871576,
          -4.62969515725276,
          3.8175023767243212,
          -5.007601138413295,
          3.784949868324952,
          3.1241036299850484,
          4.119450164665053,
          -4.609703550189238,
          4.121892106759658,
          -5.002206445409661,
          -4.241629652833231,
          3.8166232649434684,
          3.628480875644192,
          2.0864767817029146,
          3.685188157288686,
          3.2918056198169987,
          4.365320694820638,
          4.1140538779273585,
          -4.33577858660437,
          2.8018596216829224,
          5.7710117380694115,
          4.518924924162383,
          3.013430335071158,
          6.000365886550695,
          4.910917514864743,
          5.615176268511638,
          3.4992085104845456,
          5.44068987241511,
          4.815206041437376,
          -4.486748555690667,
          -5.108516823918984,
          -7.374402684066254,
          6.26261366332482,
          5.0479705918681885,
          5.204207978914112,
          4.236040922914249,
          -3.9718151008438562,
          4.62877580719965,
          3.322639508256926,
          -3.8504994322820174,
          4.011220951230378,
          -3.498563084743422,
          -4.760048801727113,
          3.5830058511246765,
          -5.395346401166808,
          3.1172911784258175,
          3.6693241565124226,
          -5.228247558194035,
          -4.576503099557128,
          -4.461575737209381,
          3.942047781137661,
          -7.505458132074395,
          2.3783261970186693,
          -3.468239683683044,
          3.1513339988993376,
          -4.603479841313291,
          4.246857508466808,
          4.676419929923476,
          3.8966478316993247,
          5.539058320580789,
          4.576909717806182,
          1.943734259262961,
          2.257127095757482,
          1.9979207668532442,
          4.437410231860793,
          4.501825806078242,
          2.9441603614341867,
          -4.061836328725856,
          -5.315693210302774,
          2.599154545188439,
          2.250711196187719,
          -6.1510029441411485,
          2.565232423478956,
          6.248212920597034,
          5.902017223300536,
          3.9330689560034826,
          4.311697706662221,
          -4.225917966595301,
          -4.939537550997088,
          3.3562550998431866,
          -6.43714343223078,
          -4.451053440177381,
          4.363433971879587,
          5.524296430010349,
          6.670337244799694,
          -4.446835725842188,
          3.8360371676604053,
          -4.274646740642941,
          2.4706086445037823,
          3.6266611870635326,
          3.925997025125914,
          6.467678010573413,
          5.046255523141697,
          -5.454227854716111,
          4.846504804323051,
          5.896932243552257,
          6.359633862672596,
          4.02120154785712,
          5.386078047603594,
          3.440179887072116,
          5.846311891842079,
          3.9224537503714467,
          6.3672354239271245,
          4.4884966659384204,
          2.0833694809908785,
          -4.447336304395801,
          6.487184575331648,
          4.674950371618214,
          4.3644480051463255,
          3.9421527373581,
          6.326390901121183,
          4.4270174575554755,
          4.837615793966021,
          4.767625082505129,
          3.769082502718902,
          6.173531498494953,
          4.299210669622671,
          -5.8523417966884175,
          3.3422815528924654,
          -5.076639563997369,
          3.679065292167612,
          3.1654847926145218,
          3.757559399868296,
          4.158252634343796,
          3.8354849427065445,
          5.84245628157134,
          4.301410050063612,
          6.792592852398284,
          -6.640560224804842,
          4.409027724530555,
          4.095556984511874,
          4.9085473771093415,
          5.424967034052006,
          3.9383649153779503,
          3.3968592078420086,
          -5.351262461092773,
          3.9291236440417685,
          -5.08224537503313
         ]
        }
       ],
       "layout": {
        "coloraxis": {
         "colorbar": {
          "title": {
           "text": "label"
          }
         },
         "colorscale": [
          [
           0,
           "#0d0887"
          ],
          [
           0.1111111111111111,
           "#46039f"
          ],
          [
           0.2222222222222222,
           "#7201a8"
          ],
          [
           0.3333333333333333,
           "#9c179e"
          ],
          [
           0.4444444444444444,
           "#bd3786"
          ],
          [
           0.5555555555555556,
           "#d8576b"
          ],
          [
           0.6666666666666666,
           "#ed7953"
          ],
          [
           0.7777777777777778,
           "#fb9f3a"
          ],
          [
           0.8888888888888888,
           "#fdca26"
          ],
          [
           1,
           "#f0f921"
          ]
         ]
        },
        "legend": {
         "tracegroupgap": 0
        },
        "margin": {
         "t": 60
        },
        "scene": {
         "domain": {
          "x": [
           0,
           1
          ],
          "y": [
           0,
           1
          ]
         },
         "xaxis": {
          "title": {
           "text": "col1"
          }
         },
         "yaxis": {
          "title": {
           "text": "col2"
          }
         },
         "zaxis": {
          "title": {
           "text": "col3"
          }
         }
        },
        "template": {
         "data": {
          "bar": [
           {
            "error_x": {
             "color": "#2a3f5f"
            },
            "error_y": {
             "color": "#2a3f5f"
            },
            "marker": {
             "line": {
              "color": "#E5ECF6",
              "width": 0.5
             },
             "pattern": {
              "fillmode": "overlay",
              "size": 10,
              "solidity": 0.2
             }
            },
            "type": "bar"
           }
          ],
          "barpolar": [
           {
            "marker": {
             "line": {
              "color": "#E5ECF6",
              "width": 0.5
             },
             "pattern": {
              "fillmode": "overlay",
              "size": 10,
              "solidity": 0.2
             }
            },
            "type": "barpolar"
           }
          ],
          "carpet": [
           {
            "aaxis": {
             "endlinecolor": "#2a3f5f",
             "gridcolor": "white",
             "linecolor": "white",
             "minorgridcolor": "white",
             "startlinecolor": "#2a3f5f"
            },
            "baxis": {
             "endlinecolor": "#2a3f5f",
             "gridcolor": "white",
             "linecolor": "white",
             "minorgridcolor": "white",
             "startlinecolor": "#2a3f5f"
            },
            "type": "carpet"
           }
          ],
          "choropleth": [
           {
            "colorbar": {
             "outlinewidth": 0,
             "ticks": ""
            },
            "type": "choropleth"
           }
          ],
          "contour": [
           {
            "colorbar": {
             "outlinewidth": 0,
             "ticks": ""
            },
            "colorscale": [
             [
              0,
              "#0d0887"
             ],
             [
              0.1111111111111111,
              "#46039f"
             ],
             [
              0.2222222222222222,
              "#7201a8"
             ],
             [
              0.3333333333333333,
              "#9c179e"
             ],
             [
              0.4444444444444444,
              "#bd3786"
             ],
             [
              0.5555555555555556,
              "#d8576b"
             ],
             [
              0.6666666666666666,
              "#ed7953"
             ],
             [
              0.7777777777777778,
              "#fb9f3a"
             ],
             [
              0.8888888888888888,
              "#fdca26"
             ],
             [
              1,
              "#f0f921"
             ]
            ],
            "type": "contour"
           }
          ],
          "contourcarpet": [
           {
            "colorbar": {
             "outlinewidth": 0,
             "ticks": ""
            },
            "type": "contourcarpet"
           }
          ],
          "heatmap": [
           {
            "colorbar": {
             "outlinewidth": 0,
             "ticks": ""
            },
            "colorscale": [
             [
              0,
              "#0d0887"
             ],
             [
              0.1111111111111111,
              "#46039f"
             ],
             [
              0.2222222222222222,
              "#7201a8"
             ],
             [
              0.3333333333333333,
              "#9c179e"
             ],
             [
              0.4444444444444444,
              "#bd3786"
             ],
             [
              0.5555555555555556,
              "#d8576b"
             ],
             [
              0.6666666666666666,
              "#ed7953"
             ],
             [
              0.7777777777777778,
              "#fb9f3a"
             ],
             [
              0.8888888888888888,
              "#fdca26"
             ],
             [
              1,
              "#f0f921"
             ]
            ],
            "type": "heatmap"
           }
          ],
          "heatmapgl": [
           {
            "colorbar": {
             "outlinewidth": 0,
             "ticks": ""
            },
            "colorscale": [
             [
              0,
              "#0d0887"
             ],
             [
              0.1111111111111111,
              "#46039f"
             ],
             [
              0.2222222222222222,
              "#7201a8"
             ],
             [
              0.3333333333333333,
              "#9c179e"
             ],
             [
              0.4444444444444444,
              "#bd3786"
             ],
             [
              0.5555555555555556,
              "#d8576b"
             ],
             [
              0.6666666666666666,
              "#ed7953"
             ],
             [
              0.7777777777777778,
              "#fb9f3a"
             ],
             [
              0.8888888888888888,
              "#fdca26"
             ],
             [
              1,
              "#f0f921"
             ]
            ],
            "type": "heatmapgl"
           }
          ],
          "histogram": [
           {
            "marker": {
             "pattern": {
              "fillmode": "overlay",
              "size": 10,
              "solidity": 0.2
             }
            },
            "type": "histogram"
           }
          ],
          "histogram2d": [
           {
            "colorbar": {
             "outlinewidth": 0,
             "ticks": ""
            },
            "colorscale": [
             [
              0,
              "#0d0887"
             ],
             [
              0.1111111111111111,
              "#46039f"
             ],
             [
              0.2222222222222222,
              "#7201a8"
             ],
             [
              0.3333333333333333,
              "#9c179e"
             ],
             [
              0.4444444444444444,
              "#bd3786"
             ],
             [
              0.5555555555555556,
              "#d8576b"
             ],
             [
              0.6666666666666666,
              "#ed7953"
             ],
             [
              0.7777777777777778,
              "#fb9f3a"
             ],
             [
              0.8888888888888888,
              "#fdca26"
             ],
             [
              1,
              "#f0f921"
             ]
            ],
            "type": "histogram2d"
           }
          ],
          "histogram2dcontour": [
           {
            "colorbar": {
             "outlinewidth": 0,
             "ticks": ""
            },
            "colorscale": [
             [
              0,
              "#0d0887"
             ],
             [
              0.1111111111111111,
              "#46039f"
             ],
             [
              0.2222222222222222,
              "#7201a8"
             ],
             [
              0.3333333333333333,
              "#9c179e"
             ],
             [
              0.4444444444444444,
              "#bd3786"
             ],
             [
              0.5555555555555556,
              "#d8576b"
             ],
             [
              0.6666666666666666,
              "#ed7953"
             ],
             [
              0.7777777777777778,
              "#fb9f3a"
             ],
             [
              0.8888888888888888,
              "#fdca26"
             ],
             [
              1,
              "#f0f921"
             ]
            ],
            "type": "histogram2dcontour"
           }
          ],
          "mesh3d": [
           {
            "colorbar": {
             "outlinewidth": 0,
             "ticks": ""
            },
            "type": "mesh3d"
           }
          ],
          "parcoords": [
           {
            "line": {
             "colorbar": {
              "outlinewidth": 0,
              "ticks": ""
             }
            },
            "type": "parcoords"
           }
          ],
          "pie": [
           {
            "automargin": true,
            "type": "pie"
           }
          ],
          "scatter": [
           {
            "fillpattern": {
             "fillmode": "overlay",
             "size": 10,
             "solidity": 0.2
            },
            "type": "scatter"
           }
          ],
          "scatter3d": [
           {
            "line": {
             "colorbar": {
              "outlinewidth": 0,
              "ticks": ""
             }
            },
            "marker": {
             "colorbar": {
              "outlinewidth": 0,
              "ticks": ""
             }
            },
            "type": "scatter3d"
           }
          ],
          "scattercarpet": [
           {
            "marker": {
             "colorbar": {
              "outlinewidth": 0,
              "ticks": ""
             }
            },
            "type": "scattercarpet"
           }
          ],
          "scattergeo": [
           {
            "marker": {
             "colorbar": {
              "outlinewidth": 0,
              "ticks": ""
             }
            },
            "type": "scattergeo"
           }
          ],
          "scattergl": [
           {
            "marker": {
             "colorbar": {
              "outlinewidth": 0,
              "ticks": ""
             }
            },
            "type": "scattergl"
           }
          ],
          "scattermapbox": [
           {
            "marker": {
             "colorbar": {
              "outlinewidth": 0,
              "ticks": ""
             }
            },
            "type": "scattermapbox"
           }
          ],
          "scatterpolar": [
           {
            "marker": {
             "colorbar": {
              "outlinewidth": 0,
              "ticks": ""
             }
            },
            "type": "scatterpolar"
           }
          ],
          "scatterpolargl": [
           {
            "marker": {
             "colorbar": {
              "outlinewidth": 0,
              "ticks": ""
             }
            },
            "type": "scatterpolargl"
           }
          ],
          "scatterternary": [
           {
            "marker": {
             "colorbar": {
              "outlinewidth": 0,
              "ticks": ""
             }
            },
            "type": "scatterternary"
           }
          ],
          "surface": [
           {
            "colorbar": {
             "outlinewidth": 0,
             "ticks": ""
            },
            "colorscale": [
             [
              0,
              "#0d0887"
             ],
             [
              0.1111111111111111,
              "#46039f"
             ],
             [
              0.2222222222222222,
              "#7201a8"
             ],
             [
              0.3333333333333333,
              "#9c179e"
             ],
             [
              0.4444444444444444,
              "#bd3786"
             ],
             [
              0.5555555555555556,
              "#d8576b"
             ],
             [
              0.6666666666666666,
              "#ed7953"
             ],
             [
              0.7777777777777778,
              "#fb9f3a"
             ],
             [
              0.8888888888888888,
              "#fdca26"
             ],
             [
              1,
              "#f0f921"
             ]
            ],
            "type": "surface"
           }
          ],
          "table": [
           {
            "cells": {
             "fill": {
              "color": "#EBF0F8"
             },
             "line": {
              "color": "white"
             }
            },
            "header": {
             "fill": {
              "color": "#C8D4E3"
             },
             "line": {
              "color": "white"
             }
            },
            "type": "table"
           }
          ]
         },
         "layout": {
          "annotationdefaults": {
           "arrowcolor": "#2a3f5f",
           "arrowhead": 0,
           "arrowwidth": 1
          },
          "autotypenumbers": "strict",
          "coloraxis": {
           "colorbar": {
            "outlinewidth": 0,
            "ticks": ""
           }
          },
          "colorscale": {
           "diverging": [
            [
             0,
             "#8e0152"
            ],
            [
             0.1,
             "#c51b7d"
            ],
            [
             0.2,
             "#de77ae"
            ],
            [
             0.3,
             "#f1b6da"
            ],
            [
             0.4,
             "#fde0ef"
            ],
            [
             0.5,
             "#f7f7f7"
            ],
            [
             0.6,
             "#e6f5d0"
            ],
            [
             0.7,
             "#b8e186"
            ],
            [
             0.8,
             "#7fbc41"
            ],
            [
             0.9,
             "#4d9221"
            ],
            [
             1,
             "#276419"
            ]
           ],
           "sequential": [
            [
             0,
             "#0d0887"
            ],
            [
             0.1111111111111111,
             "#46039f"
            ],
            [
             0.2222222222222222,
             "#7201a8"
            ],
            [
             0.3333333333333333,
             "#9c179e"
            ],
            [
             0.4444444444444444,
             "#bd3786"
            ],
            [
             0.5555555555555556,
             "#d8576b"
            ],
            [
             0.6666666666666666,
             "#ed7953"
            ],
            [
             0.7777777777777778,
             "#fb9f3a"
            ],
            [
             0.8888888888888888,
             "#fdca26"
            ],
            [
             1,
             "#f0f921"
            ]
           ],
           "sequentialminus": [
            [
             0,
             "#0d0887"
            ],
            [
             0.1111111111111111,
             "#46039f"
            ],
            [
             0.2222222222222222,
             "#7201a8"
            ],
            [
             0.3333333333333333,
             "#9c179e"
            ],
            [
             0.4444444444444444,
             "#bd3786"
            ],
            [
             0.5555555555555556,
             "#d8576b"
            ],
            [
             0.6666666666666666,
             "#ed7953"
            ],
            [
             0.7777777777777778,
             "#fb9f3a"
            ],
            [
             0.8888888888888888,
             "#fdca26"
            ],
            [
             1,
             "#f0f921"
            ]
           ]
          },
          "colorway": [
           "#636efa",
           "#EF553B",
           "#00cc96",
           "#ab63fa",
           "#FFA15A",
           "#19d3f3",
           "#FF6692",
           "#B6E880",
           "#FF97FF",
           "#FECB52"
          ],
          "font": {
           "color": "#2a3f5f"
          },
          "geo": {
           "bgcolor": "white",
           "lakecolor": "white",
           "landcolor": "#E5ECF6",
           "showlakes": true,
           "showland": true,
           "subunitcolor": "white"
          },
          "hoverlabel": {
           "align": "left"
          },
          "hovermode": "closest",
          "mapbox": {
           "style": "light"
          },
          "paper_bgcolor": "white",
          "plot_bgcolor": "#E5ECF6",
          "polar": {
           "angularaxis": {
            "gridcolor": "white",
            "linecolor": "white",
            "ticks": ""
           },
           "bgcolor": "#E5ECF6",
           "radialaxis": {
            "gridcolor": "white",
            "linecolor": "white",
            "ticks": ""
           }
          },
          "scene": {
           "xaxis": {
            "backgroundcolor": "#E5ECF6",
            "gridcolor": "white",
            "gridwidth": 2,
            "linecolor": "white",
            "showbackground": true,
            "ticks": "",
            "zerolinecolor": "white"
           },
           "yaxis": {
            "backgroundcolor": "#E5ECF6",
            "gridcolor": "white",
            "gridwidth": 2,
            "linecolor": "white",
            "showbackground": true,
            "ticks": "",
            "zerolinecolor": "white"
           },
           "zaxis": {
            "backgroundcolor": "#E5ECF6",
            "gridcolor": "white",
            "gridwidth": 2,
            "linecolor": "white",
            "showbackground": true,
            "ticks": "",
            "zerolinecolor": "white"
           }
          },
          "shapedefaults": {
           "line": {
            "color": "#2a3f5f"
           }
          },
          "ternary": {
           "aaxis": {
            "gridcolor": "white",
            "linecolor": "white",
            "ticks": ""
           },
           "baxis": {
            "gridcolor": "white",
            "linecolor": "white",
            "ticks": ""
           },
           "bgcolor": "#E5ECF6",
           "caxis": {
            "gridcolor": "white",
            "linecolor": "white",
            "ticks": ""
           }
          },
          "title": {
           "x": 0.05
          },
          "xaxis": {
           "automargin": true,
           "gridcolor": "white",
           "linecolor": "white",
           "ticks": "",
           "title": {
            "standoff": 15
           },
           "zerolinecolor": "white",
           "zerolinewidth": 2
          },
          "yaxis": {
           "automargin": true,
           "gridcolor": "white",
           "linecolor": "white",
           "ticks": "",
           "title": {
            "standoff": 15
           },
           "zerolinecolor": "white",
           "zerolinewidth": 2
          }
         }
        }
       }
      },
      "text/html": [
       "<div>                            <div id=\"a1a7ee44-3d61-461e-9da6-7233cb37c95b\" class=\"plotly-graph-div\" style=\"height:525px; width:100%;\"></div>            <script type=\"text/javascript\">                require([\"plotly\"], function(Plotly) {                    window.PLOTLYENV=window.PLOTLYENV || {};                                    if (document.getElementById(\"a1a7ee44-3d61-461e-9da6-7233cb37c95b\")) {                    Plotly.newPlot(                        \"a1a7ee44-3d61-461e-9da6-7233cb37c95b\",                        [{\"hovertemplate\":\"col1=%{x}<br>col2=%{y}<br>col3=%{z}<br>label=%{marker.color}<extra></extra>\",\"legendgroup\":\"\",\"marker\":{\"color\":[0,2,3,3,2,2,2,2,2,2,2,1,1,0,3,3,2,0,1,3,1,2,0,2,2,1,1,1,0,1,1,1,1,2,1,0,2,0,0,3,0,3,3,0,2,0,0,1,0,3,2,3,3,2,0,2,3,1,0,0,0,3,0,1,3,1,0,3,3,1,2,1,1,3,0,0,3,0,2,0,1,3,2,0,3,2,3,0,3,3,0,1,1,1,2,2,2,3,1,0,0,1,2,1,1,3,1,3,0,1,1,1,2,1,0,1,3,1,3,2,0,2,0,3,3,3,3,2,0,1,1,0,3,1,3,2,3,0,0,1,1,3,1,1,3,2,0,1,3,1,0,0,3,2,2,1,2,3,2,0,2,3,2,3,2,0,3,1,3,2,3,0,3,3,0,3,0,2,3,1,0,1,3,0,3,2,0,2,2,3,1,2,3,2,0,0,0,1,3,1],\"coloraxis\":\"coloraxis\",\"symbol\":\"circle\"},\"mode\":\"markers\",\"name\":\"\",\"scene\":\"scene\",\"showlegend\":false,\"x\":[4.099820429458222,-5.3388219660291965,-3.294872444562935,-5.928891924523819,-5.419316482152689,-5.381516481765086,-5.416757847405471,-4.491603757316568,-4.498142793218687,-6.060799036330432,-4.248035150785119,5.756502143052552,5.335908395109359,3.4796127082279202,-3.659806896276608,-2.128377838739635,-5.38109251751535,2.547102847873341,5.514370717465448,-3.1005204054093216,4.159556987508504,-4.502059851633179,3.8360659516498585,-5.596159699806467,-5.429013318509845,5.058519935280671,3.3477997087584193,4.278120273890097,3.648349243401486,5.975509412228565,4.531653740441768,3.5466356503432115,4.64052554085497,-5.90900761492685,6.117886733450842,4.748450298019977,-6.133133273676982,4.644855376000609,5.330946656984628,-1.7169799126597618,4.212061227425853,-3.607438726275637,-3.3188992001165687,3.925606211093331,-3.7821143669437096,4.286146069823288,4.431887357892312,4.428618392116757,2.424971436065259,-2.51333975135087,-3.59330375833863,-3.080383038054719,-0.7654836555949511,-5.251774118369824,5.80237828854235,-4.304880394953009,-2.1967655670912682,3.8656815169693814,2.7122504596806993,4.3483505668983575,2.2191048220573295,-5.019579296368879,4.370840764608209,3.661411120131477,-2.1847239181601603,4.520014888467349,2.9355065679384222,-4.508784527447412,-4.32826633951391,6.0858064040220965,-5.747870949293862,2.976636060992146,5.622220414467932,-3.5829295571970947,3.827067038018737,6.660965969545884,-3.486496363974641,3.053142103229256,-4.56650366992343,3.368317596748156,5.869598197544945,-1.313951324313634,-4.457647427850971,4.655530589628884,-1.8152400310510906,-5.829135289014779,-3.2455964142526197,4.131798923784366,-2.36507453782906,-2.4147051319354507,3.6458400731438214,4.381624514912321,5.7348846677409515,5.05725094652111,-4.57617529213412,-5.335677338523848,-4.618133765873303,-1.8207328219759935,3.8433008294818585,4.217805695126226,2.503040312925822,4.685382564344069,-5.156434170384624,4.57347752914473,3.6499978973344556,-1.6152558057986321,4.512069455808136,-2.5931978663260873,2.95611661863017,5.601515813667199,2.9303877373345495,4.665155874542282,-4.497118582841957,3.9764850152019697,2.8688813174149037,9.1086926238052,-1.7205199456265021,4.635520908387342,-2.005964129064743,-6.021414730522066,3.291296370887485,-4.958460607001596,5.412600678490776,-3.129079150798506,-3.089808683415577,-0.41331727250223116,-2.6973309481247267,-6.764917728275756,3.192012263251741,4.552499123807355,3.1495960262085236,4.951169899781516,-3.1340531276364554,6.033029065927622,-5.269056960216013,-5.077218665352957,-1.3755171393075258,2.8184693555359743,3.541957629196993,3.0141542262073546,5.121105581578329,-3.5881615688012674,4.066169338583107,4.695333415150343,-0.9564636608964303,-5.677675577328041,3.807525526697261,6.8044766415797255,-0.21746036045228756,6.045477987638505,4.5980100387581615,3.267102998951223,-1.9372951128846245,-6.868090654563764,-4.673996566613019,6.335566168340722,-6.187612286385284,-3.3936092090801044,-4.887273495183351,3.787208202160081,-7.343603190999962,-2.0930122508879005,-3.9801452706307625,-3.703813469444724,-5.403892269337939,3.184171956827631,-2.3488028246830694,4.447050560436778,-2.3822034502446683,-5.719253841426677,-2.951361054350651,2.9233890697149656,-2.8469405317942984,-2.220566243455128,4.21352444770112,-2.2504864502657034,3.0070050885454567,-4.619528029784999,-3.4100656426225537,5.665334277922227,1.4250776348372316,6.825994457134669,-3.2983487290498044,1.889500741489037,-2.16846035189311,-3.3597291915950116,2.326844378557216,-4.264720423934797,-5.276179492250738,-1.7202545988886007,4.860708117231374,-5.560234506237797,-3.9687757992872816,-3.4155129436043237,4.320564332230826,3.4345903196609244,3.5661264168345026,4.347068854861721,-4.727341292297463,3.6824327302459627],\"y\":[-1.9506155345408303,-5.236184030852601,-2.90528626681923,-2.44956176412034,-5.132328898436743,-4.933510990853855,-5.056266827226329,-4.783883993736318,-5.844213703829862,-4.408333479272321,-5.993760983118591,5.241439628841692,6.904375909180253,-2.9144085975292957,-3.157768362448919,-2.313478480013987,-5.375669423078993,-3.5144630635201635,5.829458430613394,-0.8851267629367416,4.687729330341356,-4.873495824693494,-2.689044051465752,-5.019130496521152,-4.303802020388569,5.376545911034041,4.324338210999169,6.9331569663490775,-3.1535414440345466,5.191573646607778,3.745279692887145,4.661982222643772,6.496951789522486,-4.448545955453576,4.7257579111364745,-3.74572655305435,-4.566907445343309,-2.6521176868008163,-1.559824007262271,-2.9070630468138123,-4.300716040785922,-2.6762861412530987,-2.8326392648474488,-1.8646362422625384,-5.46200534815338,-2.3058313043417717,-1.0316678672803508,5.292432067329935,-2.837972149364432,-3.2683232495933243,-6.737959504384568,-3.554915674349907,-3.1127515576665696,-6.546674611264416,-0.8789070223268944,-7.033466546122614,-3.329874844710405,4.292579112436213,-2.0752463277247086,-3.3831255611139026,-2.1901537226152485,-1.1088375725806185,-1.9071932032188754,6.1327460759333485,-0.6337917947369862,3.9803509005240705,-4.587807462288724,-2.3037371059183402,-2.3610442827394347,5.90217939544059,-4.990974749026675,5.267972576478631,5.960781944843228,-3.456625520064934,-3.9553594449782485,-2.3900489871792416,-3.094722498919069,-1.9788905690234362,-3.7216207697281316,-1.7924071339590608,3.9129094251575585,-4.403821142942931,-5.313508196993409,-2.7545304593445046,-4.207539050551093,-4.912289781591668,-2.4787391501905733,-2.082407269473736,-4.278600641324842,-3.164667277135175,-2.900106056477158,5.378794465706974,3.938634256069162,5.159088486650219,-4.200820004964985,-4.388659220426282,-4.433724558557544,-2.5176606799904495,6.234034681364575,-3.438998997738875,-2.763388077050488,4.406244417117393,-4.743429547998704,4.851852808822699,4.301829002417107,-2.116795536539935,4.826928834774526,-2.3643685839439286,-2.3156982606016414,5.00365949071447,5.610144086406658,4.71648048363669,-6.245288086607232,4.5518251766556315,-1.7109403514176864,5.821120877311912,-1.4734020494349551,4.124020522334606,-0.9537223541323563,-4.5676042990203936,-2.362382008695039,-6.117925445113517,-2.545263203132064,-0.6879144728714677,-3.3625310861266464,-2.8446236706818766,-1.4231703504698137,-5.114421297030121,-1.7192456439773234,3.7445727816541416,5.33048806399892,-3.5649278800787134,-2.6544099623581143,4.670997565299293,-2.7686332111133956,-4.175296994563018,-3.9978398055076187,-2.319933315064787,-0.8580853625280531,5.365053516440841,4.153171248058107,-3.2578555532194673,4.8250031562652405,4.840275869878614,-3.8102705289478154,-6.439439026738619,-3.8696386726262686,5.1804098069115465,-2.9957788482144947,6.369016024400969,-3.517878050321956,-1.389354719685875,-3.082070757454222,-3.268815334019532,-7.040323048728715,5.302629336178099,-6.421217227304127,-1.7480976448296666,-4.629555463336766,-1.3104718630956669,-3.838478509259227,-3.3443082406155313,-6.482465477822671,-3.7474724316113397,-6.384518666535865,-3.625903780697406,-1.7349305190375308,5.299526813180158,-3.036685308837512,-5.583414594579008,-1.9811638730885268,-2.0839782509322373,-2.0885564836616286,-4.322231268440837,0.029734874213447338,-2.24369160842277,-3.5865481528840086,-5.2171352687448795,-1.3235458073168038,4.150004497284934,-3.3344373905441147,3.285932588903967,-2.494342202868581,-2.0000602360299524,-2.6495913526478985,-6.793435585194863,-1.9373309218706423,-5.6532502677920355,-5.516883893732587,-4.029138679959726,5.032565469312491,-5.902246068070502,-1.3529000575880588,-7.659449456383488,-2.989157001260625,-1.7338840964649047,-1.9644416494164303,4.3879052498321895,-2.2933101026185,2.974406408165413],\"z\":[5.383781034869402,4.362344987515699,2.6222420685039047,3.5268267522001144,4.960429760306394,3.9012610530039433,2.863803904331546,3.1413876138765024,5.000009761471596,4.816743426220419,6.109143281361648,-4.502574351075263,-4.91463556657735,4.067313412352021,2.748551593685672,3.84157077581156,4.925529237106019,2.8847360369623782,-4.36937803272288,4.394953220379653,-2.855321910888963,3.5811894488514655,3.550671399283676,6.175001219500291,5.6974162722769295,-5.135479764303182,-6.067067123783323,-6.070796325637174,5.408833983962475,-5.662209011794249,-4.8751763536141555,-4.640866668206195,-6.53111110759244,7.292208012814958,-3.258187811527766,3.83283122564962,4.695913561198685,4.829789045885108,5.018717046893108,3.4751083328798025,4.747598941779268,3.0172443334671284,3.413612044523042,6.102229267452569,5.350888494087746,4.586204097720766,3.778679057268708,-6.194999894924884,4.343212732196548,4.291234010000645,6.040823953390729,2.8172427956851784,2.6065579829989245,2.9173480642550507,4.712683273479498,4.810530735287619,5.288769406861876,-6.221429165095769,4.819885116534383,5.545386826471849,5.548290693962678,2.670653557495479,2.900702690871576,-4.62969515725276,3.8175023767243212,-5.007601138413295,3.784949868324952,3.1241036299850484,4.119450164665053,-4.609703550189238,4.121892106759658,-5.002206445409661,-4.241629652833231,3.8166232649434684,3.628480875644192,2.0864767817029146,3.685188157288686,3.2918056198169987,4.365320694820638,4.1140538779273585,-4.33577858660437,2.8018596216829224,5.7710117380694115,4.518924924162383,3.013430335071158,6.000365886550695,4.910917514864743,5.615176268511638,3.4992085104845456,5.44068987241511,4.815206041437376,-4.486748555690667,-5.108516823918984,-7.374402684066254,6.26261366332482,5.0479705918681885,5.204207978914112,4.236040922914249,-3.9718151008438562,4.62877580719965,3.322639508256926,-3.8504994322820174,4.011220951230378,-3.498563084743422,-4.760048801727113,3.5830058511246765,-5.395346401166808,3.1172911784258175,3.6693241565124226,-5.228247558194035,-4.576503099557128,-4.461575737209381,3.942047781137661,-7.505458132074395,2.3783261970186693,-3.468239683683044,3.1513339988993376,-4.603479841313291,4.246857508466808,4.676419929923476,3.8966478316993247,5.539058320580789,4.576909717806182,1.943734259262961,2.257127095757482,1.9979207668532442,4.437410231860793,4.501825806078242,2.9441603614341867,-4.061836328725856,-5.315693210302774,2.599154545188439,2.250711196187719,-6.1510029441411485,2.565232423478956,6.248212920597034,5.902017223300536,3.9330689560034826,4.311697706662221,-4.225917966595301,-4.939537550997088,3.3562550998431866,-6.43714343223078,-4.451053440177381,4.363433971879587,5.524296430010349,6.670337244799694,-4.446835725842188,3.8360371676604053,-4.274646740642941,2.4706086445037823,3.6266611870635326,3.925997025125914,6.467678010573413,5.046255523141697,-5.454227854716111,4.846504804323051,5.896932243552257,6.359633862672596,4.02120154785712,5.386078047603594,3.440179887072116,5.846311891842079,3.9224537503714467,6.3672354239271245,4.4884966659384204,2.0833694809908785,-4.447336304395801,6.487184575331648,4.674950371618214,4.3644480051463255,3.9421527373581,6.326390901121183,4.4270174575554755,4.837615793966021,4.767625082505129,3.769082502718902,6.173531498494953,4.299210669622671,-5.8523417966884175,3.3422815528924654,-5.076639563997369,3.679065292167612,3.1654847926145218,3.757559399868296,4.158252634343796,3.8354849427065445,5.84245628157134,4.301410050063612,6.792592852398284,-6.640560224804842,4.409027724530555,4.095556984511874,4.9085473771093415,5.424967034052006,3.9383649153779503,3.3968592078420086,-5.351262461092773,3.9291236440417685,-5.08224537503313],\"type\":\"scatter3d\"}],                        {\"template\":{\"data\":{\"histogram2dcontour\":[{\"type\":\"histogram2dcontour\",\"colorbar\":{\"outlinewidth\":0,\"ticks\":\"\"},\"colorscale\":[[0.0,\"#0d0887\"],[0.1111111111111111,\"#46039f\"],[0.2222222222222222,\"#7201a8\"],[0.3333333333333333,\"#9c179e\"],[0.4444444444444444,\"#bd3786\"],[0.5555555555555556,\"#d8576b\"],[0.6666666666666666,\"#ed7953\"],[0.7777777777777778,\"#fb9f3a\"],[0.8888888888888888,\"#fdca26\"],[1.0,\"#f0f921\"]]}],\"choropleth\":[{\"type\":\"choropleth\",\"colorbar\":{\"outlinewidth\":0,\"ticks\":\"\"}}],\"histogram2d\":[{\"type\":\"histogram2d\",\"colorbar\":{\"outlinewidth\":0,\"ticks\":\"\"},\"colorscale\":[[0.0,\"#0d0887\"],[0.1111111111111111,\"#46039f\"],[0.2222222222222222,\"#7201a8\"],[0.3333333333333333,\"#9c179e\"],[0.4444444444444444,\"#bd3786\"],[0.5555555555555556,\"#d8576b\"],[0.6666666666666666,\"#ed7953\"],[0.7777777777777778,\"#fb9f3a\"],[0.8888888888888888,\"#fdca26\"],[1.0,\"#f0f921\"]]}],\"heatmap\":[{\"type\":\"heatmap\",\"colorbar\":{\"outlinewidth\":0,\"ticks\":\"\"},\"colorscale\":[[0.0,\"#0d0887\"],[0.1111111111111111,\"#46039f\"],[0.2222222222222222,\"#7201a8\"],[0.3333333333333333,\"#9c179e\"],[0.4444444444444444,\"#bd3786\"],[0.5555555555555556,\"#d8576b\"],[0.6666666666666666,\"#ed7953\"],[0.7777777777777778,\"#fb9f3a\"],[0.8888888888888888,\"#fdca26\"],[1.0,\"#f0f921\"]]}],\"heatmapgl\":[{\"type\":\"heatmapgl\",\"colorbar\":{\"outlinewidth\":0,\"ticks\":\"\"},\"colorscale\":[[0.0,\"#0d0887\"],[0.1111111111111111,\"#46039f\"],[0.2222222222222222,\"#7201a8\"],[0.3333333333333333,\"#9c179e\"],[0.4444444444444444,\"#bd3786\"],[0.5555555555555556,\"#d8576b\"],[0.6666666666666666,\"#ed7953\"],[0.7777777777777778,\"#fb9f3a\"],[0.8888888888888888,\"#fdca26\"],[1.0,\"#f0f921\"]]}],\"contourcarpet\":[{\"type\":\"contourcarpet\",\"colorbar\":{\"outlinewidth\":0,\"ticks\":\"\"}}],\"contour\":[{\"type\":\"contour\",\"colorbar\":{\"outlinewidth\":0,\"ticks\":\"\"},\"colorscale\":[[0.0,\"#0d0887\"],[0.1111111111111111,\"#46039f\"],[0.2222222222222222,\"#7201a8\"],[0.3333333333333333,\"#9c179e\"],[0.4444444444444444,\"#bd3786\"],[0.5555555555555556,\"#d8576b\"],[0.6666666666666666,\"#ed7953\"],[0.7777777777777778,\"#fb9f3a\"],[0.8888888888888888,\"#fdca26\"],[1.0,\"#f0f921\"]]}],\"surface\":[{\"type\":\"surface\",\"colorbar\":{\"outlinewidth\":0,\"ticks\":\"\"},\"colorscale\":[[0.0,\"#0d0887\"],[0.1111111111111111,\"#46039f\"],[0.2222222222222222,\"#7201a8\"],[0.3333333333333333,\"#9c179e\"],[0.4444444444444444,\"#bd3786\"],[0.5555555555555556,\"#d8576b\"],[0.6666666666666666,\"#ed7953\"],[0.7777777777777778,\"#fb9f3a\"],[0.8888888888888888,\"#fdca26\"],[1.0,\"#f0f921\"]]}],\"mesh3d\":[{\"type\":\"mesh3d\",\"colorbar\":{\"outlinewidth\":0,\"ticks\":\"\"}}],\"scatter\":[{\"fillpattern\":{\"fillmode\":\"overlay\",\"size\":10,\"solidity\":0.2},\"type\":\"scatter\"}],\"parcoords\":[{\"type\":\"parcoords\",\"line\":{\"colorbar\":{\"outlinewidth\":0,\"ticks\":\"\"}}}],\"scatterpolargl\":[{\"type\":\"scatterpolargl\",\"marker\":{\"colorbar\":{\"outlinewidth\":0,\"ticks\":\"\"}}}],\"bar\":[{\"error_x\":{\"color\":\"#2a3f5f\"},\"error_y\":{\"color\":\"#2a3f5f\"},\"marker\":{\"line\":{\"color\":\"#E5ECF6\",\"width\":0.5},\"pattern\":{\"fillmode\":\"overlay\",\"size\":10,\"solidity\":0.2}},\"type\":\"bar\"}],\"scattergeo\":[{\"type\":\"scattergeo\",\"marker\":{\"colorbar\":{\"outlinewidth\":0,\"ticks\":\"\"}}}],\"scatterpolar\":[{\"type\":\"scatterpolar\",\"marker\":{\"colorbar\":{\"outlinewidth\":0,\"ticks\":\"\"}}}],\"histogram\":[{\"marker\":{\"pattern\":{\"fillmode\":\"overlay\",\"size\":10,\"solidity\":0.2}},\"type\":\"histogram\"}],\"scattergl\":[{\"type\":\"scattergl\",\"marker\":{\"colorbar\":{\"outlinewidth\":0,\"ticks\":\"\"}}}],\"scatter3d\":[{\"type\":\"scatter3d\",\"line\":{\"colorbar\":{\"outlinewidth\":0,\"ticks\":\"\"}},\"marker\":{\"colorbar\":{\"outlinewidth\":0,\"ticks\":\"\"}}}],\"scattermapbox\":[{\"type\":\"scattermapbox\",\"marker\":{\"colorbar\":{\"outlinewidth\":0,\"ticks\":\"\"}}}],\"scatterternary\":[{\"type\":\"scatterternary\",\"marker\":{\"colorbar\":{\"outlinewidth\":0,\"ticks\":\"\"}}}],\"scattercarpet\":[{\"type\":\"scattercarpet\",\"marker\":{\"colorbar\":{\"outlinewidth\":0,\"ticks\":\"\"}}}],\"carpet\":[{\"aaxis\":{\"endlinecolor\":\"#2a3f5f\",\"gridcolor\":\"white\",\"linecolor\":\"white\",\"minorgridcolor\":\"white\",\"startlinecolor\":\"#2a3f5f\"},\"baxis\":{\"endlinecolor\":\"#2a3f5f\",\"gridcolor\":\"white\",\"linecolor\":\"white\",\"minorgridcolor\":\"white\",\"startlinecolor\":\"#2a3f5f\"},\"type\":\"carpet\"}],\"table\":[{\"cells\":{\"fill\":{\"color\":\"#EBF0F8\"},\"line\":{\"color\":\"white\"}},\"header\":{\"fill\":{\"color\":\"#C8D4E3\"},\"line\":{\"color\":\"white\"}},\"type\":\"table\"}],\"barpolar\":[{\"marker\":{\"line\":{\"color\":\"#E5ECF6\",\"width\":0.5},\"pattern\":{\"fillmode\":\"overlay\",\"size\":10,\"solidity\":0.2}},\"type\":\"barpolar\"}],\"pie\":[{\"automargin\":true,\"type\":\"pie\"}]},\"layout\":{\"autotypenumbers\":\"strict\",\"colorway\":[\"#636efa\",\"#EF553B\",\"#00cc96\",\"#ab63fa\",\"#FFA15A\",\"#19d3f3\",\"#FF6692\",\"#B6E880\",\"#FF97FF\",\"#FECB52\"],\"font\":{\"color\":\"#2a3f5f\"},\"hovermode\":\"closest\",\"hoverlabel\":{\"align\":\"left\"},\"paper_bgcolor\":\"white\",\"plot_bgcolor\":\"#E5ECF6\",\"polar\":{\"bgcolor\":\"#E5ECF6\",\"angularaxis\":{\"gridcolor\":\"white\",\"linecolor\":\"white\",\"ticks\":\"\"},\"radialaxis\":{\"gridcolor\":\"white\",\"linecolor\":\"white\",\"ticks\":\"\"}},\"ternary\":{\"bgcolor\":\"#E5ECF6\",\"aaxis\":{\"gridcolor\":\"white\",\"linecolor\":\"white\",\"ticks\":\"\"},\"baxis\":{\"gridcolor\":\"white\",\"linecolor\":\"white\",\"ticks\":\"\"},\"caxis\":{\"gridcolor\":\"white\",\"linecolor\":\"white\",\"ticks\":\"\"}},\"coloraxis\":{\"colorbar\":{\"outlinewidth\":0,\"ticks\":\"\"}},\"colorscale\":{\"sequential\":[[0.0,\"#0d0887\"],[0.1111111111111111,\"#46039f\"],[0.2222222222222222,\"#7201a8\"],[0.3333333333333333,\"#9c179e\"],[0.4444444444444444,\"#bd3786\"],[0.5555555555555556,\"#d8576b\"],[0.6666666666666666,\"#ed7953\"],[0.7777777777777778,\"#fb9f3a\"],[0.8888888888888888,\"#fdca26\"],[1.0,\"#f0f921\"]],\"sequentialminus\":[[0.0,\"#0d0887\"],[0.1111111111111111,\"#46039f\"],[0.2222222222222222,\"#7201a8\"],[0.3333333333333333,\"#9c179e\"],[0.4444444444444444,\"#bd3786\"],[0.5555555555555556,\"#d8576b\"],[0.6666666666666666,\"#ed7953\"],[0.7777777777777778,\"#fb9f3a\"],[0.8888888888888888,\"#fdca26\"],[1.0,\"#f0f921\"]],\"diverging\":[[0,\"#8e0152\"],[0.1,\"#c51b7d\"],[0.2,\"#de77ae\"],[0.3,\"#f1b6da\"],[0.4,\"#fde0ef\"],[0.5,\"#f7f7f7\"],[0.6,\"#e6f5d0\"],[0.7,\"#b8e186\"],[0.8,\"#7fbc41\"],[0.9,\"#4d9221\"],[1,\"#276419\"]]},\"xaxis\":{\"gridcolor\":\"white\",\"linecolor\":\"white\",\"ticks\":\"\",\"title\":{\"standoff\":15},\"zerolinecolor\":\"white\",\"automargin\":true,\"zerolinewidth\":2},\"yaxis\":{\"gridcolor\":\"white\",\"linecolor\":\"white\",\"ticks\":\"\",\"title\":{\"standoff\":15},\"zerolinecolor\":\"white\",\"automargin\":true,\"zerolinewidth\":2},\"scene\":{\"xaxis\":{\"backgroundcolor\":\"#E5ECF6\",\"gridcolor\":\"white\",\"linecolor\":\"white\",\"showbackground\":true,\"ticks\":\"\",\"zerolinecolor\":\"white\",\"gridwidth\":2},\"yaxis\":{\"backgroundcolor\":\"#E5ECF6\",\"gridcolor\":\"white\",\"linecolor\":\"white\",\"showbackground\":true,\"ticks\":\"\",\"zerolinecolor\":\"white\",\"gridwidth\":2},\"zaxis\":{\"backgroundcolor\":\"#E5ECF6\",\"gridcolor\":\"white\",\"linecolor\":\"white\",\"showbackground\":true,\"ticks\":\"\",\"zerolinecolor\":\"white\",\"gridwidth\":2}},\"shapedefaults\":{\"line\":{\"color\":\"#2a3f5f\"}},\"annotationdefaults\":{\"arrowcolor\":\"#2a3f5f\",\"arrowhead\":0,\"arrowwidth\":1},\"geo\":{\"bgcolor\":\"white\",\"landcolor\":\"#E5ECF6\",\"subunitcolor\":\"white\",\"showland\":true,\"showlakes\":true,\"lakecolor\":\"white\"},\"title\":{\"x\":0.05},\"mapbox\":{\"style\":\"light\"}}},\"scene\":{\"domain\":{\"x\":[0.0,1.0],\"y\":[0.0,1.0]},\"xaxis\":{\"title\":{\"text\":\"col1\"}},\"yaxis\":{\"title\":{\"text\":\"col2\"}},\"zaxis\":{\"title\":{\"text\":\"col3\"}}},\"coloraxis\":{\"colorbar\":{\"title\":{\"text\":\"label\"}},\"colorscale\":[[0.0,\"#0d0887\"],[0.1111111111111111,\"#46039f\"],[0.2222222222222222,\"#7201a8\"],[0.3333333333333333,\"#9c179e\"],[0.4444444444444444,\"#bd3786\"],[0.5555555555555556,\"#d8576b\"],[0.6666666666666666,\"#ed7953\"],[0.7777777777777778,\"#fb9f3a\"],[0.8888888888888888,\"#fdca26\"],[1.0,\"#f0f921\"]]},\"legend\":{\"tracegroupgap\":0},\"margin\":{\"t\":60}},                        {\"responsive\": true}                    ).then(function(){\n",
       "                            \n",
       "var gd = document.getElementById('a1a7ee44-3d61-461e-9da6-7233cb37c95b');\n",
       "var x = new MutationObserver(function (mutations, observer) {{\n",
       "        var display = window.getComputedStyle(gd).display;\n",
       "        if (!display || display === 'none') {{\n",
       "            console.log([gd, 'removed!']);\n",
       "            Plotly.purge(gd);\n",
       "            observer.disconnect();\n",
       "        }}\n",
       "}});\n",
       "\n",
       "// Listen for the removal of the full notebook cells\n",
       "var notebookContainer = gd.closest('#notebook-container');\n",
       "if (notebookContainer) {{\n",
       "    x.observe(notebookContainer, {childList: true});\n",
       "}}\n",
       "\n",
       "// Listen for the clearing of the current output cell\n",
       "var outputEl = gd.closest('.output');\n",
       "if (outputEl) {{\n",
       "    x.observe(outputEl, {childList: true});\n",
       "}}\n",
       "\n",
       "                        })                };                });            </script>        </div>"
      ]
     },
     "metadata": {},
     "output_type": "display_data"
    }
   ],
   "source": [
    "fig=px.scatter_3d(df,x='col1',y='col2',z='col3',color='label')\n",
    "fig.show()"
   ]
  },
  {
   "cell_type": "code",
   "execution_count": null,
   "id": "4e3375a2",
   "metadata": {},
   "outputs": [],
   "source": []
  }
 ],
 "metadata": {
  "kernelspec": {
   "display_name": "Python 3 (ipykernel)",
   "language": "python",
   "name": "python3"
  },
  "language_info": {
   "codemirror_mode": {
    "name": "ipython",
    "version": 3
   },
   "file_extension": ".py",
   "mimetype": "text/x-python",
   "name": "python",
   "nbconvert_exporter": "python",
   "pygments_lexer": "ipython3",
   "version": "3.11.5"
  }
 },
 "nbformat": 4,
 "nbformat_minor": 5
}
